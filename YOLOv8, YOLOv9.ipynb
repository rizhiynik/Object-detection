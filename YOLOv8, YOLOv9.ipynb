{
  "cells": [
    {
      "cell_type": "markdown",
      "metadata": {
        "id": "kV6FWzvKWiJk"
      },
      "source": [
        "### Импорты"
      ]
    },
    {
      "cell_type": "code",
      "execution_count": null,
      "metadata": {
        "id": "-2FCpo7vWIIM",
        "colab": {
          "base_uri": "https://localhost:8080/"
        },
        "outputId": "5d4881dc-d7a9-4699-ca2c-6e724a761b09"
      },
      "outputs": [
        {
          "output_type": "stream",
          "name": "stdout",
          "text": [
            "\u001b[2K     \u001b[90m━━━━━━━━━━━━━━━━━━━━━━━━━━━━━━━━━━━━━━━━\u001b[0m \u001b[32m749.6/749.6 kB\u001b[0m \u001b[31m14.1 MB/s\u001b[0m eta \u001b[36m0:00:00\u001b[0m\n",
            "\u001b[2K     \u001b[90m━━━━━━━━━━━━━━━━━━━━━━━━━━━━━━━━━━━━━━━━\u001b[0m \u001b[32m23.7/23.7 MB\u001b[0m \u001b[31m36.0 MB/s\u001b[0m eta \u001b[36m0:00:00\u001b[0m\n",
            "\u001b[2K     \u001b[90m━━━━━━━━━━━━━━━━━━━━━━━━━━━━━━━━━━━━━━━━\u001b[0m \u001b[32m823.6/823.6 kB\u001b[0m \u001b[31m53.3 MB/s\u001b[0m eta \u001b[36m0:00:00\u001b[0m\n",
            "\u001b[2K     \u001b[90m━━━━━━━━━━━━━━━━━━━━━━━━━━━━━━━━━━━━━━━━\u001b[0m \u001b[32m14.1/14.1 MB\u001b[0m \u001b[31m54.0 MB/s\u001b[0m eta \u001b[36m0:00:00\u001b[0m\n",
            "\u001b[2K     \u001b[90m━━━━━━━━━━━━━━━━━━━━━━━━━━━━━━━━━━━━━━━━\u001b[0m \u001b[32m731.7/731.7 MB\u001b[0m \u001b[31m1.0 MB/s\u001b[0m eta \u001b[36m0:00:00\u001b[0m\n",
            "\u001b[2K     \u001b[90m━━━━━━━━━━━━━━━━━━━━━━━━━━━━━━━━━━━━━━━━\u001b[0m \u001b[32m410.6/410.6 MB\u001b[0m \u001b[31m1.1 MB/s\u001b[0m eta \u001b[36m0:00:00\u001b[0m\n",
            "\u001b[2K     \u001b[90m━━━━━━━━━━━━━━━━━━━━━━━━━━━━━━━━━━━━━━━━\u001b[0m \u001b[32m121.6/121.6 MB\u001b[0m \u001b[31m6.0 MB/s\u001b[0m eta \u001b[36m0:00:00\u001b[0m\n",
            "\u001b[2K     \u001b[90m━━━━━━━━━━━━━━━━━━━━━━━━━━━━━━━━━━━━━━━━\u001b[0m \u001b[32m56.5/56.5 MB\u001b[0m \u001b[31m8.8 MB/s\u001b[0m eta \u001b[36m0:00:00\u001b[0m\n",
            "\u001b[2K     \u001b[90m━━━━━━━━━━━━━━━━━━━━━━━━━━━━━━━━━━━━━━━━\u001b[0m \u001b[32m124.2/124.2 MB\u001b[0m \u001b[31m5.1 MB/s\u001b[0m eta \u001b[36m0:00:00\u001b[0m\n",
            "\u001b[2K     \u001b[91m━━━━━━━━━━━━━━━━━━━━━━━━━━━━━━━━━━━━━━━\u001b[0m\u001b[91m╸\u001b[0m \u001b[32m196.0/196.0 MB\u001b[0m \u001b[31m57.0 MB/s\u001b[0m eta \u001b[36m0:00:01\u001b[0m\n",
            "\u001b[?25h\u001b[31mERROR: Operation cancelled by user\u001b[0m\u001b[31m\n",
            "\u001b[0m"
          ]
        }
      ],
      "source": [
        "%pip install -q ultralytics"
      ]
    },
    {
      "cell_type": "code",
      "execution_count": null,
      "metadata": {
        "id": "Vnvwog-1WtGL",
        "colab": {
          "base_uri": "https://localhost:8080/",
          "height": 383
        },
        "outputId": "e4467b52-0c11-460b-a791-bd23c9b7fd77"
      },
      "outputs": [
        {
          "output_type": "error",
          "ename": "ModuleNotFoundError",
          "evalue": "No module named 'ultralytics'",
          "traceback": [
            "\u001b[0;31m---------------------------------------------------------------------------\u001b[0m",
            "\u001b[0;31mModuleNotFoundError\u001b[0m                       Traceback (most recent call last)",
            "\u001b[0;32m<ipython-input-2-9c7a5c7a3c48>\u001b[0m in \u001b[0;36m<cell line: 2>\u001b[0;34m()\u001b[0m\n\u001b[1;32m      1\u001b[0m \u001b[0;32mfrom\u001b[0m \u001b[0mgoogle\u001b[0m\u001b[0;34m.\u001b[0m\u001b[0mcolab\u001b[0m \u001b[0;32mimport\u001b[0m \u001b[0mdrive\u001b[0m\u001b[0;34m\u001b[0m\u001b[0;34m\u001b[0m\u001b[0m\n\u001b[0;32m----> 2\u001b[0;31m \u001b[0;32mfrom\u001b[0m \u001b[0multralytics\u001b[0m \u001b[0;32mimport\u001b[0m \u001b[0mYOLO\u001b[0m\u001b[0;34m,\u001b[0m \u001b[0mNAS\u001b[0m\u001b[0;34m\u001b[0m\u001b[0;34m\u001b[0m\u001b[0m\n\u001b[0m\u001b[1;32m      3\u001b[0m \u001b[0;32mfrom\u001b[0m \u001b[0mPIL\u001b[0m \u001b[0;32mimport\u001b[0m \u001b[0mImage\u001b[0m\u001b[0;34m\u001b[0m\u001b[0;34m\u001b[0m\u001b[0m\n\u001b[1;32m      4\u001b[0m \u001b[0;34m\u001b[0m\u001b[0m\n\u001b[1;32m      5\u001b[0m \u001b[0;32mimport\u001b[0m \u001b[0mos\u001b[0m\u001b[0;34m\u001b[0m\u001b[0;34m\u001b[0m\u001b[0m\n",
            "\u001b[0;31mModuleNotFoundError\u001b[0m: No module named 'ultralytics'",
            "",
            "\u001b[0;31m---------------------------------------------------------------------------\u001b[0;32m\nNOTE: If your import is failing due to a missing package, you can\nmanually install dependencies using either !pip or !apt.\n\nTo view examples of installing some common dependencies, click the\n\"Open Examples\" button below.\n\u001b[0;31m---------------------------------------------------------------------------\u001b[0m\n"
          ],
          "errorDetails": {
            "actions": [
              {
                "action": "open_url",
                "actionText": "Open Examples",
                "url": "/notebooks/snippets/importing_libraries.ipynb"
              }
            ]
          }
        }
      ],
      "source": [
        "from google.colab import drive\n",
        "from ultralytics import YOLO, NAS\n",
        "from PIL import Image\n",
        "\n",
        "import os\n",
        "import cv2\n",
        "import glob\n",
        "import yaml\n",
        "import numpy as np\n",
        "import pandas as pd\n",
        "import seaborn as sns\n",
        "import matplotlib.pyplot as plt"
      ]
    },
    {
      "cell_type": "code",
      "execution_count": null,
      "metadata": {
        "id": "SOH8q-tBXF9V"
      },
      "outputs": [],
      "source": [
        "import warnings\n",
        "\n",
        "warnings.filterwarnings('ignore')\n",
        "np.random.seed(12345)"
      ]
    },
    {
      "cell_type": "code",
      "source": [
        "drive.mount('/content/drive')\n",
        "os.chdir('/content/drive/My Drive/Работа/Experiments')"
      ],
      "metadata": {
        "id": "trA9zpRkThgY"
      },
      "execution_count": null,
      "outputs": []
    },
    {
      "cell_type": "markdown",
      "metadata": {
        "id": "Q8LhdXHzEqey"
      },
      "source": [
        "### Подготовка данных"
      ]
    },
    {
      "cell_type": "code",
      "execution_count": null,
      "metadata": {
        "id": "I3gOBHsiEqey"
      },
      "outputs": [],
      "source": [
        "dataDir = 'void-dataset-yolo-obb_0_2_0/'\n",
        "workingDir = os.getcwd()"
      ]
    },
    {
      "cell_type": "code",
      "execution_count": null,
      "metadata": {
        "id": "-HQyOjBqEqey"
      },
      "outputs": [],
      "source": [
        "num_classes = 2\n",
        "classes = ['void',\n",
        "           'person']"
      ]
    },
    {
      "cell_type": "code",
      "execution_count": null,
      "metadata": {
        "id": "INrCNJvZEqey"
      },
      "outputs": [],
      "source": [
        "file_dict = {\n",
        "    'train': os.path.join(dataDir, 'train/images'),\n",
        "    'val': os.path.join(dataDir, 'validation/images'),\n",
        "    'test': os.path.join(dataDir, 'validation/images'),\n",
        "    'nc': num_classes,\n",
        "    'names': classes\n",
        "}"
      ]
    },
    {
      "cell_type": "code",
      "execution_count": null,
      "metadata": {
        "id": "32lE5_gHEqez"
      },
      "outputs": [],
      "source": [
        "# with open(os.path.join(workingDir, 'data.yaml'), 'w+') as f:\n",
        "#     yaml.dump(file_dict, f)"
      ]
    },
    {
      "cell_type": "code",
      "execution_count": null,
      "metadata": {
        "id": "z6pKVdJFEqez"
      },
      "outputs": [],
      "source": [
        "class_idx = {str(i): classes[i] for i in range(num_classes)}\n",
        "class_stat = {}\n",
        "data_len = {}"
      ]
    },
    {
      "cell_type": "code",
      "execution_count": null,
      "metadata": {
        "id": "BXcHgmG7Eqez"
      },
      "outputs": [],
      "source": [
        "for mode in ['train', 'validation']:\n",
        "    class_count = {classes[i]: 0 for i in range(num_classes)}\n",
        "    path = os.path.join(dataDir, mode, 'labels')\n",
        "\n",
        "    for file in os.listdir(path):\n",
        "        with open(os.path.join(path, file)) as f:\n",
        "            lines = f.readlines()\n",
        "\n",
        "            for cls in set([line[0] for line in lines]):\n",
        "                class_count[class_idx[cls]] += 1\n",
        "\n",
        "    data_len[mode] = len(os.listdir(path))\n",
        "    class_stat[mode] = class_count"
      ]
    },
    {
      "cell_type": "code",
      "execution_count": null,
      "metadata": {
        "id": "d0xGMRZsEqez"
      },
      "outputs": [],
      "source": [
        "fig, ax = plt.subplots(1, 2, figsize=(15, 5), sharey=True)\n",
        "\n",
        "for i, mode in enumerate(['train', 'validation']):\n",
        "    sns.barplot(pd.DataFrame({mode: class_stat[mode]}).T / data_len[mode] * 100, ax=ax[i])\n",
        "\n",
        "    ax[i].set_title(mode)\n",
        "    ax[i].tick_params(rotation=90)\n",
        "    ax[i].set_ylabel('Percentage of classes')\n",
        "\n",
        "plt.show()"
      ]
    },
    {
      "cell_type": "code",
      "execution_count": null,
      "metadata": {
        "id": "DZpyNNGLEqez"
      },
      "outputs": [],
      "source": [
        "for mode in ['train', 'validation']:\n",
        "    print(f'Image size in {mode} set:\\n')\n",
        "    image_size = 0\n",
        "\n",
        "    for file in glob.glob(os.path.join(dataDir, mode, 'images', '*')):\n",
        "        image = Image.open(file)\n",
        "\n",
        "        if image.size != image_size:\n",
        "            print(image.size)\n",
        "            image_size = image.size"
      ]
    },
    {
      "cell_type": "code",
      "execution_count": null,
      "metadata": {
        "id": "Re7KUm18Eqe0"
      },
      "outputs": [],
      "source": [
        "for mode in ['train', 'validation']:\n",
        "    files = glob.glob(os.path.join(dataDir, mode, 'images', '*'))\n",
        "\n",
        "    print(f'{mode} set size: {len(files)}\\n')"
      ]
    },
    {
      "cell_type": "markdown",
      "metadata": {
        "id": "CrYkb8yrEqe0"
      },
      "source": [
        "### Обучение"
      ]
    },
    {
      "cell_type": "code",
      "execution_count": null,
      "metadata": {
        "id": "LVpEPwHlEqe0"
      },
      "outputs": [],
      "source": [
        "model = YOLO('yolov8l-obb.pt')"
      ]
    },
    {
      "cell_type": "code",
      "execution_count": null,
      "metadata": {
        "id": "3c_KvFseEqe0",
        "outputId": "a34785fd-afc8-42ba-b290-f91ce1d2b37f",
        "colab": {
          "base_uri": "https://localhost:8080/"
        }
      },
      "outputs": [
        {
          "output_type": "stream",
          "name": "stdout",
          "text": [
            "Ultralytics YOLOv8.1.44 🚀 Python-3.10.12 torch-2.2.1+cu121 CUDA:0 (Tesla T4, 15102MiB)\n",
            "\u001b[34m\u001b[1mengine/trainer: \u001b[0mtask=obb, mode=train, model=yolov8l-obb.pt, data=/content/drive/My Drive/Работа/Experiments/void-dataset-yolo-obb_0_2_0/data.yaml, epochs=20, time=None, patience=100, batch=16, imgsz=640, save=True, save_period=-1, cache=False, device=None, workers=8, project=None, name=yolov8l_trained_model, exist_ok=False, pretrained=True, optimizer=auto, verbose=True, seed=0, deterministic=True, single_cls=False, rect=False, cos_lr=False, close_mosaic=10, resume=False, amp=True, fraction=1.0, profile=False, freeze=None, multi_scale=False, overlap_mask=True, mask_ratio=4, dropout=0.0, val=True, split=val, save_json=False, save_hybrid=False, conf=None, iou=0.7, max_det=300, half=False, dnn=False, plots=True, source=None, vid_stride=1, stream_buffer=False, visualize=False, augment=False, agnostic_nms=False, classes=None, retina_masks=False, embed=None, show=False, save_frames=False, save_txt=False, save_conf=False, save_crop=False, show_labels=True, show_conf=True, show_boxes=True, line_width=None, format=torchscript, keras=False, optimize=False, int8=False, dynamic=False, simplify=False, opset=None, workspace=4, nms=False, lr0=0.01, lrf=0.01, momentum=0.937, weight_decay=0.0005, warmup_epochs=3.0, warmup_momentum=0.8, warmup_bias_lr=0.1, box=7.5, cls=0.5, dfl=1.5, pose=12.0, kobj=1.0, label_smoothing=0.0, nbs=64, hsv_h=0.015, hsv_s=0.7, hsv_v=0.4, degrees=0.0, translate=0.1, scale=0.5, shear=0.0, perspective=0.0, flipud=0.0, fliplr=0.5, bgr=0.0, mosaic=1.0, mixup=0.0, copy_paste=0.0, auto_augment=randaugment, erasing=0.4, crop_fraction=1.0, cfg=None, tracker=botsort.yaml, save_dir=runs/obb/yolov8l_trained_model\n",
            "Overriding model.yaml nc=15 with nc=2\n",
            "\n",
            "                   from  n    params  module                                       arguments                     \n",
            "  0                  -1  1      1856  ultralytics.nn.modules.conv.Conv             [3, 64, 3, 2]                 \n",
            "  1                  -1  1     73984  ultralytics.nn.modules.conv.Conv             [64, 128, 3, 2]               \n",
            "  2                  -1  3    279808  ultralytics.nn.modules.block.C2f             [128, 128, 3, True]           \n",
            "  3                  -1  1    295424  ultralytics.nn.modules.conv.Conv             [128, 256, 3, 2]              \n",
            "  4                  -1  6   2101248  ultralytics.nn.modules.block.C2f             [256, 256, 6, True]           \n",
            "  5                  -1  1   1180672  ultralytics.nn.modules.conv.Conv             [256, 512, 3, 2]              \n",
            "  6                  -1  6   8396800  ultralytics.nn.modules.block.C2f             [512, 512, 6, True]           \n",
            "  7                  -1  1   2360320  ultralytics.nn.modules.conv.Conv             [512, 512, 3, 2]              \n",
            "  8                  -1  3   4461568  ultralytics.nn.modules.block.C2f             [512, 512, 3, True]           \n",
            "  9                  -1  1    656896  ultralytics.nn.modules.block.SPPF            [512, 512, 5]                 \n",
            " 10                  -1  1         0  torch.nn.modules.upsampling.Upsample         [None, 2, 'nearest']          \n",
            " 11             [-1, 6]  1         0  ultralytics.nn.modules.conv.Concat           [1]                           \n",
            " 12                  -1  3   4723712  ultralytics.nn.modules.block.C2f             [1024, 512, 3]                \n",
            " 13                  -1  1         0  torch.nn.modules.upsampling.Upsample         [None, 2, 'nearest']          \n",
            " 14             [-1, 4]  1         0  ultralytics.nn.modules.conv.Concat           [1]                           \n",
            " 15                  -1  3   1247744  ultralytics.nn.modules.block.C2f             [768, 256, 3]                 \n",
            " 16                  -1  1    590336  ultralytics.nn.modules.conv.Conv             [256, 256, 3, 2]              \n",
            " 17            [-1, 12]  1         0  ultralytics.nn.modules.conv.Concat           [1]                           \n",
            " 18                  -1  3   4592640  ultralytics.nn.modules.block.C2f             [768, 512, 3]                 \n",
            " 19                  -1  1   2360320  ultralytics.nn.modules.conv.Conv             [512, 512, 3, 2]              \n",
            " 20             [-1, 9]  1         0  ultralytics.nn.modules.conv.Concat           [1]                           \n",
            " 21                  -1  3   4723712  ultralytics.nn.modules.block.C2f             [1024, 512, 3]                \n",
            " 22        [15, 18, 21]  1   6433177  ultralytics.nn.modules.head.OBB              [2, 1, [256, 512, 512]]       \n",
            "YOLOv8l-obb summary: 390 layers, 44480217 parameters, 44480201 gradients, 169.1 GFLOPs\n",
            "\n",
            "Transferred 631/637 items from pretrained weights\n",
            "\u001b[34m\u001b[1mTensorBoard: \u001b[0mStart with 'tensorboard --logdir runs/obb/yolov8l_trained_model', view at http://localhost:6006/\n",
            "Freezing layer 'model.22.dfl.conv.weight'\n",
            "\u001b[34m\u001b[1mAMP: \u001b[0mrunning Automatic Mixed Precision (AMP) checks with YOLOv8n...\n",
            "\u001b[34m\u001b[1mAMP: \u001b[0mchecks passed ✅\n"
          ]
        },
        {
          "output_type": "stream",
          "name": "stderr",
          "text": [
            "\u001b[34m\u001b[1mtrain: \u001b[0mScanning /content/drive/My Drive/Работа/Experiments/void-dataset-yolo-obb_0_2_0/train/labels.cache... 510 images, 6 backgrounds, 1 corrupt: 100%|██████████| 510/510 [00:00<?, ?it/s]"
          ]
        },
        {
          "output_type": "stream",
          "name": "stdout",
          "text": [
            "\u001b[34m\u001b[1mtrain: \u001b[0mWARNING ⚠️ /content/drive/My Drive/Работа/Experiments/void-dataset-yolo-obb_0_2_0/train/images/2130706460#1$20240216145755477.jpg: ignoring corrupt image/label: negative label values [ -0.0022205]\n",
            "\u001b[34m\u001b[1malbumentations: \u001b[0mBlur(p=0.01, blur_limit=(3, 7)), MedianBlur(p=0.01, blur_limit=(3, 7)), ToGray(p=0.01), CLAHE(p=0.01, clip_limit=(1, 4.0), tile_grid_size=(8, 8))\n"
          ]
        },
        {
          "output_type": "stream",
          "name": "stderr",
          "text": [
            "\n",
            "\u001b[34m\u001b[1mval: \u001b[0mScanning /content/drive/My Drive/Работа/Experiments/void-dataset-yolo-obb_0_2_0/validation/labels.cache... 155 images, 3 backgrounds, 1 corrupt: 100%|██████████| 155/155 [00:00<?, ?it/s]"
          ]
        },
        {
          "output_type": "stream",
          "name": "stdout",
          "text": [
            "\u001b[34m\u001b[1mval: \u001b[0mWARNING ⚠️ /content/drive/My Drive/Работа/Experiments/void-dataset-yolo-obb_0_2_0/validation/images/2130706450#1$20240208161333342.jpg: ignoring corrupt image/label: negative label values [ -0.0007185]\n"
          ]
        },
        {
          "output_type": "stream",
          "name": "stderr",
          "text": [
            "\n"
          ]
        },
        {
          "output_type": "stream",
          "name": "stdout",
          "text": [
            "Plotting labels to runs/obb/yolov8l_trained_model/labels.jpg... \n",
            "\u001b[34m\u001b[1moptimizer:\u001b[0m 'optimizer=auto' found, ignoring 'lr0=0.01' and 'momentum=0.937' and determining best 'optimizer', 'lr0' and 'momentum' automatically... \n",
            "\u001b[34m\u001b[1moptimizer:\u001b[0m AdamW(lr=0.001667, momentum=0.9) with parameter groups 103 weight(decay=0.0), 113 weight(decay=0.0005), 112 bias(decay=0.0)\n",
            "\u001b[34m\u001b[1mTensorBoard: \u001b[0mmodel graph visualization added ✅\n",
            "Image sizes 640 train, 640 val\n",
            "Using 2 dataloader workers\n",
            "Logging results to \u001b[1mruns/obb/yolov8l_trained_model\u001b[0m\n",
            "Starting training for 20 epochs...\n",
            "\n",
            "      Epoch    GPU_mem   box_loss   cls_loss   dfl_loss  Instances       Size\n"
          ]
        },
        {
          "output_type": "stream",
          "name": "stderr",
          "text": [
            "       1/20      11.5G      2.076      2.648      2.176        296        640: 100%|██████████| 32/32 [01:02<00:00,  1.94s/it]\n",
            "                 Class     Images  Instances      Box(P          R      mAP50  mAP50-95): 100%|██████████| 10/10 [00:12<00:00,  1.27s/it]"
          ]
        },
        {
          "output_type": "stream",
          "name": "stdout",
          "text": [
            "                   all        154       1735      0.543      0.444      0.383      0.107\n"
          ]
        },
        {
          "output_type": "stream",
          "name": "stderr",
          "text": [
            "\n"
          ]
        },
        {
          "output_type": "stream",
          "name": "stdout",
          "text": [
            "\n",
            "      Epoch    GPU_mem   box_loss   cls_loss   dfl_loss  Instances       Size\n"
          ]
        },
        {
          "output_type": "stream",
          "name": "stderr",
          "text": [
            "       2/20      12.8G      1.463      1.608      1.906        252        640: 100%|██████████| 32/32 [00:47<00:00,  1.48s/it]\n",
            "                 Class     Images  Instances      Box(P          R      mAP50  mAP50-95): 100%|██████████| 10/10 [00:11<00:00,  1.13s/it]"
          ]
        },
        {
          "output_type": "stream",
          "name": "stdout",
          "text": [
            "                   all        154       1735      0.604      0.497      0.477       0.13\n"
          ]
        },
        {
          "output_type": "stream",
          "name": "stderr",
          "text": [
            "\n"
          ]
        },
        {
          "output_type": "stream",
          "name": "stdout",
          "text": [
            "\n",
            "      Epoch    GPU_mem   box_loss   cls_loss   dfl_loss  Instances       Size\n"
          ]
        },
        {
          "output_type": "stream",
          "name": "stderr",
          "text": [
            "       3/20      12.8G      1.345      1.409      1.838        176        640: 100%|██████████| 32/32 [00:48<00:00,  1.51s/it]\n",
            "                 Class     Images  Instances      Box(P          R      mAP50  mAP50-95): 100%|██████████| 10/10 [00:11<00:00,  1.18s/it]"
          ]
        },
        {
          "output_type": "stream",
          "name": "stdout",
          "text": [
            "                   all        154       1735      0.642       0.53      0.544      0.135\n"
          ]
        },
        {
          "output_type": "stream",
          "name": "stderr",
          "text": [
            "\n"
          ]
        },
        {
          "output_type": "stream",
          "name": "stdout",
          "text": [
            "\n",
            "      Epoch    GPU_mem   box_loss   cls_loss   dfl_loss  Instances       Size\n"
          ]
        },
        {
          "output_type": "stream",
          "name": "stderr",
          "text": [
            "       4/20      12.8G      1.302        1.3      1.841        251        640: 100%|██████████| 32/32 [00:49<00:00,  1.55s/it]\n",
            "                 Class     Images  Instances      Box(P          R      mAP50  mAP50-95): 100%|██████████| 10/10 [00:10<00:00,  1.09s/it]"
          ]
        },
        {
          "output_type": "stream",
          "name": "stdout",
          "text": [
            "                   all        154       1735      0.605      0.552       0.55       0.15\n"
          ]
        },
        {
          "output_type": "stream",
          "name": "stderr",
          "text": [
            "\n"
          ]
        },
        {
          "output_type": "stream",
          "name": "stdout",
          "text": [
            "\n",
            "      Epoch    GPU_mem   box_loss   cls_loss   dfl_loss  Instances       Size\n"
          ]
        },
        {
          "output_type": "stream",
          "name": "stderr",
          "text": [
            "       5/20      12.9G      1.212      1.184      1.812        258        640: 100%|██████████| 32/32 [00:48<00:00,  1.51s/it]\n",
            "                 Class     Images  Instances      Box(P          R      mAP50  mAP50-95): 100%|██████████| 10/10 [00:10<00:00,  1.07s/it]"
          ]
        },
        {
          "output_type": "stream",
          "name": "stdout",
          "text": [
            "                   all        154       1735      0.699      0.587       0.62      0.157\n"
          ]
        },
        {
          "output_type": "stream",
          "name": "stderr",
          "text": [
            "\n"
          ]
        },
        {
          "output_type": "stream",
          "name": "stdout",
          "text": [
            "\n",
            "      Epoch    GPU_mem   box_loss   cls_loss   dfl_loss  Instances       Size\n"
          ]
        },
        {
          "output_type": "stream",
          "name": "stderr",
          "text": [
            "       6/20      12.9G      1.187      1.119      1.789        293        640: 100%|██████████| 32/32 [00:49<00:00,  1.54s/it]\n",
            "                 Class     Images  Instances      Box(P          R      mAP50  mAP50-95): 100%|██████████| 10/10 [00:11<00:00,  1.14s/it]"
          ]
        },
        {
          "output_type": "stream",
          "name": "stdout",
          "text": [
            "                   all        154       1735      0.737      0.632       0.67      0.184\n"
          ]
        },
        {
          "output_type": "stream",
          "name": "stderr",
          "text": [
            "\n"
          ]
        },
        {
          "output_type": "stream",
          "name": "stdout",
          "text": [
            "\n",
            "      Epoch    GPU_mem   box_loss   cls_loss   dfl_loss  Instances       Size\n"
          ]
        },
        {
          "output_type": "stream",
          "name": "stderr",
          "text": [
            "       7/20      12.3G      1.133      1.047      1.746        264        640: 100%|██████████| 32/32 [00:48<00:00,  1.53s/it]\n",
            "                 Class     Images  Instances      Box(P          R      mAP50  mAP50-95): 100%|██████████| 10/10 [00:10<00:00,  1.10s/it]"
          ]
        },
        {
          "output_type": "stream",
          "name": "stdout",
          "text": [
            "                   all        154       1735      0.768      0.615       0.68      0.186\n"
          ]
        },
        {
          "output_type": "stream",
          "name": "stderr",
          "text": [
            "\n"
          ]
        },
        {
          "output_type": "stream",
          "name": "stdout",
          "text": [
            "\n",
            "      Epoch    GPU_mem   box_loss   cls_loss   dfl_loss  Instances       Size\n"
          ]
        },
        {
          "output_type": "stream",
          "name": "stderr",
          "text": [
            "       8/20      12.3G      1.079     0.9861      1.733        280        640: 100%|██████████| 32/32 [00:47<00:00,  1.50s/it]\n",
            "                 Class     Images  Instances      Box(P          R      mAP50  mAP50-95): 100%|██████████| 10/10 [00:09<00:00,  1.04it/s]"
          ]
        },
        {
          "output_type": "stream",
          "name": "stdout",
          "text": [
            "                   all        154       1735      0.756      0.639      0.684      0.196\n"
          ]
        },
        {
          "output_type": "stream",
          "name": "stderr",
          "text": [
            "\n"
          ]
        },
        {
          "output_type": "stream",
          "name": "stdout",
          "text": [
            "\n",
            "      Epoch    GPU_mem   box_loss   cls_loss   dfl_loss  Instances       Size\n"
          ]
        },
        {
          "output_type": "stream",
          "name": "stderr",
          "text": [
            "       9/20      12.3G       1.06     0.9462      1.705        207        640: 100%|██████████| 32/32 [00:48<00:00,  1.52s/it]\n",
            "                 Class     Images  Instances      Box(P          R      mAP50  mAP50-95): 100%|██████████| 10/10 [00:11<00:00,  1.17s/it]"
          ]
        },
        {
          "output_type": "stream",
          "name": "stdout",
          "text": [
            "                   all        154       1735      0.766      0.648      0.703      0.196\n"
          ]
        },
        {
          "output_type": "stream",
          "name": "stderr",
          "text": [
            "\n"
          ]
        },
        {
          "output_type": "stream",
          "name": "stdout",
          "text": [
            "\n",
            "      Epoch    GPU_mem   box_loss   cls_loss   dfl_loss  Instances       Size\n"
          ]
        },
        {
          "output_type": "stream",
          "name": "stderr",
          "text": [
            "      10/20      12.3G      1.009       0.88      1.708        328        640: 100%|██████████| 32/32 [00:48<00:00,  1.52s/it]\n",
            "                 Class     Images  Instances      Box(P          R      mAP50  mAP50-95): 100%|██████████| 10/10 [00:11<00:00,  1.10s/it]"
          ]
        },
        {
          "output_type": "stream",
          "name": "stdout",
          "text": [
            "                   all        154       1735      0.806      0.647      0.734      0.211\n"
          ]
        },
        {
          "output_type": "stream",
          "name": "stderr",
          "text": [
            "\n"
          ]
        },
        {
          "output_type": "stream",
          "name": "stdout",
          "text": [
            "Closing dataloader mosaic\n",
            "\u001b[34m\u001b[1malbumentations: \u001b[0mBlur(p=0.01, blur_limit=(3, 7)), MedianBlur(p=0.01, blur_limit=(3, 7)), ToGray(p=0.01), CLAHE(p=0.01, clip_limit=(1, 4.0), tile_grid_size=(8, 8))\n",
            "\n",
            "      Epoch    GPU_mem   box_loss   cls_loss   dfl_loss  Instances       Size\n"
          ]
        },
        {
          "output_type": "stream",
          "name": "stderr",
          "text": [
            "      11/20      12.2G     0.9637     0.9294        1.7        147        640: 100%|██████████| 32/32 [00:57<00:00,  1.81s/it]\n",
            "                 Class     Images  Instances      Box(P          R      mAP50  mAP50-95): 100%|██████████| 10/10 [00:11<00:00,  1.13s/it]"
          ]
        },
        {
          "output_type": "stream",
          "name": "stdout",
          "text": [
            "                   all        154       1735       0.75      0.665      0.732      0.214\n"
          ]
        },
        {
          "output_type": "stream",
          "name": "stderr",
          "text": [
            "\n"
          ]
        },
        {
          "output_type": "stream",
          "name": "stdout",
          "text": [
            "\n",
            "      Epoch    GPU_mem   box_loss   cls_loss   dfl_loss  Instances       Size\n"
          ]
        },
        {
          "output_type": "stream",
          "name": "stderr",
          "text": [
            "      12/20      12.3G     0.9577     0.8499      1.701        150        640: 100%|██████████| 32/32 [00:47<00:00,  1.47s/it]\n",
            "                 Class     Images  Instances      Box(P          R      mAP50  mAP50-95): 100%|██████████| 10/10 [00:10<00:00,  1.05s/it]"
          ]
        },
        {
          "output_type": "stream",
          "name": "stdout",
          "text": [
            "                   all        154       1735      0.816      0.666      0.745      0.211\n"
          ]
        },
        {
          "output_type": "stream",
          "name": "stderr",
          "text": [
            "\n"
          ]
        },
        {
          "output_type": "stream",
          "name": "stdout",
          "text": [
            "\n",
            "      Epoch    GPU_mem   box_loss   cls_loss   dfl_loss  Instances       Size\n"
          ]
        },
        {
          "output_type": "stream",
          "name": "stderr",
          "text": [
            "      13/20      12.2G     0.9289     0.8087      1.702        154        640: 100%|██████████| 32/32 [00:45<00:00,  1.43s/it]\n",
            "                 Class     Images  Instances      Box(P          R      mAP50  mAP50-95): 100%|██████████| 10/10 [00:10<00:00,  1.08s/it]"
          ]
        },
        {
          "output_type": "stream",
          "name": "stdout",
          "text": [
            "                   all        154       1735      0.794      0.696      0.752      0.226\n"
          ]
        },
        {
          "output_type": "stream",
          "name": "stderr",
          "text": [
            "\n"
          ]
        },
        {
          "output_type": "stream",
          "name": "stdout",
          "text": [
            "\n",
            "      Epoch    GPU_mem   box_loss   cls_loss   dfl_loss  Instances       Size\n"
          ]
        },
        {
          "output_type": "stream",
          "name": "stderr",
          "text": [
            "      14/20      12.3G     0.8846     0.7547      1.676        100        640: 100%|██████████| 32/32 [00:47<00:00,  1.47s/it]\n",
            "                 Class     Images  Instances      Box(P          R      mAP50  mAP50-95): 100%|██████████| 10/10 [00:10<00:00,  1.08s/it]"
          ]
        },
        {
          "output_type": "stream",
          "name": "stdout",
          "text": [
            "                   all        154       1735      0.829      0.658      0.744      0.211\n"
          ]
        },
        {
          "output_type": "stream",
          "name": "stderr",
          "text": [
            "\n"
          ]
        },
        {
          "output_type": "stream",
          "name": "stdout",
          "text": [
            "\n",
            "      Epoch    GPU_mem   box_loss   cls_loss   dfl_loss  Instances       Size\n"
          ]
        },
        {
          "output_type": "stream",
          "name": "stderr",
          "text": [
            "      15/20      12.3G     0.8766     0.7332      1.668         91        640: 100%|██████████| 32/32 [00:46<00:00,  1.45s/it]\n",
            "                 Class     Images  Instances      Box(P          R      mAP50  mAP50-95): 100%|██████████| 10/10 [00:10<00:00,  1.08s/it]"
          ]
        },
        {
          "output_type": "stream",
          "name": "stdout",
          "text": [
            "                   all        154       1735      0.773      0.685      0.744      0.222\n"
          ]
        },
        {
          "output_type": "stream",
          "name": "stderr",
          "text": [
            "\n"
          ]
        },
        {
          "output_type": "stream",
          "name": "stdout",
          "text": [
            "\n",
            "      Epoch    GPU_mem   box_loss   cls_loss   dfl_loss  Instances       Size\n"
          ]
        },
        {
          "output_type": "stream",
          "name": "stderr",
          "text": [
            "      16/20      12.2G     0.8412      0.695      1.616        120        640: 100%|██████████| 32/32 [00:45<00:00,  1.44s/it]\n",
            "                 Class     Images  Instances      Box(P          R      mAP50  mAP50-95): 100%|██████████| 10/10 [00:10<00:00,  1.04s/it]"
          ]
        },
        {
          "output_type": "stream",
          "name": "stdout",
          "text": [
            "                   all        154       1735        0.8      0.689      0.738      0.222\n"
          ]
        },
        {
          "output_type": "stream",
          "name": "stderr",
          "text": [
            "\n"
          ]
        },
        {
          "output_type": "stream",
          "name": "stdout",
          "text": [
            "\n",
            "      Epoch    GPU_mem   box_loss   cls_loss   dfl_loss  Instances       Size\n"
          ]
        },
        {
          "output_type": "stream",
          "name": "stderr",
          "text": [
            "      17/20      12.2G     0.8278     0.6797      1.634        109        640: 100%|██████████| 32/32 [00:45<00:00,  1.43s/it]\n",
            "                 Class     Images  Instances      Box(P          R      mAP50  mAP50-95): 100%|██████████| 10/10 [00:11<00:00,  1.14s/it]"
          ]
        },
        {
          "output_type": "stream",
          "name": "stdout",
          "text": [
            "                   all        154       1735      0.791      0.706      0.765      0.231\n"
          ]
        },
        {
          "output_type": "stream",
          "name": "stderr",
          "text": [
            "\n"
          ]
        },
        {
          "output_type": "stream",
          "name": "stdout",
          "text": [
            "\n",
            "      Epoch    GPU_mem   box_loss   cls_loss   dfl_loss  Instances       Size\n"
          ]
        },
        {
          "output_type": "stream",
          "name": "stderr",
          "text": [
            "      18/20      12.3G     0.7953     0.6542      1.601         85        640: 100%|██████████| 32/32 [00:46<00:00,  1.46s/it]\n",
            "                 Class     Images  Instances      Box(P          R      mAP50  mAP50-95): 100%|██████████| 10/10 [00:10<00:00,  1.06s/it]"
          ]
        },
        {
          "output_type": "stream",
          "name": "stdout",
          "text": [
            "                   all        154       1735      0.765       0.72      0.754      0.228\n"
          ]
        },
        {
          "output_type": "stream",
          "name": "stderr",
          "text": [
            "\n"
          ]
        },
        {
          "output_type": "stream",
          "name": "stdout",
          "text": [
            "\n",
            "      Epoch    GPU_mem   box_loss   cls_loss   dfl_loss  Instances       Size\n"
          ]
        },
        {
          "output_type": "stream",
          "name": "stderr",
          "text": [
            "      19/20      12.3G     0.7921     0.6345      1.573        144        640: 100%|██████████| 32/32 [00:45<00:00,  1.43s/it]\n",
            "                 Class     Images  Instances      Box(P          R      mAP50  mAP50-95): 100%|██████████| 10/10 [00:11<00:00,  1.13s/it]"
          ]
        },
        {
          "output_type": "stream",
          "name": "stdout",
          "text": [
            "                   all        154       1735      0.778      0.726      0.764      0.236\n"
          ]
        },
        {
          "output_type": "stream",
          "name": "stderr",
          "text": [
            "\n"
          ]
        },
        {
          "output_type": "stream",
          "name": "stdout",
          "text": [
            "\n",
            "      Epoch    GPU_mem   box_loss   cls_loss   dfl_loss  Instances       Size\n"
          ]
        },
        {
          "output_type": "stream",
          "name": "stderr",
          "text": [
            "      20/20      12.2G     0.7611     0.6137      1.586         97        640: 100%|██████████| 32/32 [00:47<00:00,  1.47s/it]\n",
            "                 Class     Images  Instances      Box(P          R      mAP50  mAP50-95): 100%|██████████| 10/10 [00:09<00:00,  1.03it/s]"
          ]
        },
        {
          "output_type": "stream",
          "name": "stdout",
          "text": [
            "                   all        154       1735      0.797      0.704      0.757      0.235\n"
          ]
        },
        {
          "output_type": "stream",
          "name": "stderr",
          "text": [
            "\n"
          ]
        },
        {
          "output_type": "stream",
          "name": "stdout",
          "text": [
            "\n",
            "20 epochs completed in 0.373 hours.\n",
            "Optimizer stripped from runs/obb/yolov8l_trained_model/weights/last.pt, 89.4MB\n",
            "Optimizer stripped from runs/obb/yolov8l_trained_model/weights/best.pt, 89.4MB\n",
            "\n",
            "Validating runs/obb/yolov8l_trained_model/weights/best.pt...\n",
            "Ultralytics YOLOv8.1.44 🚀 Python-3.10.12 torch-2.2.1+cu121 CUDA:0 (Tesla T4, 15102MiB)\n",
            "YOLOv8l-obb summary (fused): 287 layers, 44456601 parameters, 0 gradients, 168.5 GFLOPs\n"
          ]
        },
        {
          "output_type": "stream",
          "name": "stderr",
          "text": [
            "                 Class     Images  Instances      Box(P          R      mAP50  mAP50-95): 100%|██████████| 10/10 [00:20<00:00,  2.02s/it]\n"
          ]
        },
        {
          "output_type": "stream",
          "name": "stdout",
          "text": [
            "                   all        154       1735      0.781      0.725      0.764      0.236\n",
            "                  void        154       1326      0.699      0.729      0.736       0.25\n",
            "                person        154        409      0.862       0.72      0.791      0.222\n",
            "Speed: 0.6ms preprocess, 18.7ms inference, 0.0ms loss, 26.6ms postprocess per image\n",
            "Results saved to \u001b[1mruns/obb/yolov8l_trained_model\u001b[0m\n"
          ]
        },
        {
          "output_type": "execute_result",
          "data": {
            "text/plain": [
              "ultralytics.utils.metrics.OBBMetrics object with attributes:\n",
              "\n",
              "ap_class_index: array([0, 1])\n",
              "box: ultralytics.utils.metrics.Metric object\n",
              "confusion_matrix: <ultralytics.utils.metrics.ConfusionMatrix object at 0x7eff64a9add0>\n",
              "curves: []\n",
              "curves_results: []\n",
              "fitness: 0.28891523939602926\n",
              "keys: ['metrics/precision(B)', 'metrics/recall(B)', 'metrics/mAP50(B)', 'metrics/mAP50-95(B)']\n",
              "maps: array([    0.25039,     0.22195])\n",
              "names: {0: 'void', 1: 'person'}\n",
              "plot: True\n",
              "results_dict: {'metrics/precision(B)': 0.7806523995673886, 'metrics/recall(B)': 0.7245946233633402, 'metrics/mAP50(B)': 0.7636204756007023, 'metrics/mAP50-95(B)': 0.23617021315106554, 'fitness': 0.28891523939602926}\n",
              "save_dir: PosixPath('runs/obb/yolov8l_trained_model')\n",
              "speed: {'preprocess': 0.5837539573768517, 'inference': 18.711316121088995, 'loss': 0.0010310829459846795, 'postprocess': 26.641625862616998}"
            ]
          },
          "metadata": {},
          "execution_count": 17
        }
      ],
      "source": [
        "model.train(data=os.path.join(workingDir, 'void-dataset-yolo-obb_0_2_0/data.yaml'),\n",
        "            task = 'detect',\n",
        "            imgsz = 640,\n",
        "            epochs = 20,\n",
        "            batch = 16,\n",
        "            mode = 'train',\n",
        "            name = 'yolov8l_trained_model')"
      ]
    },
    {
      "cell_type": "code",
      "source": [
        "model = YOLO('yolov8m-obb.pt')"
      ],
      "metadata": {
        "colab": {
          "base_uri": "https://localhost:8080/"
        },
        "id": "yu7vK4db7Vuw",
        "outputId": "88654cb3-6ab5-418c-842f-521ffec5e02d"
      },
      "execution_count": null,
      "outputs": [
        {
          "output_type": "stream",
          "name": "stdout",
          "text": [
            "Downloading https://github.com/ultralytics/assets/releases/download/v8.1.0/yolov8m-obb.pt to 'yolov8m-obb.pt'...\n"
          ]
        },
        {
          "output_type": "stream",
          "name": "stderr",
          "text": [
            "100%|██████████| 50.8M/50.8M [00:00<00:00, 65.9MB/s]\n"
          ]
        }
      ]
    },
    {
      "cell_type": "code",
      "source": [
        "model.train(data=os.path.join(workingDir, 'void-dataset-yolo-obb_0_2_0/data.yaml'),\n",
        "            task = 'detect',\n",
        "            imgsz = 640,\n",
        "            epochs = 20,\n",
        "            batch = 32,\n",
        "            mode = 'train',\n",
        "            name = 'yolov8m_trained_model')"
      ],
      "metadata": {
        "colab": {
          "base_uri": "https://localhost:8080/"
        },
        "id": "1p0qpwBm7Wr-",
        "outputId": "f41ae214-36e4-414b-eafd-dd6687a3537c"
      },
      "execution_count": null,
      "outputs": [
        {
          "metadata": {
            "tags": null
          },
          "name": "stdout",
          "output_type": "stream",
          "text": [
            "Ultralytics YOLOv8.1.45 🚀 Python-3.10.12 torch-2.2.1+cu121 CUDA:0 (Tesla T4, 15102MiB)\n",
            "\u001b[34m\u001b[1mengine/trainer: \u001b[0mtask=obb, mode=train, model=yolov8m-obb.pt, data=/content/drive/My Drive/Работа/Experiments/void-dataset-yolo-obb_0_2_0/data.yaml, epochs=20, time=None, patience=100, batch=32, imgsz=640, save=True, save_period=-1, cache=False, device=None, workers=8, project=None, name=yolov8m_trained_model, exist_ok=False, pretrained=True, optimizer=auto, verbose=True, seed=0, deterministic=True, single_cls=False, rect=False, cos_lr=False, close_mosaic=10, resume=False, amp=True, fraction=1.0, profile=False, freeze=None, multi_scale=False, overlap_mask=True, mask_ratio=4, dropout=0.0, val=True, split=val, save_json=False, save_hybrid=False, conf=None, iou=0.7, max_det=300, half=False, dnn=False, plots=True, source=None, vid_stride=1, stream_buffer=False, visualize=False, augment=False, agnostic_nms=False, classes=None, retina_masks=False, embed=None, show=False, save_frames=False, save_txt=False, save_conf=False, save_crop=False, show_labels=True, show_conf=True, show_boxes=True, line_width=None, format=torchscript, keras=False, optimize=False, int8=False, dynamic=False, simplify=False, opset=None, workspace=4, nms=False, lr0=0.01, lrf=0.01, momentum=0.937, weight_decay=0.0005, warmup_epochs=3.0, warmup_momentum=0.8, warmup_bias_lr=0.1, box=7.5, cls=0.5, dfl=1.5, pose=12.0, kobj=1.0, label_smoothing=0.0, nbs=64, hsv_h=0.015, hsv_s=0.7, hsv_v=0.4, degrees=0.0, translate=0.1, scale=0.5, shear=0.0, perspective=0.0, flipud=0.0, fliplr=0.5, bgr=0.0, mosaic=1.0, mixup=0.0, copy_paste=0.0, auto_augment=randaugment, erasing=0.4, crop_fraction=1.0, cfg=None, tracker=botsort.yaml, save_dir=runs/obb/yolov8m_trained_model\n",
            "Downloading https://ultralytics.com/assets/Arial.ttf to '/root/.config/Ultralytics/Arial.ttf'...\n"
          ]
        },
        {
          "metadata": {
            "tags": null
          },
          "name": "stderr",
          "output_type": "stream",
          "text": [
            "100%|██████████| 755k/755k [00:00<00:00, 17.6MB/s]\n"
          ]
        },
        {
          "metadata": {
            "tags": null
          },
          "name": "stdout",
          "output_type": "stream",
          "text": [
            "Overriding model.yaml nc=15 with nc=2\n",
            "\n",
            "                   from  n    params  module                                       arguments                     \n",
            "  0                  -1  1      1392  ultralytics.nn.modules.conv.Conv             [3, 48, 3, 2]                 \n",
            "  1                  -1  1     41664  ultralytics.nn.modules.conv.Conv             [48, 96, 3, 2]                \n",
            "  2                  -1  2    111360  ultralytics.nn.modules.block.C2f             [96, 96, 2, True]             \n",
            "  3                  -1  1    166272  ultralytics.nn.modules.conv.Conv             [96, 192, 3, 2]               \n",
            "  4                  -1  4    813312  ultralytics.nn.modules.block.C2f             [192, 192, 4, True]           \n",
            "  5                  -1  1    664320  ultralytics.nn.modules.conv.Conv             [192, 384, 3, 2]              \n",
            "  6                  -1  4   3248640  ultralytics.nn.modules.block.C2f             [384, 384, 4, True]           \n",
            "  7                  -1  1   1991808  ultralytics.nn.modules.conv.Conv             [384, 576, 3, 2]              \n",
            "  8                  -1  2   3985920  ultralytics.nn.modules.block.C2f             [576, 576, 2, True]           \n",
            "  9                  -1  1    831168  ultralytics.nn.modules.block.SPPF            [576, 576, 5]                 \n",
            " 10                  -1  1         0  torch.nn.modules.upsampling.Upsample         [None, 2, 'nearest']          \n",
            " 11             [-1, 6]  1         0  ultralytics.nn.modules.conv.Concat           [1]                           \n",
            " 12                  -1  2   1993728  ultralytics.nn.modules.block.C2f             [960, 384, 2]                 \n",
            " 13                  -1  1         0  torch.nn.modules.upsampling.Upsample         [None, 2, 'nearest']          \n",
            " 14             [-1, 4]  1         0  ultralytics.nn.modules.conv.Concat           [1]                           \n",
            " 15                  -1  2    517632  ultralytics.nn.modules.block.C2f             [576, 192, 2]                 \n",
            " 16                  -1  1    332160  ultralytics.nn.modules.conv.Conv             [192, 192, 3, 2]              \n",
            " 17            [-1, 12]  1         0  ultralytics.nn.modules.conv.Concat           [1]                           \n",
            " 18                  -1  2   1846272  ultralytics.nn.modules.block.C2f             [576, 384, 2]                 \n",
            " 19                  -1  1   1327872  ultralytics.nn.modules.conv.Conv             [384, 384, 3, 2]              \n",
            " 20             [-1, 9]  1         0  ultralytics.nn.modules.conv.Concat           [1]                           \n",
            " 21                  -1  2   4207104  ultralytics.nn.modules.block.C2f             [960, 576, 2]                 \n",
            " 22        [15, 18, 21]  1   4337449  ultralytics.nn.modules.head.OBB              [2, 1, [192, 384, 576]]       \n",
            "YOLOv8m-obb summary: 320 layers, 26418073 parameters, 26418057 gradients, 81.2 GFLOPs\n",
            "\n",
            "Transferred 511/517 items from pretrained weights\n",
            "\u001b[34m\u001b[1mTensorBoard: \u001b[0mStart with 'tensorboard --logdir runs/obb/yolov8m_trained_model', view at http://localhost:6006/\n",
            "Freezing layer 'model.22.dfl.conv.weight'\n",
            "\u001b[34m\u001b[1mAMP: \u001b[0mrunning Automatic Mixed Precision (AMP) checks with YOLOv8n...\n",
            "\u001b[34m\u001b[1mAMP: \u001b[0mchecks passed ✅\n"
          ]
        },
        {
          "metadata": {
            "tags": null
          },
          "name": "stderr",
          "output_type": "stream",
          "text": [
            "\u001b[34m\u001b[1mtrain: \u001b[0mScanning /content/drive/My Drive/Работа/Experiments/void-dataset-yolo-obb_0_2_0/train/labels.cache... 510 images, 6 backgrounds, 1 corrupt: 100%|██████████| 510/510 [00:00<?, ?it/s]"
          ]
        },
        {
          "metadata": {
            "tags": null
          },
          "name": "stdout",
          "output_type": "stream",
          "text": [
            "\u001b[34m\u001b[1mtrain: \u001b[0mWARNING ⚠️ /content/drive/My Drive/Работа/Experiments/void-dataset-yolo-obb_0_2_0/train/images/2130706460#1$20240216145755477.jpg: ignoring corrupt image/label: negative label values [ -0.0022205]\n"
          ]
        },
        {
          "metadata": {
            "tags": null
          },
          "name": "stderr",
          "output_type": "stream",
          "text": [
            "\n"
          ]
        },
        {
          "metadata": {
            "tags": null
          },
          "name": "stdout",
          "output_type": "stream",
          "text": [
            "\u001b[34m\u001b[1malbumentations: \u001b[0mBlur(p=0.01, blur_limit=(3, 7)), MedianBlur(p=0.01, blur_limit=(3, 7)), ToGray(p=0.01), CLAHE(p=0.01, clip_limit=(1, 4.0), tile_grid_size=(8, 8))\n"
          ]
        },
        {
          "metadata": {
            "tags": null
          },
          "name": "stderr",
          "output_type": "stream",
          "text": [
            "\u001b[34m\u001b[1mval: \u001b[0mScanning /content/drive/My Drive/Работа/Experiments/void-dataset-yolo-obb_0_2_0/validation/labels.cache... 155 images, 3 backgrounds, 1 corrupt: 100%|██████████| 155/155 [00:00<?, ?it/s]"
          ]
        },
        {
          "metadata": {
            "tags": null
          },
          "name": "stdout",
          "output_type": "stream",
          "text": [
            "\u001b[34m\u001b[1mval: \u001b[0mWARNING ⚠️ /content/drive/My Drive/Работа/Experiments/void-dataset-yolo-obb_0_2_0/validation/images/2130706450#1$20240208161333342.jpg: ignoring corrupt image/label: negative label values [ -0.0007185]\n"
          ]
        },
        {
          "metadata": {
            "tags": null
          },
          "name": "stderr",
          "output_type": "stream",
          "text": [
            "\n"
          ]
        },
        {
          "metadata": {
            "tags": null
          },
          "name": "stdout",
          "output_type": "stream",
          "text": [
            "Plotting labels to runs/obb/yolov8m_trained_model/labels.jpg... \n",
            "\u001b[34m\u001b[1moptimizer:\u001b[0m 'optimizer=auto' found, ignoring 'lr0=0.01' and 'momentum=0.937' and determining best 'optimizer', 'lr0' and 'momentum' automatically... \n",
            "\u001b[34m\u001b[1moptimizer:\u001b[0m AdamW(lr=0.001667, momentum=0.9) with parameter groups 83 weight(decay=0.0), 93 weight(decay=0.0005), 92 bias(decay=0.0)\n",
            "\u001b[34m\u001b[1mTensorBoard: \u001b[0mmodel graph visualization added ✅\n",
            "Image sizes 640 train, 640 val\n",
            "Using 2 dataloader workers\n",
            "Logging results to \u001b[1mruns/obb/yolov8m_trained_model\u001b[0m\n",
            "Starting training for 20 epochs...\n",
            "\n",
            "      Epoch    GPU_mem   box_loss   cls_loss   dfl_loss  Instances       Size\n"
          ]
        },
        {
          "metadata": {
            "tags": null
          },
          "name": "stderr",
          "output_type": "stream",
          "text": [
            "       1/20      14.5G      2.474      3.364      2.439        630        640: 100%|██████████| 16/16 [01:01<00:00,  3.83s/it]\n",
            "                 Class     Images  Instances      Box(P          R      mAP50  mAP50-95): 100%|██████████| 5/5 [00:11<00:00,  2.38s/it]"
          ]
        },
        {
          "metadata": {
            "tags": null
          },
          "name": "stdout",
          "output_type": "stream",
          "text": [
            "                   all        154       1735      0.229      0.236      0.136     0.0333\n"
          ]
        },
        {
          "metadata": {
            "tags": null
          },
          "name": "stderr",
          "output_type": "stream",
          "text": [
            "\n"
          ]
        },
        {
          "metadata": {
            "tags": null
          },
          "name": "stdout",
          "output_type": "stream",
          "text": [
            "\n",
            "      Epoch    GPU_mem   box_loss   cls_loss   dfl_loss  Instances       Size\n"
          ]
        },
        {
          "metadata": {
            "tags": null
          },
          "name": "stderr",
          "output_type": "stream",
          "text": [
            "       2/20      14.7G      1.675      1.881      1.978        482        640: 100%|██████████| 16/16 [00:34<00:00,  2.18s/it]\n",
            "                 Class     Images  Instances      Box(P          R      mAP50  mAP50-95): 100%|██████████| 5/5 [00:09<00:00,  1.85s/it]"
          ]
        },
        {
          "metadata": {
            "tags": null
          },
          "name": "stdout",
          "output_type": "stream",
          "text": [
            "                   all        154       1735      0.348      0.474      0.279     0.0717\n"
          ]
        },
        {
          "metadata": {
            "tags": null
          },
          "name": "stderr",
          "output_type": "stream",
          "text": [
            "\n"
          ]
        },
        {
          "metadata": {
            "tags": null
          },
          "name": "stdout",
          "output_type": "stream",
          "text": [
            "\n",
            "      Epoch    GPU_mem   box_loss   cls_loss   dfl_loss  Instances       Size\n"
          ]
        },
        {
          "metadata": {
            "tags": null
          },
          "name": "stderr",
          "output_type": "stream",
          "text": [
            "       3/20      14.9G      1.371      1.442      1.855        444        640: 100%|██████████| 16/16 [00:37<00:00,  2.32s/it]\n",
            "                 Class     Images  Instances      Box(P          R      mAP50  mAP50-95): 100%|██████████| 5/5 [00:09<00:00,  1.86s/it]"
          ]
        },
        {
          "metadata": {
            "tags": null
          },
          "name": "stdout",
          "output_type": "stream",
          "text": [
            "                   all        154       1735      0.508      0.572      0.483      0.128\n"
          ]
        },
        {
          "metadata": {
            "tags": null
          },
          "name": "stderr",
          "output_type": "stream",
          "text": [
            "\n"
          ]
        },
        {
          "metadata": {
            "tags": null
          },
          "name": "stdout",
          "output_type": "stream",
          "text": [
            "\n",
            "      Epoch    GPU_mem   box_loss   cls_loss   dfl_loss  Instances       Size\n"
          ]
        },
        {
          "metadata": {
            "tags": null
          },
          "name": "stderr",
          "output_type": "stream",
          "text": [
            "       4/20      14.7G      1.322      1.332      1.769        584        640: 100%|██████████| 16/16 [00:38<00:00,  2.38s/it]\n",
            "                 Class     Images  Instances      Box(P          R      mAP50  mAP50-95): 100%|██████████| 5/5 [00:07<00:00,  1.57s/it]"
          ]
        },
        {
          "metadata": {
            "tags": null
          },
          "name": "stdout",
          "output_type": "stream",
          "text": [
            "                   all        154       1735      0.567      0.573      0.527      0.136\n"
          ]
        },
        {
          "metadata": {
            "tags": null
          },
          "name": "stderr",
          "output_type": "stream",
          "text": [
            "\n"
          ]
        },
        {
          "metadata": {
            "tags": null
          },
          "name": "stdout",
          "output_type": "stream",
          "text": [
            "\n",
            "      Epoch    GPU_mem   box_loss   cls_loss   dfl_loss  Instances       Size\n"
          ]
        },
        {
          "metadata": {
            "tags": null
          },
          "name": "stderr",
          "output_type": "stream",
          "text": [
            "       5/20      14.9G      1.238        1.2      1.767        507        640: 100%|██████████| 16/16 [00:37<00:00,  2.33s/it]\n",
            "                 Class     Images  Instances      Box(P          R      mAP50  mAP50-95): 100%|██████████| 5/5 [00:08<00:00,  1.65s/it]"
          ]
        },
        {
          "metadata": {
            "tags": null
          },
          "name": "stdout",
          "output_type": "stream",
          "text": [
            "                   all        154       1735       0.63      0.604      0.595      0.163\n"
          ]
        },
        {
          "metadata": {
            "tags": null
          },
          "name": "stderr",
          "output_type": "stream",
          "text": [
            "\n"
          ]
        },
        {
          "metadata": {
            "tags": null
          },
          "name": "stdout",
          "output_type": "stream",
          "text": [
            "\n",
            "      Epoch    GPU_mem   box_loss   cls_loss   dfl_loss  Instances       Size\n"
          ]
        },
        {
          "metadata": {
            "tags": null
          },
          "name": "stderr",
          "output_type": "stream",
          "text": [
            "       6/20      14.8G      1.191      1.112       1.78        612        640: 100%|██████████| 16/16 [00:36<00:00,  2.28s/it]\n",
            "                 Class     Images  Instances      Box(P          R      mAP50  mAP50-95): 100%|██████████| 5/5 [00:08<00:00,  1.71s/it]"
          ]
        },
        {
          "metadata": {
            "tags": null
          },
          "name": "stdout",
          "output_type": "stream",
          "text": [
            "                   all        154       1735      0.696      0.575      0.625      0.166\n"
          ]
        },
        {
          "metadata": {
            "tags": null
          },
          "name": "stderr",
          "output_type": "stream",
          "text": [
            "\n"
          ]
        },
        {
          "metadata": {
            "tags": null
          },
          "name": "stdout",
          "output_type": "stream",
          "text": [
            "\n",
            "      Epoch    GPU_mem   box_loss   cls_loss   dfl_loss  Instances       Size\n"
          ]
        },
        {
          "metadata": {
            "tags": null
          },
          "name": "stderr",
          "output_type": "stream",
          "text": [
            "       7/20      14.5G      1.177      1.046      1.705        564        640: 100%|██████████| 16/16 [00:34<00:00,  2.18s/it]\n",
            "                 Class     Images  Instances      Box(P          R      mAP50  mAP50-95): 100%|██████████| 5/5 [00:08<00:00,  1.67s/it]"
          ]
        },
        {
          "metadata": {
            "tags": null
          },
          "name": "stdout",
          "output_type": "stream",
          "text": [
            "                   all        154       1735      0.659      0.548       0.55       0.14\n"
          ]
        },
        {
          "metadata": {
            "tags": null
          },
          "name": "stderr",
          "output_type": "stream",
          "text": [
            "\n"
          ]
        },
        {
          "metadata": {
            "tags": null
          },
          "name": "stdout",
          "output_type": "stream",
          "text": [
            "\n",
            "      Epoch    GPU_mem   box_loss   cls_loss   dfl_loss  Instances       Size\n"
          ]
        },
        {
          "metadata": {
            "tags": null
          },
          "name": "stderr",
          "output_type": "stream",
          "text": [
            "       8/20      14.5G      1.162      1.031      1.743        478        640: 100%|██████████| 16/16 [00:37<00:00,  2.33s/it]\n",
            "                 Class     Images  Instances      Box(P          R      mAP50  mAP50-95): 100%|██████████| 5/5 [00:07<00:00,  1.58s/it]"
          ]
        },
        {
          "metadata": {
            "tags": null
          },
          "name": "stdout",
          "output_type": "stream",
          "text": [
            "                   all        154       1735      0.719      0.595      0.635       0.18\n"
          ]
        },
        {
          "metadata": {
            "tags": null
          },
          "name": "stderr",
          "output_type": "stream",
          "text": [
            "\n"
          ]
        },
        {
          "metadata": {
            "tags": null
          },
          "name": "stdout",
          "output_type": "stream",
          "text": [
            "\n",
            "      Epoch    GPU_mem   box_loss   cls_loss   dfl_loss  Instances       Size\n"
          ]
        },
        {
          "metadata": {
            "tags": null
          },
          "name": "stderr",
          "output_type": "stream",
          "text": [
            "       9/20      14.4G      1.107      0.976      1.709        569        640: 100%|██████████| 16/16 [00:37<00:00,  2.31s/it]\n",
            "                 Class     Images  Instances      Box(P          R      mAP50  mAP50-95): 100%|██████████| 5/5 [00:07<00:00,  1.58s/it]"
          ]
        },
        {
          "metadata": {
            "tags": null
          },
          "name": "stdout",
          "output_type": "stream",
          "text": [
            "                   all        154       1735      0.708       0.63      0.659      0.202\n"
          ]
        },
        {
          "metadata": {
            "tags": null
          },
          "name": "stderr",
          "output_type": "stream",
          "text": [
            "\n"
          ]
        },
        {
          "metadata": {
            "tags": null
          },
          "name": "stdout",
          "output_type": "stream",
          "text": [
            "\n",
            "      Epoch    GPU_mem   box_loss   cls_loss   dfl_loss  Instances       Size\n"
          ]
        },
        {
          "metadata": {
            "tags": null
          },
          "name": "stderr",
          "output_type": "stream",
          "text": [
            "      10/20      14.5G      1.103     0.9432      1.704        650        640: 100%|██████████| 16/16 [00:37<00:00,  2.36s/it]\n",
            "                 Class     Images  Instances      Box(P          R      mAP50  mAP50-95): 100%|██████████| 5/5 [00:08<00:00,  1.76s/it]"
          ]
        },
        {
          "metadata": {
            "tags": null
          },
          "name": "stdout",
          "output_type": "stream",
          "text": [
            "                   all        154       1735      0.656      0.644      0.651      0.174\n"
          ]
        },
        {
          "metadata": {
            "tags": null
          },
          "name": "stderr",
          "output_type": "stream",
          "text": [
            "\n"
          ]
        },
        {
          "metadata": {
            "tags": null
          },
          "name": "stdout",
          "output_type": "stream",
          "text": [
            "Closing dataloader mosaic\n",
            "\u001b[34m\u001b[1malbumentations: \u001b[0mBlur(p=0.01, blur_limit=(3, 7)), MedianBlur(p=0.01, blur_limit=(3, 7)), ToGray(p=0.01), CLAHE(p=0.01, clip_limit=(1, 4.0), tile_grid_size=(8, 8))\n",
            "\n",
            "      Epoch    GPU_mem   box_loss   cls_loss   dfl_loss  Instances       Size\n"
          ]
        },
        {
          "metadata": {
            "tags": null
          },
          "name": "stderr",
          "output_type": "stream",
          "text": [
            "      11/20      14.5G      1.027     0.9467      1.711        324        640: 100%|██████████| 16/16 [00:57<00:00,  3.62s/it]\n",
            "                 Class     Images  Instances      Box(P          R      mAP50  mAP50-95): 100%|██████████| 5/5 [00:08<00:00,  1.74s/it]"
          ]
        },
        {
          "metadata": {
            "tags": null
          },
          "name": "stdout",
          "output_type": "stream",
          "text": [
            "                   all        154       1735        0.8      0.604      0.683      0.187\n"
          ]
        },
        {
          "metadata": {
            "tags": null
          },
          "name": "stderr",
          "output_type": "stream",
          "text": [
            "\n"
          ]
        },
        {
          "metadata": {
            "tags": null
          },
          "name": "stdout",
          "output_type": "stream",
          "text": [
            "\n",
            "      Epoch    GPU_mem   box_loss   cls_loss   dfl_loss  Instances       Size\n"
          ]
        },
        {
          "output_type": "stream",
          "name": "stderr",
          "text": [
            "      12/20      14.5G     0.9779     0.8482      1.658        295        640: 100%|██████████| 16/16 [00:34<00:00,  2.17s/it]\n",
            "                 Class     Images  Instances      Box(P          R      mAP50  mAP50-95): 100%|██████████| 5/5 [00:07<00:00,  1.60s/it]"
          ]
        },
        {
          "output_type": "stream",
          "name": "stdout",
          "text": [
            "                   all        154       1735      0.803      0.632      0.701      0.201\n"
          ]
        },
        {
          "output_type": "stream",
          "name": "stderr",
          "text": [
            "\n"
          ]
        },
        {
          "output_type": "stream",
          "name": "stdout",
          "text": [
            "\n",
            "      Epoch    GPU_mem   box_loss   cls_loss   dfl_loss  Instances       Size\n"
          ]
        },
        {
          "output_type": "stream",
          "name": "stderr",
          "text": [
            "      13/20      14.4G     0.9383     0.8016      1.652        290        640: 100%|██████████| 16/16 [00:34<00:00,  2.15s/it]\n",
            "                 Class     Images  Instances      Box(P          R      mAP50  mAP50-95): 100%|██████████| 5/5 [00:07<00:00,  1.47s/it]"
          ]
        },
        {
          "output_type": "stream",
          "name": "stdout",
          "text": [
            "                   all        154       1735      0.778      0.647      0.689      0.205\n"
          ]
        },
        {
          "output_type": "stream",
          "name": "stderr",
          "text": [
            "\n"
          ]
        },
        {
          "output_type": "stream",
          "name": "stdout",
          "text": [
            "\n",
            "      Epoch    GPU_mem   box_loss   cls_loss   dfl_loss  Instances       Size\n"
          ]
        },
        {
          "output_type": "stream",
          "name": "stderr",
          "text": [
            "      14/20      14.5G     0.9071     0.7516      1.611        260        640: 100%|██████████| 16/16 [00:35<00:00,  2.19s/it]\n",
            "                 Class     Images  Instances      Box(P          R      mAP50  mAP50-95): 100%|██████████| 5/5 [00:08<00:00,  1.61s/it]"
          ]
        },
        {
          "output_type": "stream",
          "name": "stdout",
          "text": [
            "                   all        154       1735      0.783      0.677      0.724      0.211\n"
          ]
        },
        {
          "output_type": "stream",
          "name": "stderr",
          "text": [
            "\n"
          ]
        },
        {
          "output_type": "stream",
          "name": "stdout",
          "text": [
            "\n",
            "      Epoch    GPU_mem   box_loss   cls_loss   dfl_loss  Instances       Size\n"
          ]
        },
        {
          "output_type": "stream",
          "name": "stderr",
          "text": [
            "      15/20      14.5G     0.9036     0.7527      1.623        243        640: 100%|██████████| 16/16 [00:33<00:00,  2.11s/it]\n",
            "                 Class     Images  Instances      Box(P          R      mAP50  mAP50-95): 100%|██████████| 5/5 [00:07<00:00,  1.52s/it]"
          ]
        },
        {
          "output_type": "stream",
          "name": "stdout",
          "text": [
            "                   all        154       1735      0.795      0.678      0.731      0.223\n"
          ]
        },
        {
          "output_type": "stream",
          "name": "stderr",
          "text": [
            "\n"
          ]
        },
        {
          "output_type": "stream",
          "name": "stdout",
          "text": [
            "\n",
            "      Epoch    GPU_mem   box_loss   cls_loss   dfl_loss  Instances       Size\n"
          ]
        },
        {
          "output_type": "stream",
          "name": "stderr",
          "text": [
            "      16/20      14.5G     0.8728     0.7285      1.633        258        640: 100%|██████████| 16/16 [00:34<00:00,  2.17s/it]\n",
            "                 Class     Images  Instances      Box(P          R      mAP50  mAP50-95): 100%|██████████| 5/5 [00:08<00:00,  1.70s/it]"
          ]
        },
        {
          "output_type": "stream",
          "name": "stdout",
          "text": [
            "                   all        154       1735      0.808      0.675      0.745      0.221\n"
          ]
        },
        {
          "output_type": "stream",
          "name": "stderr",
          "text": [
            "\n"
          ]
        },
        {
          "output_type": "stream",
          "name": "stdout",
          "text": [
            "\n",
            "      Epoch    GPU_mem   box_loss   cls_loss   dfl_loss  Instances       Size\n"
          ]
        },
        {
          "output_type": "stream",
          "name": "stderr",
          "text": [
            "      17/20      14.5G     0.8505       0.71      1.585        259        640: 100%|██████████| 16/16 [00:33<00:00,  2.08s/it]\n",
            "                 Class     Images  Instances      Box(P          R      mAP50  mAP50-95): 100%|██████████| 5/5 [00:08<00:00,  1.72s/it]"
          ]
        },
        {
          "output_type": "stream",
          "name": "stdout",
          "text": [
            "                   all        154       1735       0.79      0.675      0.734      0.227\n"
          ]
        },
        {
          "output_type": "stream",
          "name": "stderr",
          "text": [
            "\n"
          ]
        },
        {
          "output_type": "stream",
          "name": "stdout",
          "text": [
            "\n",
            "      Epoch    GPU_mem   box_loss   cls_loss   dfl_loss  Instances       Size\n"
          ]
        },
        {
          "output_type": "stream",
          "name": "stderr",
          "text": [
            "      18/20      14.5G     0.8063     0.6695      1.587        245        640: 100%|██████████| 16/16 [00:33<00:00,  2.12s/it]\n",
            "                 Class     Images  Instances      Box(P          R      mAP50  mAP50-95): 100%|██████████| 5/5 [00:07<00:00,  1.50s/it]"
          ]
        },
        {
          "output_type": "stream",
          "name": "stdout",
          "text": [
            "                   all        154       1735      0.822      0.676      0.734      0.223\n"
          ]
        },
        {
          "output_type": "stream",
          "name": "stderr",
          "text": [
            "\n"
          ]
        },
        {
          "output_type": "stream",
          "name": "stdout",
          "text": [
            "\n",
            "      Epoch    GPU_mem   box_loss   cls_loss   dfl_loss  Instances       Size\n"
          ]
        },
        {
          "output_type": "stream",
          "name": "stderr",
          "text": [
            "      19/20      14.5G      0.817     0.6491      1.586        307        640: 100%|██████████| 16/16 [00:33<00:00,  2.07s/it]\n",
            "                 Class     Images  Instances      Box(P          R      mAP50  mAP50-95): 100%|██████████| 5/5 [00:07<00:00,  1.59s/it]"
          ]
        },
        {
          "output_type": "stream",
          "name": "stdout",
          "text": [
            "                   all        154       1735      0.813      0.698      0.745      0.227\n"
          ]
        },
        {
          "output_type": "stream",
          "name": "stderr",
          "text": [
            "\n"
          ]
        },
        {
          "output_type": "stream",
          "name": "stdout",
          "text": [
            "\n",
            "      Epoch    GPU_mem   box_loss   cls_loss   dfl_loss  Instances       Size\n"
          ]
        },
        {
          "output_type": "stream",
          "name": "stderr",
          "text": [
            "      20/20      14.5G      0.796     0.6279      1.566        275        640: 100%|██████████| 16/16 [00:35<00:00,  2.19s/it]\n",
            "                 Class     Images  Instances      Box(P          R      mAP50  mAP50-95): 100%|██████████| 5/5 [00:07<00:00,  1.42s/it]"
          ]
        },
        {
          "output_type": "stream",
          "name": "stdout",
          "text": [
            "                   all        154       1735      0.834      0.695      0.751      0.231\n"
          ]
        },
        {
          "output_type": "stream",
          "name": "stderr",
          "text": [
            "\n"
          ]
        },
        {
          "output_type": "stream",
          "name": "stdout",
          "text": [
            "\n",
            "20 epochs completed in 0.284 hours.\n",
            "Optimizer stripped from runs/obb/yolov8m_trained_model/weights/last.pt, 53.4MB\n",
            "Optimizer stripped from runs/obb/yolov8m_trained_model/weights/best.pt, 53.4MB\n",
            "\n",
            "Validating runs/obb/yolov8m_trained_model/weights/best.pt...\n",
            "Ultralytics YOLOv8.1.45 🚀 Python-3.10.12 torch-2.2.1+cu121 CUDA:0 (Tesla T4, 15102MiB)\n",
            "YOLOv8m-obb summary (fused): 237 layers, 26401225 parameters, 0 gradients, 80.8 GFLOPs\n"
          ]
        },
        {
          "output_type": "stream",
          "name": "stderr",
          "text": [
            "                 Class     Images  Instances      Box(P          R      mAP50  mAP50-95): 100%|██████████| 5/5 [00:14<00:00,  2.82s/it]\n"
          ]
        },
        {
          "output_type": "stream",
          "name": "stdout",
          "text": [
            "                   all        154       1735      0.835      0.695      0.751      0.231\n",
            "                  void        154       1326      0.743      0.655      0.697      0.237\n",
            "                person        154        409      0.926      0.735      0.804      0.226\n",
            "Speed: 0.3ms preprocess, 7.9ms inference, 0.0ms loss, 17.3ms postprocess per image\n",
            "Results saved to \u001b[1mruns/obb/yolov8m_trained_model\u001b[0m\n"
          ]
        },
        {
          "output_type": "execute_result",
          "data": {
            "text/plain": [
              "ultralytics.utils.metrics.OBBMetrics object with attributes:\n",
              "\n",
              "ap_class_index: array([0, 1])\n",
              "box: ultralytics.utils.metrics.Metric object\n",
              "confusion_matrix: <ultralytics.utils.metrics.ConfusionMatrix object at 0x7dd0634e4e80>\n",
              "curves: []\n",
              "curves_results: []\n",
              "fitness: 0.2832050777303419\n",
              "keys: ['metrics/precision(B)', 'metrics/recall(B)', 'metrics/mAP50(B)', 'metrics/mAP50-95(B)']\n",
              "maps: array([    0.23665,     0.22589])\n",
              "names: {0: 'void', 1: 'person'}\n",
              "plot: True\n",
              "results_dict: {'metrics/precision(B)': 0.8345196063559337, 'metrics/recall(B)': 0.6952344868532125, 'metrics/mAP50(B)': 0.7506390094335769, 'metrics/mAP50-95(B)': 0.23126797420776027, 'fitness': 0.2832050777303419}\n",
              "save_dir: PosixPath('runs/obb/yolov8m_trained_model')\n",
              "speed: {'preprocess': 0.31251876385180977, 'inference': 7.863501449684044, 'loss': 0.000724544772854099, 'postprocess': 17.27254359753101}"
            ]
          },
          "metadata": {},
          "execution_count": 15
        }
      ]
    },
    {
      "cell_type": "code",
      "source": [
        "model = YOLO('yolov9c.pt')"
      ],
      "metadata": {
        "id": "bc9dm4ChXawf"
      },
      "execution_count": null,
      "outputs": []
    },
    {
      "cell_type": "code",
      "source": [
        "model.train(data=os.path.join(workingDir, 'void-dataset-yolo-obb_0_2_0/data.yaml'),\n",
        "            task = 'detect',\n",
        "            imgsz = 640,\n",
        "            epochs = 20,\n",
        "            batch = 16,\n",
        "            mode = 'train',\n",
        "            name = 'yolov9c_trained_model')"
      ],
      "metadata": {
        "colab": {
          "base_uri": "https://localhost:8080/"
        },
        "id": "ijvrD8VZYasc",
        "outputId": "a38b82b0-ada5-4e9a-eefa-7dfa9b46c390"
      },
      "execution_count": null,
      "outputs": [
        {
          "output_type": "stream",
          "name": "stdout",
          "text": [
            "Ultralytics YOLOv8.1.45 🚀 Python-3.10.12 torch-2.2.1+cu121 CUDA:0 (Tesla T4, 15102MiB)\n",
            "\u001b[34m\u001b[1mengine/trainer: \u001b[0mtask=detect, mode=train, model=yolov9c.pt, data=/content/drive/My Drive/Работа/Experiments/void-dataset-yolo-obb_0_2_0/data.yaml, epochs=20, time=None, patience=100, batch=16, imgsz=640, save=True, save_period=-1, cache=False, device=None, workers=8, project=None, name=yolov9c_trained_model, exist_ok=False, pretrained=True, optimizer=auto, verbose=True, seed=0, deterministic=True, single_cls=False, rect=False, cos_lr=False, close_mosaic=10, resume=False, amp=True, fraction=1.0, profile=False, freeze=None, multi_scale=False, overlap_mask=True, mask_ratio=4, dropout=0.0, val=True, split=val, save_json=False, save_hybrid=False, conf=None, iou=0.7, max_det=300, half=False, dnn=False, plots=True, source=None, vid_stride=1, stream_buffer=False, visualize=False, augment=False, agnostic_nms=False, classes=None, retina_masks=False, embed=None, show=False, save_frames=False, save_txt=False, save_conf=False, save_crop=False, show_labels=True, show_conf=True, show_boxes=True, line_width=None, format=torchscript, keras=False, optimize=False, int8=False, dynamic=False, simplify=False, opset=None, workspace=4, nms=False, lr0=0.01, lrf=0.01, momentum=0.937, weight_decay=0.0005, warmup_epochs=3.0, warmup_momentum=0.8, warmup_bias_lr=0.1, box=7.5, cls=0.5, dfl=1.5, pose=12.0, kobj=1.0, label_smoothing=0.0, nbs=64, hsv_h=0.015, hsv_s=0.7, hsv_v=0.4, degrees=0.0, translate=0.1, scale=0.5, shear=0.0, perspective=0.0, flipud=0.0, fliplr=0.5, bgr=0.0, mosaic=1.0, mixup=0.0, copy_paste=0.0, auto_augment=randaugment, erasing=0.4, crop_fraction=1.0, cfg=None, tracker=botsort.yaml, save_dir=runs/detect/yolov9c_trained_model\n",
            "Overriding model.yaml nc=80 with nc=2\n",
            "\n",
            "                   from  n    params  module                                       arguments                     \n",
            "  0                  -1  1      1856  ultralytics.nn.modules.conv.Conv             [3, 64, 3, 2]                 \n",
            "  1                  -1  1     73984  ultralytics.nn.modules.conv.Conv             [64, 128, 3, 2]               \n",
            "  2                  -1  1    212864  ultralytics.nn.modules.block.RepNCSPELAN4    [128, 256, 128, 64, 1]        \n",
            "  3                  -1  1    164352  ultralytics.nn.modules.block.ADown           [256, 256]                    \n",
            "  4                  -1  1    847616  ultralytics.nn.modules.block.RepNCSPELAN4    [256, 512, 256, 128, 1]       \n",
            "  5                  -1  1    656384  ultralytics.nn.modules.block.ADown           [512, 512]                    \n",
            "  6                  -1  1   2857472  ultralytics.nn.modules.block.RepNCSPELAN4    [512, 512, 512, 256, 1]       \n",
            "  7                  -1  1    656384  ultralytics.nn.modules.block.ADown           [512, 512]                    \n",
            "  8                  -1  1   2857472  ultralytics.nn.modules.block.RepNCSPELAN4    [512, 512, 512, 256, 1]       \n",
            "  9                  -1  1    656896  ultralytics.nn.modules.block.SPPELAN         [512, 512, 256]               \n",
            " 10                  -1  1         0  torch.nn.modules.upsampling.Upsample         [None, 2, 'nearest']          \n",
            " 11             [-1, 6]  1         0  ultralytics.nn.modules.conv.Concat           [1]                           \n",
            " 12                  -1  1   3119616  ultralytics.nn.modules.block.RepNCSPELAN4    [1024, 512, 512, 256, 1]      \n",
            " 13                  -1  1         0  torch.nn.modules.upsampling.Upsample         [None, 2, 'nearest']          \n",
            " 14             [-1, 4]  1         0  ultralytics.nn.modules.conv.Concat           [1]                           \n",
            " 15                  -1  1    912640  ultralytics.nn.modules.block.RepNCSPELAN4    [1024, 256, 256, 128, 1]      \n",
            " 16                  -1  1    164352  ultralytics.nn.modules.block.ADown           [256, 256]                    \n",
            " 17            [-1, 12]  1         0  ultralytics.nn.modules.conv.Concat           [1]                           \n",
            " 18                  -1  1   2988544  ultralytics.nn.modules.block.RepNCSPELAN4    [768, 512, 512, 256, 1]       \n",
            " 19                  -1  1    656384  ultralytics.nn.modules.block.ADown           [512, 512]                    \n",
            " 20             [-1, 9]  1         0  ultralytics.nn.modules.conv.Concat           [1]                           \n",
            " 21                  -1  1   3119616  ultralytics.nn.modules.block.RepNCSPELAN4    [1024, 512, 512, 256, 1]      \n",
            " 22        [15, 18, 21]  1   5584342  ultralytics.nn.modules.head.Detect           [2, [256, 512, 512]]          \n",
            "YOLOv9c summary: 618 layers, 25530774 parameters, 25530758 gradients, 103.7 GFLOPs\n",
            "\n",
            "Transferred 129/937 items from pretrained weights\n",
            "\u001b[34m\u001b[1mTensorBoard: \u001b[0mStart with 'tensorboard --logdir runs/detect/yolov9c_trained_model', view at http://localhost:6006/\n",
            "Freezing layer 'model.22.dfl.conv.weight'\n",
            "\u001b[34m\u001b[1mAMP: \u001b[0mrunning Automatic Mixed Precision (AMP) checks with YOLOv8n...\n",
            "\u001b[34m\u001b[1mAMP: \u001b[0mchecks passed ✅\n"
          ]
        },
        {
          "output_type": "stream",
          "name": "stderr",
          "text": [
            "\u001b[34m\u001b[1mtrain: \u001b[0mScanning /content/drive/My Drive/Работа/Experiments/void-dataset-yolo-obb_0_2_0/train/labels.cache... 510 images, 6 backgrounds, 1 corrupt: 100%|██████████| 510/510 [00:00<?, ?it/s]"
          ]
        },
        {
          "output_type": "stream",
          "name": "stdout",
          "text": [
            "\u001b[34m\u001b[1mtrain: \u001b[0mWARNING ⚠️ /content/drive/My Drive/Работа/Experiments/void-dataset-yolo-obb_0_2_0/train/images/2130706460#1$20240216145755477.jpg: ignoring corrupt image/label: negative label values [ -0.0022205]\n",
            "\u001b[34m\u001b[1malbumentations: \u001b[0mBlur(p=0.01, blur_limit=(3, 7)), MedianBlur(p=0.01, blur_limit=(3, 7)), ToGray(p=0.01), CLAHE(p=0.01, clip_limit=(1, 4.0), tile_grid_size=(8, 8))\n"
          ]
        },
        {
          "output_type": "stream",
          "name": "stderr",
          "text": [
            "\n",
            "\u001b[34m\u001b[1mval: \u001b[0mScanning /content/drive/My Drive/Работа/Experiments/void-dataset-yolo-obb_0_2_0/validation/labels.cache... 155 images, 3 backgrounds, 1 corrupt: 100%|██████████| 155/155 [00:00<?, ?it/s]"
          ]
        },
        {
          "output_type": "stream",
          "name": "stdout",
          "text": [
            "\u001b[34m\u001b[1mval: \u001b[0mWARNING ⚠️ /content/drive/My Drive/Работа/Experiments/void-dataset-yolo-obb_0_2_0/validation/images/2130706450#1$20240208161333342.jpg: ignoring corrupt image/label: negative label values [ -0.0007185]\n"
          ]
        },
        {
          "output_type": "stream",
          "name": "stderr",
          "text": [
            "\n"
          ]
        },
        {
          "output_type": "stream",
          "name": "stdout",
          "text": [
            "Plotting labels to runs/detect/yolov9c_trained_model/labels.jpg... \n",
            "\u001b[34m\u001b[1moptimizer:\u001b[0m 'optimizer=auto' found, ignoring 'lr0=0.01' and 'momentum=0.937' and determining best 'optimizer', 'lr0' and 'momentum' automatically... \n",
            "\u001b[34m\u001b[1moptimizer:\u001b[0m AdamW(lr=0.001667, momentum=0.9) with parameter groups 154 weight(decay=0.0), 161 weight(decay=0.0005), 160 bias(decay=0.0)\n",
            "\u001b[34m\u001b[1mTensorBoard: \u001b[0mmodel graph visualization added ✅\n",
            "Image sizes 640 train, 640 val\n",
            "Using 2 dataloader workers\n",
            "Logging results to \u001b[1mruns/detect/yolov9c_trained_model\u001b[0m\n",
            "Starting training for 20 epochs...\n",
            "\n",
            "      Epoch    GPU_mem   box_loss   cls_loss   dfl_loss  Instances       Size\n"
          ]
        },
        {
          "output_type": "stream",
          "name": "stderr",
          "text": [
            "       1/20      11.2G        2.9      2.983      2.221        296        640: 100%|██████████| 32/32 [01:05<00:00,  2.05s/it]\n",
            "                 Class     Images  Instances      Box(P          R      mAP50  mAP50-95): 100%|██████████| 5/5 [00:09<00:00,  1.86s/it]"
          ]
        },
        {
          "output_type": "stream",
          "name": "stdout",
          "text": [
            "                   all        154       1735      0.428      0.287      0.285      0.122\n"
          ]
        },
        {
          "output_type": "stream",
          "name": "stderr",
          "text": [
            "\n"
          ]
        },
        {
          "output_type": "stream",
          "name": "stdout",
          "text": [
            "\n",
            "      Epoch    GPU_mem   box_loss   cls_loss   dfl_loss  Instances       Size\n"
          ]
        },
        {
          "output_type": "stream",
          "name": "stderr",
          "text": [
            "       2/20      11.4G      1.949      1.664      1.449        252        640: 100%|██████████| 32/32 [01:02<00:00,  1.95s/it]\n",
            "                 Class     Images  Instances      Box(P          R      mAP50  mAP50-95): 100%|██████████| 5/5 [00:07<00:00,  1.46s/it]"
          ]
        },
        {
          "output_type": "stream",
          "name": "stdout",
          "text": [
            "                   all        154       1735      0.612      0.543      0.557      0.278\n"
          ]
        },
        {
          "output_type": "stream",
          "name": "stderr",
          "text": [
            "\n"
          ]
        },
        {
          "output_type": "stream",
          "name": "stdout",
          "text": [
            "\n",
            "      Epoch    GPU_mem   box_loss   cls_loss   dfl_loss  Instances       Size\n"
          ]
        },
        {
          "output_type": "stream",
          "name": "stderr",
          "text": [
            "       3/20      11.6G      1.738      1.432      1.314        176        640: 100%|██████████| 32/32 [01:01<00:00,  1.92s/it]\n",
            "                 Class     Images  Instances      Box(P          R      mAP50  mAP50-95): 100%|██████████| 5/5 [00:09<00:00,  1.84s/it]"
          ]
        },
        {
          "output_type": "stream",
          "name": "stdout",
          "text": [
            "                   all        154       1735      0.599      0.547      0.595      0.324\n"
          ]
        },
        {
          "output_type": "stream",
          "name": "stderr",
          "text": [
            "\n"
          ]
        },
        {
          "output_type": "stream",
          "name": "stdout",
          "text": [
            "\n",
            "      Epoch    GPU_mem   box_loss   cls_loss   dfl_loss  Instances       Size\n"
          ]
        },
        {
          "output_type": "stream",
          "name": "stderr",
          "text": [
            "       4/20      11.3G      1.594      1.308       1.24        251        640: 100%|██████████| 32/32 [01:02<00:00,  1.95s/it]\n",
            "                 Class     Images  Instances      Box(P          R      mAP50  mAP50-95): 100%|██████████| 5/5 [00:07<00:00,  1.59s/it]"
          ]
        },
        {
          "output_type": "stream",
          "name": "stdout",
          "text": [
            "                   all        154       1735      0.662      0.625      0.674      0.379\n"
          ]
        },
        {
          "output_type": "stream",
          "name": "stderr",
          "text": [
            "\n"
          ]
        },
        {
          "output_type": "stream",
          "name": "stdout",
          "text": [
            "\n",
            "      Epoch    GPU_mem   box_loss   cls_loss   dfl_loss  Instances       Size\n"
          ]
        },
        {
          "output_type": "stream",
          "name": "stderr",
          "text": [
            "       5/20      11.4G      1.463      1.164      1.169        259        640: 100%|██████████| 32/32 [01:02<00:00,  1.94s/it]\n",
            "                 Class     Images  Instances      Box(P          R      mAP50  mAP50-95): 100%|██████████| 5/5 [00:07<00:00,  1.51s/it]"
          ]
        },
        {
          "output_type": "stream",
          "name": "stdout",
          "text": [
            "                   all        154       1735      0.701      0.672      0.704       0.43\n"
          ]
        },
        {
          "output_type": "stream",
          "name": "stderr",
          "text": [
            "\n"
          ]
        },
        {
          "output_type": "stream",
          "name": "stdout",
          "text": [
            "\n",
            "      Epoch    GPU_mem   box_loss   cls_loss   dfl_loss  Instances       Size\n"
          ]
        },
        {
          "output_type": "stream",
          "name": "stderr",
          "text": [
            "       6/20      11.4G      1.414      1.093      1.141        293        640: 100%|██████████| 32/32 [01:01<00:00,  1.93s/it]\n",
            "                 Class     Images  Instances      Box(P          R      mAP50  mAP50-95): 100%|██████████| 5/5 [00:09<00:00,  1.86s/it]"
          ]
        },
        {
          "output_type": "stream",
          "name": "stdout",
          "text": [
            "                   all        154       1735      0.744      0.685       0.73      0.449\n"
          ]
        },
        {
          "output_type": "stream",
          "name": "stderr",
          "text": [
            "\n"
          ]
        },
        {
          "output_type": "stream",
          "name": "stdout",
          "text": [
            "\n",
            "      Epoch    GPU_mem   box_loss   cls_loss   dfl_loss  Instances       Size\n"
          ]
        },
        {
          "output_type": "stream",
          "name": "stderr",
          "text": [
            "       7/20      11.6G      1.359      1.025      1.112        264        640: 100%|██████████| 32/32 [01:04<00:00,  2.01s/it]\n",
            "                 Class     Images  Instances      Box(P          R      mAP50  mAP50-95): 100%|██████████| 5/5 [00:07<00:00,  1.45s/it]"
          ]
        },
        {
          "output_type": "stream",
          "name": "stdout",
          "text": [
            "                   all        154       1735      0.779      0.694      0.763      0.483\n"
          ]
        },
        {
          "output_type": "stream",
          "name": "stderr",
          "text": [
            "\n"
          ]
        },
        {
          "output_type": "stream",
          "name": "stdout",
          "text": [
            "\n",
            "      Epoch    GPU_mem   box_loss   cls_loss   dfl_loss  Instances       Size\n"
          ]
        },
        {
          "output_type": "stream",
          "name": "stderr",
          "text": [
            "       8/20      11.3G      1.307      0.977      1.098        280        640: 100%|██████████| 32/32 [01:01<00:00,  1.91s/it]\n",
            "                 Class     Images  Instances      Box(P          R      mAP50  mAP50-95): 100%|██████████| 5/5 [00:07<00:00,  1.57s/it]"
          ]
        },
        {
          "output_type": "stream",
          "name": "stdout",
          "text": [
            "                   all        154       1735      0.797      0.695      0.761      0.475\n"
          ]
        },
        {
          "output_type": "stream",
          "name": "stderr",
          "text": [
            "\n"
          ]
        },
        {
          "output_type": "stream",
          "name": "stdout",
          "text": [
            "\n",
            "      Epoch    GPU_mem   box_loss   cls_loss   dfl_loss  Instances       Size\n"
          ]
        },
        {
          "output_type": "stream",
          "name": "stderr",
          "text": [
            "       9/20      11.6G      1.286     0.9526      1.078        207        640: 100%|██████████| 32/32 [01:01<00:00,  1.91s/it]\n",
            "                 Class     Images  Instances      Box(P          R      mAP50  mAP50-95): 100%|██████████| 5/5 [00:09<00:00,  1.84s/it]"
          ]
        },
        {
          "output_type": "stream",
          "name": "stdout",
          "text": [
            "                   all        154       1735      0.785      0.732       0.79      0.507\n"
          ]
        },
        {
          "output_type": "stream",
          "name": "stderr",
          "text": [
            "\n"
          ]
        },
        {
          "output_type": "stream",
          "name": "stdout",
          "text": [
            "\n",
            "      Epoch    GPU_mem   box_loss   cls_loss   dfl_loss  Instances       Size\n"
          ]
        },
        {
          "output_type": "stream",
          "name": "stderr",
          "text": [
            "      10/20      11.3G      1.224     0.8634      1.052        328        640: 100%|██████████| 32/32 [01:02<00:00,  1.94s/it]\n",
            "                 Class     Images  Instances      Box(P          R      mAP50  mAP50-95): 100%|██████████| 5/5 [00:08<00:00,  1.67s/it]"
          ]
        },
        {
          "output_type": "stream",
          "name": "stdout",
          "text": [
            "                   all        154       1735      0.802      0.706      0.776      0.481\n"
          ]
        },
        {
          "output_type": "stream",
          "name": "stderr",
          "text": [
            "\n"
          ]
        },
        {
          "output_type": "stream",
          "name": "stdout",
          "text": [
            "Closing dataloader mosaic\n",
            "\u001b[34m\u001b[1malbumentations: \u001b[0mBlur(p=0.01, blur_limit=(3, 7)), MedianBlur(p=0.01, blur_limit=(3, 7)), ToGray(p=0.01), CLAHE(p=0.01, clip_limit=(1, 4.0), tile_grid_size=(8, 8))\n",
            "\n",
            "      Epoch    GPU_mem   box_loss   cls_loss   dfl_loss  Instances       Size\n"
          ]
        },
        {
          "output_type": "stream",
          "name": "stderr",
          "text": [
            "      11/20      11.2G      1.241     0.9744       1.05        149        640: 100%|██████████| 32/32 [00:59<00:00,  1.85s/it]\n",
            "                 Class     Images  Instances      Box(P          R      mAP50  mAP50-95): 100%|██████████| 5/5 [00:08<00:00,  1.67s/it]"
          ]
        },
        {
          "output_type": "stream",
          "name": "stdout",
          "text": [
            "                   all        154       1735      0.772      0.733      0.792      0.513\n"
          ]
        },
        {
          "output_type": "stream",
          "name": "stderr",
          "text": [
            "\n"
          ]
        },
        {
          "output_type": "stream",
          "name": "stdout",
          "text": [
            "\n",
            "      Epoch    GPU_mem   box_loss   cls_loss   dfl_loss  Instances       Size\n"
          ]
        },
        {
          "output_type": "stream",
          "name": "stderr",
          "text": [
            "      12/20      11.2G      1.212     0.9088      1.034        159        640: 100%|██████████| 32/32 [00:49<00:00,  1.56s/it]\n",
            "                 Class     Images  Instances      Box(P          R      mAP50  mAP50-95): 100%|██████████| 5/5 [00:07<00:00,  1.54s/it]"
          ]
        },
        {
          "output_type": "stream",
          "name": "stdout",
          "text": [
            "                   all        154       1735      0.829      0.703      0.789      0.517\n"
          ]
        },
        {
          "output_type": "stream",
          "name": "stderr",
          "text": [
            "\n"
          ]
        },
        {
          "output_type": "stream",
          "name": "stdout",
          "text": [
            "\n",
            "      Epoch    GPU_mem   box_loss   cls_loss   dfl_loss  Instances       Size\n"
          ]
        },
        {
          "output_type": "stream",
          "name": "stderr",
          "text": [
            "      13/20      11.6G      1.185     0.8576      1.023        157        640: 100%|██████████| 32/32 [00:49<00:00,  1.55s/it]\n",
            "                 Class     Images  Instances      Box(P          R      mAP50  mAP50-95): 100%|██████████| 5/5 [00:06<00:00,  1.26s/it]"
          ]
        },
        {
          "output_type": "stream",
          "name": "stdout",
          "text": [
            "                   all        154       1735      0.789      0.726      0.783      0.515\n"
          ]
        },
        {
          "output_type": "stream",
          "name": "stderr",
          "text": [
            "\n"
          ]
        },
        {
          "output_type": "stream",
          "name": "stdout",
          "text": [
            "\n",
            "      Epoch    GPU_mem   box_loss   cls_loss   dfl_loss  Instances       Size\n"
          ]
        },
        {
          "output_type": "stream",
          "name": "stderr",
          "text": [
            "      14/20      11.2G      1.169     0.8273      1.012         97        640: 100%|██████████| 32/32 [00:52<00:00,  1.64s/it]\n",
            "                 Class     Images  Instances      Box(P          R      mAP50  mAP50-95): 100%|██████████| 5/5 [00:06<00:00,  1.31s/it]"
          ]
        },
        {
          "output_type": "stream",
          "name": "stdout",
          "text": [
            "                   all        154       1735      0.812      0.715      0.803      0.529\n"
          ]
        },
        {
          "output_type": "stream",
          "name": "stderr",
          "text": [
            "\n"
          ]
        },
        {
          "output_type": "stream",
          "name": "stdout",
          "text": [
            "\n",
            "      Epoch    GPU_mem   box_loss   cls_loss   dfl_loss  Instances       Size\n"
          ]
        },
        {
          "output_type": "stream",
          "name": "stderr",
          "text": [
            "      15/20      11.2G      1.107     0.7842      0.994         85        640: 100%|██████████| 32/32 [00:48<00:00,  1.51s/it]\n",
            "                 Class     Images  Instances      Box(P          R      mAP50  mAP50-95): 100%|██████████| 5/5 [00:07<00:00,  1.51s/it]"
          ]
        },
        {
          "output_type": "stream",
          "name": "stdout",
          "text": [
            "                   all        154       1735      0.809      0.742      0.818      0.552\n"
          ]
        },
        {
          "output_type": "stream",
          "name": "stderr",
          "text": [
            "\n"
          ]
        },
        {
          "output_type": "stream",
          "name": "stdout",
          "text": [
            "\n",
            "      Epoch    GPU_mem   box_loss   cls_loss   dfl_loss  Instances       Size\n"
          ]
        },
        {
          "output_type": "stream",
          "name": "stderr",
          "text": [
            "      16/20      11.6G      1.087     0.7565     0.9754        123        640: 100%|██████████| 32/32 [00:48<00:00,  1.50s/it]\n",
            "                 Class     Images  Instances      Box(P          R      mAP50  mAP50-95): 100%|██████████| 5/5 [00:07<00:00,  1.57s/it]"
          ]
        },
        {
          "output_type": "stream",
          "name": "stdout",
          "text": [
            "                   all        154       1735      0.828      0.732      0.821      0.566\n"
          ]
        },
        {
          "output_type": "stream",
          "name": "stderr",
          "text": [
            "\n"
          ]
        },
        {
          "output_type": "stream",
          "name": "stdout",
          "text": [
            "\n",
            "      Epoch    GPU_mem   box_loss   cls_loss   dfl_loss  Instances       Size\n"
          ]
        },
        {
          "output_type": "stream",
          "name": "stderr",
          "text": [
            "      17/20      11.2G      1.075       0.74     0.9789         99        640: 100%|██████████| 32/32 [00:50<00:00,  1.58s/it]\n",
            "                 Class     Images  Instances      Box(P          R      mAP50  mAP50-95): 100%|██████████| 5/5 [00:06<00:00,  1.39s/it]"
          ]
        },
        {
          "output_type": "stream",
          "name": "stdout",
          "text": [
            "                   all        154       1735      0.836      0.742      0.827      0.565\n"
          ]
        },
        {
          "output_type": "stream",
          "name": "stderr",
          "text": [
            "\n"
          ]
        },
        {
          "output_type": "stream",
          "name": "stdout",
          "text": [
            "\n",
            "      Epoch    GPU_mem   box_loss   cls_loss   dfl_loss  Instances       Size\n"
          ]
        },
        {
          "output_type": "stream",
          "name": "stderr",
          "text": [
            "      18/20      11.3G      1.049      0.713     0.9645         78        640: 100%|██████████| 32/32 [00:49<00:00,  1.54s/it]\n",
            "                 Class     Images  Instances      Box(P          R      mAP50  mAP50-95): 100%|██████████| 5/5 [00:06<00:00,  1.37s/it]"
          ]
        },
        {
          "output_type": "stream",
          "name": "stdout",
          "text": [
            "                   all        154       1735      0.833      0.722       0.81      0.557\n"
          ]
        },
        {
          "output_type": "stream",
          "name": "stderr",
          "text": [
            "\n"
          ]
        },
        {
          "output_type": "stream",
          "name": "stdout",
          "text": [
            "\n",
            "      Epoch    GPU_mem   box_loss   cls_loss   dfl_loss  Instances       Size\n"
          ]
        },
        {
          "output_type": "stream",
          "name": "stderr",
          "text": [
            "      19/20      11.3G      1.022     0.6856     0.9575        141        640: 100%|██████████| 32/32 [00:50<00:00,  1.59s/it]\n",
            "                 Class     Images  Instances      Box(P          R      mAP50  mAP50-95): 100%|██████████| 5/5 [00:08<00:00,  1.68s/it]"
          ]
        },
        {
          "output_type": "stream",
          "name": "stdout",
          "text": [
            "                   all        154       1735      0.823      0.774      0.838      0.583\n"
          ]
        },
        {
          "output_type": "stream",
          "name": "stderr",
          "text": [
            "\n"
          ]
        },
        {
          "output_type": "stream",
          "name": "stdout",
          "text": [
            "\n",
            "      Epoch    GPU_mem   box_loss   cls_loss   dfl_loss  Instances       Size\n"
          ]
        },
        {
          "output_type": "stream",
          "name": "stderr",
          "text": [
            "      20/20      11.2G      1.012     0.6695      0.951        103        640: 100%|██████████| 32/32 [00:48<00:00,  1.52s/it]\n",
            "                 Class     Images  Instances      Box(P          R      mAP50  mAP50-95): 100%|██████████| 5/5 [00:07<00:00,  1.52s/it]"
          ]
        },
        {
          "output_type": "stream",
          "name": "stdout",
          "text": [
            "                   all        154       1735      0.827      0.773      0.837      0.581\n"
          ]
        },
        {
          "output_type": "stream",
          "name": "stderr",
          "text": [
            "\n"
          ]
        },
        {
          "output_type": "stream",
          "name": "stdout",
          "text": [
            "\n",
            "20 epochs completed in 0.480 hours.\n",
            "Optimizer stripped from runs/detect/yolov9c_trained_model/weights/last.pt, 51.6MB\n",
            "Optimizer stripped from runs/detect/yolov9c_trained_model/weights/best.pt, 51.6MB\n",
            "\n",
            "Validating runs/detect/yolov9c_trained_model/weights/best.pt...\n",
            "Ultralytics YOLOv8.1.45 🚀 Python-3.10.12 torch-2.2.1+cu121 CUDA:0 (Tesla T4, 15102MiB)\n",
            "YOLOv9c summary (fused): 384 layers, 25320790 parameters, 0 gradients, 102.3 GFLOPs\n"
          ]
        },
        {
          "output_type": "stream",
          "name": "stderr",
          "text": [
            "                 Class     Images  Instances      Box(P          R      mAP50  mAP50-95): 100%|██████████| 5/5 [00:17<00:00,  3.52s/it]\n"
          ]
        },
        {
          "output_type": "stream",
          "name": "stdout",
          "text": [
            "                   all        154       1735      0.823      0.775      0.838      0.583\n",
            "                  void        154       1326      0.722      0.715       0.76      0.465\n",
            "                person        154        409      0.924      0.834      0.916        0.7\n",
            "Speed: 0.5ms preprocess, 34.3ms inference, 0.0ms loss, 16.0ms postprocess per image\n",
            "Results saved to \u001b[1mruns/detect/yolov9c_trained_model\u001b[0m\n"
          ]
        },
        {
          "output_type": "execute_result",
          "data": {
            "text/plain": [
              "ultralytics.utils.metrics.DetMetrics object with attributes:\n",
              "\n",
              "ap_class_index: array([0, 1])\n",
              "box: ultralytics.utils.metrics.Metric object\n",
              "confusion_matrix: <ultralytics.utils.metrics.ConfusionMatrix object at 0x7dd065af2590>\n",
              "curves: ['Precision-Recall(B)', 'F1-Confidence(B)', 'Precision-Confidence(B)', 'Recall-Confidence(B)']\n",
              "curves_results: [[array([          0,    0.001001,    0.002002,    0.003003,    0.004004,    0.005005,    0.006006,    0.007007,    0.008008,    0.009009,     0.01001,    0.011011,    0.012012,    0.013013,    0.014014,    0.015015,    0.016016,    0.017017,    0.018018,    0.019019,     0.02002,    0.021021,    0.022022,    0.023023,\n",
              "          0.024024,    0.025025,    0.026026,    0.027027,    0.028028,    0.029029,     0.03003,    0.031031,    0.032032,    0.033033,    0.034034,    0.035035,    0.036036,    0.037037,    0.038038,    0.039039,     0.04004,    0.041041,    0.042042,    0.043043,    0.044044,    0.045045,    0.046046,    0.047047,\n",
              "          0.048048,    0.049049,     0.05005,    0.051051,    0.052052,    0.053053,    0.054054,    0.055055,    0.056056,    0.057057,    0.058058,    0.059059,     0.06006,    0.061061,    0.062062,    0.063063,    0.064064,    0.065065,    0.066066,    0.067067,    0.068068,    0.069069,     0.07007,    0.071071,\n",
              "          0.072072,    0.073073,    0.074074,    0.075075,    0.076076,    0.077077,    0.078078,    0.079079,     0.08008,    0.081081,    0.082082,    0.083083,    0.084084,    0.085085,    0.086086,    0.087087,    0.088088,    0.089089,     0.09009,    0.091091,    0.092092,    0.093093,    0.094094,    0.095095,\n",
              "          0.096096,    0.097097,    0.098098,    0.099099,      0.1001,      0.1011,      0.1021,      0.1031,      0.1041,     0.10511,     0.10611,     0.10711,     0.10811,     0.10911,     0.11011,     0.11111,     0.11211,     0.11311,     0.11411,     0.11512,     0.11612,     0.11712,     0.11812,     0.11912,\n",
              "           0.12012,     0.12112,     0.12212,     0.12312,     0.12412,     0.12513,     0.12613,     0.12713,     0.12813,     0.12913,     0.13013,     0.13113,     0.13213,     0.13313,     0.13413,     0.13514,     0.13614,     0.13714,     0.13814,     0.13914,     0.14014,     0.14114,     0.14214,     0.14314,\n",
              "           0.14414,     0.14515,     0.14615,     0.14715,     0.14815,     0.14915,     0.15015,     0.15115,     0.15215,     0.15315,     0.15415,     0.15516,     0.15616,     0.15716,     0.15816,     0.15916,     0.16016,     0.16116,     0.16216,     0.16316,     0.16416,     0.16517,     0.16617,     0.16717,\n",
              "           0.16817,     0.16917,     0.17017,     0.17117,     0.17217,     0.17317,     0.17417,     0.17518,     0.17618,     0.17718,     0.17818,     0.17918,     0.18018,     0.18118,     0.18218,     0.18318,     0.18418,     0.18519,     0.18619,     0.18719,     0.18819,     0.18919,     0.19019,     0.19119,\n",
              "           0.19219,     0.19319,     0.19419,      0.1952,      0.1962,      0.1972,      0.1982,      0.1992,      0.2002,      0.2012,      0.2022,      0.2032,      0.2042,     0.20521,     0.20621,     0.20721,     0.20821,     0.20921,     0.21021,     0.21121,     0.21221,     0.21321,     0.21421,     0.21522,\n",
              "           0.21622,     0.21722,     0.21822,     0.21922,     0.22022,     0.22122,     0.22222,     0.22322,     0.22422,     0.22523,     0.22623,     0.22723,     0.22823,     0.22923,     0.23023,     0.23123,     0.23223,     0.23323,     0.23423,     0.23524,     0.23624,     0.23724,     0.23824,     0.23924,\n",
              "           0.24024,     0.24124,     0.24224,     0.24324,     0.24424,     0.24525,     0.24625,     0.24725,     0.24825,     0.24925,     0.25025,     0.25125,     0.25225,     0.25325,     0.25425,     0.25526,     0.25626,     0.25726,     0.25826,     0.25926,     0.26026,     0.26126,     0.26226,     0.26326,\n",
              "           0.26426,     0.26527,     0.26627,     0.26727,     0.26827,     0.26927,     0.27027,     0.27127,     0.27227,     0.27327,     0.27427,     0.27528,     0.27628,     0.27728,     0.27828,     0.27928,     0.28028,     0.28128,     0.28228,     0.28328,     0.28428,     0.28529,     0.28629,     0.28729,\n",
              "           0.28829,     0.28929,     0.29029,     0.29129,     0.29229,     0.29329,     0.29429,      0.2953,      0.2963,      0.2973,      0.2983,      0.2993,      0.3003,      0.3013,      0.3023,      0.3033,      0.3043,     0.30531,     0.30631,     0.30731,     0.30831,     0.30931,     0.31031,     0.31131,\n",
              "           0.31231,     0.31331,     0.31431,     0.31532,     0.31632,     0.31732,     0.31832,     0.31932,     0.32032,     0.32132,     0.32232,     0.32332,     0.32432,     0.32533,     0.32633,     0.32733,     0.32833,     0.32933,     0.33033,     0.33133,     0.33233,     0.33333,     0.33433,     0.33534,\n",
              "           0.33634,     0.33734,     0.33834,     0.33934,     0.34034,     0.34134,     0.34234,     0.34334,     0.34434,     0.34535,     0.34635,     0.34735,     0.34835,     0.34935,     0.35035,     0.35135,     0.35235,     0.35335,     0.35435,     0.35536,     0.35636,     0.35736,     0.35836,     0.35936,\n",
              "           0.36036,     0.36136,     0.36236,     0.36336,     0.36436,     0.36537,     0.36637,     0.36737,     0.36837,     0.36937,     0.37037,     0.37137,     0.37237,     0.37337,     0.37437,     0.37538,     0.37638,     0.37738,     0.37838,     0.37938,     0.38038,     0.38138,     0.38238,     0.38338,\n",
              "           0.38438,     0.38539,     0.38639,     0.38739,     0.38839,     0.38939,     0.39039,     0.39139,     0.39239,     0.39339,     0.39439,      0.3954,      0.3964,      0.3974,      0.3984,      0.3994,      0.4004,      0.4014,      0.4024,      0.4034,      0.4044,     0.40541,     0.40641,     0.40741,\n",
              "           0.40841,     0.40941,     0.41041,     0.41141,     0.41241,     0.41341,     0.41441,     0.41542,     0.41642,     0.41742,     0.41842,     0.41942,     0.42042,     0.42142,     0.42242,     0.42342,     0.42442,     0.42543,     0.42643,     0.42743,     0.42843,     0.42943,     0.43043,     0.43143,\n",
              "           0.43243,     0.43343,     0.43443,     0.43544,     0.43644,     0.43744,     0.43844,     0.43944,     0.44044,     0.44144,     0.44244,     0.44344,     0.44444,     0.44545,     0.44645,     0.44745,     0.44845,     0.44945,     0.45045,     0.45145,     0.45245,     0.45345,     0.45445,     0.45546,\n",
              "           0.45646,     0.45746,     0.45846,     0.45946,     0.46046,     0.46146,     0.46246,     0.46346,     0.46446,     0.46547,     0.46647,     0.46747,     0.46847,     0.46947,     0.47047,     0.47147,     0.47247,     0.47347,     0.47447,     0.47548,     0.47648,     0.47748,     0.47848,     0.47948,\n",
              "           0.48048,     0.48148,     0.48248,     0.48348,     0.48448,     0.48549,     0.48649,     0.48749,     0.48849,     0.48949,     0.49049,     0.49149,     0.49249,     0.49349,     0.49449,      0.4955,      0.4965,      0.4975,      0.4985,      0.4995,      0.5005,      0.5015,      0.5025,      0.5035,\n",
              "            0.5045,     0.50551,     0.50651,     0.50751,     0.50851,     0.50951,     0.51051,     0.51151,     0.51251,     0.51351,     0.51451,     0.51552,     0.51652,     0.51752,     0.51852,     0.51952,     0.52052,     0.52152,     0.52252,     0.52352,     0.52452,     0.52553,     0.52653,     0.52753,\n",
              "           0.52853,     0.52953,     0.53053,     0.53153,     0.53253,     0.53353,     0.53453,     0.53554,     0.53654,     0.53754,     0.53854,     0.53954,     0.54054,     0.54154,     0.54254,     0.54354,     0.54454,     0.54555,     0.54655,     0.54755,     0.54855,     0.54955,     0.55055,     0.55155,\n",
              "           0.55255,     0.55355,     0.55455,     0.55556,     0.55656,     0.55756,     0.55856,     0.55956,     0.56056,     0.56156,     0.56256,     0.56356,     0.56456,     0.56557,     0.56657,     0.56757,     0.56857,     0.56957,     0.57057,     0.57157,     0.57257,     0.57357,     0.57457,     0.57558,\n",
              "           0.57658,     0.57758,     0.57858,     0.57958,     0.58058,     0.58158,     0.58258,     0.58358,     0.58458,     0.58559,     0.58659,     0.58759,     0.58859,     0.58959,     0.59059,     0.59159,     0.59259,     0.59359,     0.59459,      0.5956,      0.5966,      0.5976,      0.5986,      0.5996,\n",
              "            0.6006,      0.6016,      0.6026,      0.6036,      0.6046,     0.60561,     0.60661,     0.60761,     0.60861,     0.60961,     0.61061,     0.61161,     0.61261,     0.61361,     0.61461,     0.61562,     0.61662,     0.61762,     0.61862,     0.61962,     0.62062,     0.62162,     0.62262,     0.62362,\n",
              "           0.62462,     0.62563,     0.62663,     0.62763,     0.62863,     0.62963,     0.63063,     0.63163,     0.63263,     0.63363,     0.63463,     0.63564,     0.63664,     0.63764,     0.63864,     0.63964,     0.64064,     0.64164,     0.64264,     0.64364,     0.64464,     0.64565,     0.64665,     0.64765,\n",
              "           0.64865,     0.64965,     0.65065,     0.65165,     0.65265,     0.65365,     0.65465,     0.65566,     0.65666,     0.65766,     0.65866,     0.65966,     0.66066,     0.66166,     0.66266,     0.66366,     0.66466,     0.66567,     0.66667,     0.66767,     0.66867,     0.66967,     0.67067,     0.67167,\n",
              "           0.67267,     0.67367,     0.67467,     0.67568,     0.67668,     0.67768,     0.67868,     0.67968,     0.68068,     0.68168,     0.68268,     0.68368,     0.68468,     0.68569,     0.68669,     0.68769,     0.68869,     0.68969,     0.69069,     0.69169,     0.69269,     0.69369,     0.69469,      0.6957,\n",
              "            0.6967,      0.6977,      0.6987,      0.6997,      0.7007,      0.7017,      0.7027,      0.7037,      0.7047,     0.70571,     0.70671,     0.70771,     0.70871,     0.70971,     0.71071,     0.71171,     0.71271,     0.71371,     0.71471,     0.71572,     0.71672,     0.71772,     0.71872,     0.71972,\n",
              "           0.72072,     0.72172,     0.72272,     0.72372,     0.72472,     0.72573,     0.72673,     0.72773,     0.72873,     0.72973,     0.73073,     0.73173,     0.73273,     0.73373,     0.73473,     0.73574,     0.73674,     0.73774,     0.73874,     0.73974,     0.74074,     0.74174,     0.74274,     0.74374,\n",
              "           0.74474,     0.74575,     0.74675,     0.74775,     0.74875,     0.74975,     0.75075,     0.75175,     0.75275,     0.75375,     0.75475,     0.75576,     0.75676,     0.75776,     0.75876,     0.75976,     0.76076,     0.76176,     0.76276,     0.76376,     0.76476,     0.76577,     0.76677,     0.76777,\n",
              "           0.76877,     0.76977,     0.77077,     0.77177,     0.77277,     0.77377,     0.77477,     0.77578,     0.77678,     0.77778,     0.77878,     0.77978,     0.78078,     0.78178,     0.78278,     0.78378,     0.78478,     0.78579,     0.78679,     0.78779,     0.78879,     0.78979,     0.79079,     0.79179,\n",
              "           0.79279,     0.79379,     0.79479,      0.7958,      0.7968,      0.7978,      0.7988,      0.7998,      0.8008,      0.8018,      0.8028,      0.8038,      0.8048,     0.80581,     0.80681,     0.80781,     0.80881,     0.80981,     0.81081,     0.81181,     0.81281,     0.81381,     0.81481,     0.81582,\n",
              "           0.81682,     0.81782,     0.81882,     0.81982,     0.82082,     0.82182,     0.82282,     0.82382,     0.82482,     0.82583,     0.82683,     0.82783,     0.82883,     0.82983,     0.83083,     0.83183,     0.83283,     0.83383,     0.83483,     0.83584,     0.83684,     0.83784,     0.83884,     0.83984,\n",
              "           0.84084,     0.84184,     0.84284,     0.84384,     0.84484,     0.84585,     0.84685,     0.84785,     0.84885,     0.84985,     0.85085,     0.85185,     0.85285,     0.85385,     0.85485,     0.85586,     0.85686,     0.85786,     0.85886,     0.85986,     0.86086,     0.86186,     0.86286,     0.86386,\n",
              "           0.86486,     0.86587,     0.86687,     0.86787,     0.86887,     0.86987,     0.87087,     0.87187,     0.87287,     0.87387,     0.87487,     0.87588,     0.87688,     0.87788,     0.87888,     0.87988,     0.88088,     0.88188,     0.88288,     0.88388,     0.88488,     0.88589,     0.88689,     0.88789,\n",
              "           0.88889,     0.88989,     0.89089,     0.89189,     0.89289,     0.89389,     0.89489,      0.8959,      0.8969,      0.8979,      0.8989,      0.8999,      0.9009,      0.9019,      0.9029,      0.9039,      0.9049,     0.90591,     0.90691,     0.90791,     0.90891,     0.90991,     0.91091,     0.91191,\n",
              "           0.91291,     0.91391,     0.91491,     0.91592,     0.91692,     0.91792,     0.91892,     0.91992,     0.92092,     0.92192,     0.92292,     0.92392,     0.92492,     0.92593,     0.92693,     0.92793,     0.92893,     0.92993,     0.93093,     0.93193,     0.93293,     0.93393,     0.93493,     0.93594,\n",
              "           0.93694,     0.93794,     0.93894,     0.93994,     0.94094,     0.94194,     0.94294,     0.94394,     0.94494,     0.94595,     0.94695,     0.94795,     0.94895,     0.94995,     0.95095,     0.95195,     0.95295,     0.95395,     0.95495,     0.95596,     0.95696,     0.95796,     0.95896,     0.95996,\n",
              "           0.96096,     0.96196,     0.96296,     0.96396,     0.96496,     0.96597,     0.96697,     0.96797,     0.96897,     0.96997,     0.97097,     0.97197,     0.97297,     0.97397,     0.97497,     0.97598,     0.97698,     0.97798,     0.97898,     0.97998,     0.98098,     0.98198,     0.98298,     0.98398,\n",
              "           0.98498,     0.98599,     0.98699,     0.98799,     0.98899,     0.98999,     0.99099,     0.99199,     0.99299,     0.99399,     0.99499,       0.996,       0.997,       0.998,       0.999,           1]), array([[          1,           1,           1, ...,   0.0027961,   0.0013981,           0],\n",
              "       [          1,           1,           1, ...,   0.0059204,   0.0029602,           0]]), 'Recall', 'Precision'], [array([          0,    0.001001,    0.002002,    0.003003,    0.004004,    0.005005,    0.006006,    0.007007,    0.008008,    0.009009,     0.01001,    0.011011,    0.012012,    0.013013,    0.014014,    0.015015,    0.016016,    0.017017,    0.018018,    0.019019,     0.02002,    0.021021,    0.022022,    0.023023,\n",
              "          0.024024,    0.025025,    0.026026,    0.027027,    0.028028,    0.029029,     0.03003,    0.031031,    0.032032,    0.033033,    0.034034,    0.035035,    0.036036,    0.037037,    0.038038,    0.039039,     0.04004,    0.041041,    0.042042,    0.043043,    0.044044,    0.045045,    0.046046,    0.047047,\n",
              "          0.048048,    0.049049,     0.05005,    0.051051,    0.052052,    0.053053,    0.054054,    0.055055,    0.056056,    0.057057,    0.058058,    0.059059,     0.06006,    0.061061,    0.062062,    0.063063,    0.064064,    0.065065,    0.066066,    0.067067,    0.068068,    0.069069,     0.07007,    0.071071,\n",
              "          0.072072,    0.073073,    0.074074,    0.075075,    0.076076,    0.077077,    0.078078,    0.079079,     0.08008,    0.081081,    0.082082,    0.083083,    0.084084,    0.085085,    0.086086,    0.087087,    0.088088,    0.089089,     0.09009,    0.091091,    0.092092,    0.093093,    0.094094,    0.095095,\n",
              "          0.096096,    0.097097,    0.098098,    0.099099,      0.1001,      0.1011,      0.1021,      0.1031,      0.1041,     0.10511,     0.10611,     0.10711,     0.10811,     0.10911,     0.11011,     0.11111,     0.11211,     0.11311,     0.11411,     0.11512,     0.11612,     0.11712,     0.11812,     0.11912,\n",
              "           0.12012,     0.12112,     0.12212,     0.12312,     0.12412,     0.12513,     0.12613,     0.12713,     0.12813,     0.12913,     0.13013,     0.13113,     0.13213,     0.13313,     0.13413,     0.13514,     0.13614,     0.13714,     0.13814,     0.13914,     0.14014,     0.14114,     0.14214,     0.14314,\n",
              "           0.14414,     0.14515,     0.14615,     0.14715,     0.14815,     0.14915,     0.15015,     0.15115,     0.15215,     0.15315,     0.15415,     0.15516,     0.15616,     0.15716,     0.15816,     0.15916,     0.16016,     0.16116,     0.16216,     0.16316,     0.16416,     0.16517,     0.16617,     0.16717,\n",
              "           0.16817,     0.16917,     0.17017,     0.17117,     0.17217,     0.17317,     0.17417,     0.17518,     0.17618,     0.17718,     0.17818,     0.17918,     0.18018,     0.18118,     0.18218,     0.18318,     0.18418,     0.18519,     0.18619,     0.18719,     0.18819,     0.18919,     0.19019,     0.19119,\n",
              "           0.19219,     0.19319,     0.19419,      0.1952,      0.1962,      0.1972,      0.1982,      0.1992,      0.2002,      0.2012,      0.2022,      0.2032,      0.2042,     0.20521,     0.20621,     0.20721,     0.20821,     0.20921,     0.21021,     0.21121,     0.21221,     0.21321,     0.21421,     0.21522,\n",
              "           0.21622,     0.21722,     0.21822,     0.21922,     0.22022,     0.22122,     0.22222,     0.22322,     0.22422,     0.22523,     0.22623,     0.22723,     0.22823,     0.22923,     0.23023,     0.23123,     0.23223,     0.23323,     0.23423,     0.23524,     0.23624,     0.23724,     0.23824,     0.23924,\n",
              "           0.24024,     0.24124,     0.24224,     0.24324,     0.24424,     0.24525,     0.24625,     0.24725,     0.24825,     0.24925,     0.25025,     0.25125,     0.25225,     0.25325,     0.25425,     0.25526,     0.25626,     0.25726,     0.25826,     0.25926,     0.26026,     0.26126,     0.26226,     0.26326,\n",
              "           0.26426,     0.26527,     0.26627,     0.26727,     0.26827,     0.26927,     0.27027,     0.27127,     0.27227,     0.27327,     0.27427,     0.27528,     0.27628,     0.27728,     0.27828,     0.27928,     0.28028,     0.28128,     0.28228,     0.28328,     0.28428,     0.28529,     0.28629,     0.28729,\n",
              "           0.28829,     0.28929,     0.29029,     0.29129,     0.29229,     0.29329,     0.29429,      0.2953,      0.2963,      0.2973,      0.2983,      0.2993,      0.3003,      0.3013,      0.3023,      0.3033,      0.3043,     0.30531,     0.30631,     0.30731,     0.30831,     0.30931,     0.31031,     0.31131,\n",
              "           0.31231,     0.31331,     0.31431,     0.31532,     0.31632,     0.31732,     0.31832,     0.31932,     0.32032,     0.32132,     0.32232,     0.32332,     0.32432,     0.32533,     0.32633,     0.32733,     0.32833,     0.32933,     0.33033,     0.33133,     0.33233,     0.33333,     0.33433,     0.33534,\n",
              "           0.33634,     0.33734,     0.33834,     0.33934,     0.34034,     0.34134,     0.34234,     0.34334,     0.34434,     0.34535,     0.34635,     0.34735,     0.34835,     0.34935,     0.35035,     0.35135,     0.35235,     0.35335,     0.35435,     0.35536,     0.35636,     0.35736,     0.35836,     0.35936,\n",
              "           0.36036,     0.36136,     0.36236,     0.36336,     0.36436,     0.36537,     0.36637,     0.36737,     0.36837,     0.36937,     0.37037,     0.37137,     0.37237,     0.37337,     0.37437,     0.37538,     0.37638,     0.37738,     0.37838,     0.37938,     0.38038,     0.38138,     0.38238,     0.38338,\n",
              "           0.38438,     0.38539,     0.38639,     0.38739,     0.38839,     0.38939,     0.39039,     0.39139,     0.39239,     0.39339,     0.39439,      0.3954,      0.3964,      0.3974,      0.3984,      0.3994,      0.4004,      0.4014,      0.4024,      0.4034,      0.4044,     0.40541,     0.40641,     0.40741,\n",
              "           0.40841,     0.40941,     0.41041,     0.41141,     0.41241,     0.41341,     0.41441,     0.41542,     0.41642,     0.41742,     0.41842,     0.41942,     0.42042,     0.42142,     0.42242,     0.42342,     0.42442,     0.42543,     0.42643,     0.42743,     0.42843,     0.42943,     0.43043,     0.43143,\n",
              "           0.43243,     0.43343,     0.43443,     0.43544,     0.43644,     0.43744,     0.43844,     0.43944,     0.44044,     0.44144,     0.44244,     0.44344,     0.44444,     0.44545,     0.44645,     0.44745,     0.44845,     0.44945,     0.45045,     0.45145,     0.45245,     0.45345,     0.45445,     0.45546,\n",
              "           0.45646,     0.45746,     0.45846,     0.45946,     0.46046,     0.46146,     0.46246,     0.46346,     0.46446,     0.46547,     0.46647,     0.46747,     0.46847,     0.46947,     0.47047,     0.47147,     0.47247,     0.47347,     0.47447,     0.47548,     0.47648,     0.47748,     0.47848,     0.47948,\n",
              "           0.48048,     0.48148,     0.48248,     0.48348,     0.48448,     0.48549,     0.48649,     0.48749,     0.48849,     0.48949,     0.49049,     0.49149,     0.49249,     0.49349,     0.49449,      0.4955,      0.4965,      0.4975,      0.4985,      0.4995,      0.5005,      0.5015,      0.5025,      0.5035,\n",
              "            0.5045,     0.50551,     0.50651,     0.50751,     0.50851,     0.50951,     0.51051,     0.51151,     0.51251,     0.51351,     0.51451,     0.51552,     0.51652,     0.51752,     0.51852,     0.51952,     0.52052,     0.52152,     0.52252,     0.52352,     0.52452,     0.52553,     0.52653,     0.52753,\n",
              "           0.52853,     0.52953,     0.53053,     0.53153,     0.53253,     0.53353,     0.53453,     0.53554,     0.53654,     0.53754,     0.53854,     0.53954,     0.54054,     0.54154,     0.54254,     0.54354,     0.54454,     0.54555,     0.54655,     0.54755,     0.54855,     0.54955,     0.55055,     0.55155,\n",
              "           0.55255,     0.55355,     0.55455,     0.55556,     0.55656,     0.55756,     0.55856,     0.55956,     0.56056,     0.56156,     0.56256,     0.56356,     0.56456,     0.56557,     0.56657,     0.56757,     0.56857,     0.56957,     0.57057,     0.57157,     0.57257,     0.57357,     0.57457,     0.57558,\n",
              "           0.57658,     0.57758,     0.57858,     0.57958,     0.58058,     0.58158,     0.58258,     0.58358,     0.58458,     0.58559,     0.58659,     0.58759,     0.58859,     0.58959,     0.59059,     0.59159,     0.59259,     0.59359,     0.59459,      0.5956,      0.5966,      0.5976,      0.5986,      0.5996,\n",
              "            0.6006,      0.6016,      0.6026,      0.6036,      0.6046,     0.60561,     0.60661,     0.60761,     0.60861,     0.60961,     0.61061,     0.61161,     0.61261,     0.61361,     0.61461,     0.61562,     0.61662,     0.61762,     0.61862,     0.61962,     0.62062,     0.62162,     0.62262,     0.62362,\n",
              "           0.62462,     0.62563,     0.62663,     0.62763,     0.62863,     0.62963,     0.63063,     0.63163,     0.63263,     0.63363,     0.63463,     0.63564,     0.63664,     0.63764,     0.63864,     0.63964,     0.64064,     0.64164,     0.64264,     0.64364,     0.64464,     0.64565,     0.64665,     0.64765,\n",
              "           0.64865,     0.64965,     0.65065,     0.65165,     0.65265,     0.65365,     0.65465,     0.65566,     0.65666,     0.65766,     0.65866,     0.65966,     0.66066,     0.66166,     0.66266,     0.66366,     0.66466,     0.66567,     0.66667,     0.66767,     0.66867,     0.66967,     0.67067,     0.67167,\n",
              "           0.67267,     0.67367,     0.67467,     0.67568,     0.67668,     0.67768,     0.67868,     0.67968,     0.68068,     0.68168,     0.68268,     0.68368,     0.68468,     0.68569,     0.68669,     0.68769,     0.68869,     0.68969,     0.69069,     0.69169,     0.69269,     0.69369,     0.69469,      0.6957,\n",
              "            0.6967,      0.6977,      0.6987,      0.6997,      0.7007,      0.7017,      0.7027,      0.7037,      0.7047,     0.70571,     0.70671,     0.70771,     0.70871,     0.70971,     0.71071,     0.71171,     0.71271,     0.71371,     0.71471,     0.71572,     0.71672,     0.71772,     0.71872,     0.71972,\n",
              "           0.72072,     0.72172,     0.72272,     0.72372,     0.72472,     0.72573,     0.72673,     0.72773,     0.72873,     0.72973,     0.73073,     0.73173,     0.73273,     0.73373,     0.73473,     0.73574,     0.73674,     0.73774,     0.73874,     0.73974,     0.74074,     0.74174,     0.74274,     0.74374,\n",
              "           0.74474,     0.74575,     0.74675,     0.74775,     0.74875,     0.74975,     0.75075,     0.75175,     0.75275,     0.75375,     0.75475,     0.75576,     0.75676,     0.75776,     0.75876,     0.75976,     0.76076,     0.76176,     0.76276,     0.76376,     0.76476,     0.76577,     0.76677,     0.76777,\n",
              "           0.76877,     0.76977,     0.77077,     0.77177,     0.77277,     0.77377,     0.77477,     0.77578,     0.77678,     0.77778,     0.77878,     0.77978,     0.78078,     0.78178,     0.78278,     0.78378,     0.78478,     0.78579,     0.78679,     0.78779,     0.78879,     0.78979,     0.79079,     0.79179,\n",
              "           0.79279,     0.79379,     0.79479,      0.7958,      0.7968,      0.7978,      0.7988,      0.7998,      0.8008,      0.8018,      0.8028,      0.8038,      0.8048,     0.80581,     0.80681,     0.80781,     0.80881,     0.80981,     0.81081,     0.81181,     0.81281,     0.81381,     0.81481,     0.81582,\n",
              "           0.81682,     0.81782,     0.81882,     0.81982,     0.82082,     0.82182,     0.82282,     0.82382,     0.82482,     0.82583,     0.82683,     0.82783,     0.82883,     0.82983,     0.83083,     0.83183,     0.83283,     0.83383,     0.83483,     0.83584,     0.83684,     0.83784,     0.83884,     0.83984,\n",
              "           0.84084,     0.84184,     0.84284,     0.84384,     0.84484,     0.84585,     0.84685,     0.84785,     0.84885,     0.84985,     0.85085,     0.85185,     0.85285,     0.85385,     0.85485,     0.85586,     0.85686,     0.85786,     0.85886,     0.85986,     0.86086,     0.86186,     0.86286,     0.86386,\n",
              "           0.86486,     0.86587,     0.86687,     0.86787,     0.86887,     0.86987,     0.87087,     0.87187,     0.87287,     0.87387,     0.87487,     0.87588,     0.87688,     0.87788,     0.87888,     0.87988,     0.88088,     0.88188,     0.88288,     0.88388,     0.88488,     0.88589,     0.88689,     0.88789,\n",
              "           0.88889,     0.88989,     0.89089,     0.89189,     0.89289,     0.89389,     0.89489,      0.8959,      0.8969,      0.8979,      0.8989,      0.8999,      0.9009,      0.9019,      0.9029,      0.9039,      0.9049,     0.90591,     0.90691,     0.90791,     0.90891,     0.90991,     0.91091,     0.91191,\n",
              "           0.91291,     0.91391,     0.91491,     0.91592,     0.91692,     0.91792,     0.91892,     0.91992,     0.92092,     0.92192,     0.92292,     0.92392,     0.92492,     0.92593,     0.92693,     0.92793,     0.92893,     0.92993,     0.93093,     0.93193,     0.93293,     0.93393,     0.93493,     0.93594,\n",
              "           0.93694,     0.93794,     0.93894,     0.93994,     0.94094,     0.94194,     0.94294,     0.94394,     0.94494,     0.94595,     0.94695,     0.94795,     0.94895,     0.94995,     0.95095,     0.95195,     0.95295,     0.95395,     0.95495,     0.95596,     0.95696,     0.95796,     0.95896,     0.95996,\n",
              "           0.96096,     0.96196,     0.96296,     0.96396,     0.96496,     0.96597,     0.96697,     0.96797,     0.96897,     0.96997,     0.97097,     0.97197,     0.97297,     0.97397,     0.97497,     0.97598,     0.97698,     0.97798,     0.97898,     0.97998,     0.98098,     0.98198,     0.98298,     0.98398,\n",
              "           0.98498,     0.98599,     0.98699,     0.98799,     0.98899,     0.98999,     0.99099,     0.99199,     0.99299,     0.99399,     0.99499,       0.996,       0.997,       0.998,       0.999,           1]), array([[    0.11484,     0.11484,     0.17238, ...,           0,           0,           0],\n",
              "       [    0.17135,     0.17135,     0.27456, ...,           0,           0,           0]]), 'Confidence', 'F1'], [array([          0,    0.001001,    0.002002,    0.003003,    0.004004,    0.005005,    0.006006,    0.007007,    0.008008,    0.009009,     0.01001,    0.011011,    0.012012,    0.013013,    0.014014,    0.015015,    0.016016,    0.017017,    0.018018,    0.019019,     0.02002,    0.021021,    0.022022,    0.023023,\n",
              "          0.024024,    0.025025,    0.026026,    0.027027,    0.028028,    0.029029,     0.03003,    0.031031,    0.032032,    0.033033,    0.034034,    0.035035,    0.036036,    0.037037,    0.038038,    0.039039,     0.04004,    0.041041,    0.042042,    0.043043,    0.044044,    0.045045,    0.046046,    0.047047,\n",
              "          0.048048,    0.049049,     0.05005,    0.051051,    0.052052,    0.053053,    0.054054,    0.055055,    0.056056,    0.057057,    0.058058,    0.059059,     0.06006,    0.061061,    0.062062,    0.063063,    0.064064,    0.065065,    0.066066,    0.067067,    0.068068,    0.069069,     0.07007,    0.071071,\n",
              "          0.072072,    0.073073,    0.074074,    0.075075,    0.076076,    0.077077,    0.078078,    0.079079,     0.08008,    0.081081,    0.082082,    0.083083,    0.084084,    0.085085,    0.086086,    0.087087,    0.088088,    0.089089,     0.09009,    0.091091,    0.092092,    0.093093,    0.094094,    0.095095,\n",
              "          0.096096,    0.097097,    0.098098,    0.099099,      0.1001,      0.1011,      0.1021,      0.1031,      0.1041,     0.10511,     0.10611,     0.10711,     0.10811,     0.10911,     0.11011,     0.11111,     0.11211,     0.11311,     0.11411,     0.11512,     0.11612,     0.11712,     0.11812,     0.11912,\n",
              "           0.12012,     0.12112,     0.12212,     0.12312,     0.12412,     0.12513,     0.12613,     0.12713,     0.12813,     0.12913,     0.13013,     0.13113,     0.13213,     0.13313,     0.13413,     0.13514,     0.13614,     0.13714,     0.13814,     0.13914,     0.14014,     0.14114,     0.14214,     0.14314,\n",
              "           0.14414,     0.14515,     0.14615,     0.14715,     0.14815,     0.14915,     0.15015,     0.15115,     0.15215,     0.15315,     0.15415,     0.15516,     0.15616,     0.15716,     0.15816,     0.15916,     0.16016,     0.16116,     0.16216,     0.16316,     0.16416,     0.16517,     0.16617,     0.16717,\n",
              "           0.16817,     0.16917,     0.17017,     0.17117,     0.17217,     0.17317,     0.17417,     0.17518,     0.17618,     0.17718,     0.17818,     0.17918,     0.18018,     0.18118,     0.18218,     0.18318,     0.18418,     0.18519,     0.18619,     0.18719,     0.18819,     0.18919,     0.19019,     0.19119,\n",
              "           0.19219,     0.19319,     0.19419,      0.1952,      0.1962,      0.1972,      0.1982,      0.1992,      0.2002,      0.2012,      0.2022,      0.2032,      0.2042,     0.20521,     0.20621,     0.20721,     0.20821,     0.20921,     0.21021,     0.21121,     0.21221,     0.21321,     0.21421,     0.21522,\n",
              "           0.21622,     0.21722,     0.21822,     0.21922,     0.22022,     0.22122,     0.22222,     0.22322,     0.22422,     0.22523,     0.22623,     0.22723,     0.22823,     0.22923,     0.23023,     0.23123,     0.23223,     0.23323,     0.23423,     0.23524,     0.23624,     0.23724,     0.23824,     0.23924,\n",
              "           0.24024,     0.24124,     0.24224,     0.24324,     0.24424,     0.24525,     0.24625,     0.24725,     0.24825,     0.24925,     0.25025,     0.25125,     0.25225,     0.25325,     0.25425,     0.25526,     0.25626,     0.25726,     0.25826,     0.25926,     0.26026,     0.26126,     0.26226,     0.26326,\n",
              "           0.26426,     0.26527,     0.26627,     0.26727,     0.26827,     0.26927,     0.27027,     0.27127,     0.27227,     0.27327,     0.27427,     0.27528,     0.27628,     0.27728,     0.27828,     0.27928,     0.28028,     0.28128,     0.28228,     0.28328,     0.28428,     0.28529,     0.28629,     0.28729,\n",
              "           0.28829,     0.28929,     0.29029,     0.29129,     0.29229,     0.29329,     0.29429,      0.2953,      0.2963,      0.2973,      0.2983,      0.2993,      0.3003,      0.3013,      0.3023,      0.3033,      0.3043,     0.30531,     0.30631,     0.30731,     0.30831,     0.30931,     0.31031,     0.31131,\n",
              "           0.31231,     0.31331,     0.31431,     0.31532,     0.31632,     0.31732,     0.31832,     0.31932,     0.32032,     0.32132,     0.32232,     0.32332,     0.32432,     0.32533,     0.32633,     0.32733,     0.32833,     0.32933,     0.33033,     0.33133,     0.33233,     0.33333,     0.33433,     0.33534,\n",
              "           0.33634,     0.33734,     0.33834,     0.33934,     0.34034,     0.34134,     0.34234,     0.34334,     0.34434,     0.34535,     0.34635,     0.34735,     0.34835,     0.34935,     0.35035,     0.35135,     0.35235,     0.35335,     0.35435,     0.35536,     0.35636,     0.35736,     0.35836,     0.35936,\n",
              "           0.36036,     0.36136,     0.36236,     0.36336,     0.36436,     0.36537,     0.36637,     0.36737,     0.36837,     0.36937,     0.37037,     0.37137,     0.37237,     0.37337,     0.37437,     0.37538,     0.37638,     0.37738,     0.37838,     0.37938,     0.38038,     0.38138,     0.38238,     0.38338,\n",
              "           0.38438,     0.38539,     0.38639,     0.38739,     0.38839,     0.38939,     0.39039,     0.39139,     0.39239,     0.39339,     0.39439,      0.3954,      0.3964,      0.3974,      0.3984,      0.3994,      0.4004,      0.4014,      0.4024,      0.4034,      0.4044,     0.40541,     0.40641,     0.40741,\n",
              "           0.40841,     0.40941,     0.41041,     0.41141,     0.41241,     0.41341,     0.41441,     0.41542,     0.41642,     0.41742,     0.41842,     0.41942,     0.42042,     0.42142,     0.42242,     0.42342,     0.42442,     0.42543,     0.42643,     0.42743,     0.42843,     0.42943,     0.43043,     0.43143,\n",
              "           0.43243,     0.43343,     0.43443,     0.43544,     0.43644,     0.43744,     0.43844,     0.43944,     0.44044,     0.44144,     0.44244,     0.44344,     0.44444,     0.44545,     0.44645,     0.44745,     0.44845,     0.44945,     0.45045,     0.45145,     0.45245,     0.45345,     0.45445,     0.45546,\n",
              "           0.45646,     0.45746,     0.45846,     0.45946,     0.46046,     0.46146,     0.46246,     0.46346,     0.46446,     0.46547,     0.46647,     0.46747,     0.46847,     0.46947,     0.47047,     0.47147,     0.47247,     0.47347,     0.47447,     0.47548,     0.47648,     0.47748,     0.47848,     0.47948,\n",
              "           0.48048,     0.48148,     0.48248,     0.48348,     0.48448,     0.48549,     0.48649,     0.48749,     0.48849,     0.48949,     0.49049,     0.49149,     0.49249,     0.49349,     0.49449,      0.4955,      0.4965,      0.4975,      0.4985,      0.4995,      0.5005,      0.5015,      0.5025,      0.5035,\n",
              "            0.5045,     0.50551,     0.50651,     0.50751,     0.50851,     0.50951,     0.51051,     0.51151,     0.51251,     0.51351,     0.51451,     0.51552,     0.51652,     0.51752,     0.51852,     0.51952,     0.52052,     0.52152,     0.52252,     0.52352,     0.52452,     0.52553,     0.52653,     0.52753,\n",
              "           0.52853,     0.52953,     0.53053,     0.53153,     0.53253,     0.53353,     0.53453,     0.53554,     0.53654,     0.53754,     0.53854,     0.53954,     0.54054,     0.54154,     0.54254,     0.54354,     0.54454,     0.54555,     0.54655,     0.54755,     0.54855,     0.54955,     0.55055,     0.55155,\n",
              "           0.55255,     0.55355,     0.55455,     0.55556,     0.55656,     0.55756,     0.55856,     0.55956,     0.56056,     0.56156,     0.56256,     0.56356,     0.56456,     0.56557,     0.56657,     0.56757,     0.56857,     0.56957,     0.57057,     0.57157,     0.57257,     0.57357,     0.57457,     0.57558,\n",
              "           0.57658,     0.57758,     0.57858,     0.57958,     0.58058,     0.58158,     0.58258,     0.58358,     0.58458,     0.58559,     0.58659,     0.58759,     0.58859,     0.58959,     0.59059,     0.59159,     0.59259,     0.59359,     0.59459,      0.5956,      0.5966,      0.5976,      0.5986,      0.5996,\n",
              "            0.6006,      0.6016,      0.6026,      0.6036,      0.6046,     0.60561,     0.60661,     0.60761,     0.60861,     0.60961,     0.61061,     0.61161,     0.61261,     0.61361,     0.61461,     0.61562,     0.61662,     0.61762,     0.61862,     0.61962,     0.62062,     0.62162,     0.62262,     0.62362,\n",
              "           0.62462,     0.62563,     0.62663,     0.62763,     0.62863,     0.62963,     0.63063,     0.63163,     0.63263,     0.63363,     0.63463,     0.63564,     0.63664,     0.63764,     0.63864,     0.63964,     0.64064,     0.64164,     0.64264,     0.64364,     0.64464,     0.64565,     0.64665,     0.64765,\n",
              "           0.64865,     0.64965,     0.65065,     0.65165,     0.65265,     0.65365,     0.65465,     0.65566,     0.65666,     0.65766,     0.65866,     0.65966,     0.66066,     0.66166,     0.66266,     0.66366,     0.66466,     0.66567,     0.66667,     0.66767,     0.66867,     0.66967,     0.67067,     0.67167,\n",
              "           0.67267,     0.67367,     0.67467,     0.67568,     0.67668,     0.67768,     0.67868,     0.67968,     0.68068,     0.68168,     0.68268,     0.68368,     0.68468,     0.68569,     0.68669,     0.68769,     0.68869,     0.68969,     0.69069,     0.69169,     0.69269,     0.69369,     0.69469,      0.6957,\n",
              "            0.6967,      0.6977,      0.6987,      0.6997,      0.7007,      0.7017,      0.7027,      0.7037,      0.7047,     0.70571,     0.70671,     0.70771,     0.70871,     0.70971,     0.71071,     0.71171,     0.71271,     0.71371,     0.71471,     0.71572,     0.71672,     0.71772,     0.71872,     0.71972,\n",
              "           0.72072,     0.72172,     0.72272,     0.72372,     0.72472,     0.72573,     0.72673,     0.72773,     0.72873,     0.72973,     0.73073,     0.73173,     0.73273,     0.73373,     0.73473,     0.73574,     0.73674,     0.73774,     0.73874,     0.73974,     0.74074,     0.74174,     0.74274,     0.74374,\n",
              "           0.74474,     0.74575,     0.74675,     0.74775,     0.74875,     0.74975,     0.75075,     0.75175,     0.75275,     0.75375,     0.75475,     0.75576,     0.75676,     0.75776,     0.75876,     0.75976,     0.76076,     0.76176,     0.76276,     0.76376,     0.76476,     0.76577,     0.76677,     0.76777,\n",
              "           0.76877,     0.76977,     0.77077,     0.77177,     0.77277,     0.77377,     0.77477,     0.77578,     0.77678,     0.77778,     0.77878,     0.77978,     0.78078,     0.78178,     0.78278,     0.78378,     0.78478,     0.78579,     0.78679,     0.78779,     0.78879,     0.78979,     0.79079,     0.79179,\n",
              "           0.79279,     0.79379,     0.79479,      0.7958,      0.7968,      0.7978,      0.7988,      0.7998,      0.8008,      0.8018,      0.8028,      0.8038,      0.8048,     0.80581,     0.80681,     0.80781,     0.80881,     0.80981,     0.81081,     0.81181,     0.81281,     0.81381,     0.81481,     0.81582,\n",
              "           0.81682,     0.81782,     0.81882,     0.81982,     0.82082,     0.82182,     0.82282,     0.82382,     0.82482,     0.82583,     0.82683,     0.82783,     0.82883,     0.82983,     0.83083,     0.83183,     0.83283,     0.83383,     0.83483,     0.83584,     0.83684,     0.83784,     0.83884,     0.83984,\n",
              "           0.84084,     0.84184,     0.84284,     0.84384,     0.84484,     0.84585,     0.84685,     0.84785,     0.84885,     0.84985,     0.85085,     0.85185,     0.85285,     0.85385,     0.85485,     0.85586,     0.85686,     0.85786,     0.85886,     0.85986,     0.86086,     0.86186,     0.86286,     0.86386,\n",
              "           0.86486,     0.86587,     0.86687,     0.86787,     0.86887,     0.86987,     0.87087,     0.87187,     0.87287,     0.87387,     0.87487,     0.87588,     0.87688,     0.87788,     0.87888,     0.87988,     0.88088,     0.88188,     0.88288,     0.88388,     0.88488,     0.88589,     0.88689,     0.88789,\n",
              "           0.88889,     0.88989,     0.89089,     0.89189,     0.89289,     0.89389,     0.89489,      0.8959,      0.8969,      0.8979,      0.8989,      0.8999,      0.9009,      0.9019,      0.9029,      0.9039,      0.9049,     0.90591,     0.90691,     0.90791,     0.90891,     0.90991,     0.91091,     0.91191,\n",
              "           0.91291,     0.91391,     0.91491,     0.91592,     0.91692,     0.91792,     0.91892,     0.91992,     0.92092,     0.92192,     0.92292,     0.92392,     0.92492,     0.92593,     0.92693,     0.92793,     0.92893,     0.92993,     0.93093,     0.93193,     0.93293,     0.93393,     0.93493,     0.93594,\n",
              "           0.93694,     0.93794,     0.93894,     0.93994,     0.94094,     0.94194,     0.94294,     0.94394,     0.94494,     0.94595,     0.94695,     0.94795,     0.94895,     0.94995,     0.95095,     0.95195,     0.95295,     0.95395,     0.95495,     0.95596,     0.95696,     0.95796,     0.95896,     0.95996,\n",
              "           0.96096,     0.96196,     0.96296,     0.96396,     0.96496,     0.96597,     0.96697,     0.96797,     0.96897,     0.96997,     0.97097,     0.97197,     0.97297,     0.97397,     0.97497,     0.97598,     0.97698,     0.97798,     0.97898,     0.97998,     0.98098,     0.98198,     0.98298,     0.98398,\n",
              "           0.98498,     0.98599,     0.98699,     0.98799,     0.98899,     0.98999,     0.99099,     0.99199,     0.99299,     0.99399,     0.99499,       0.996,       0.997,       0.998,       0.999,           1]), array([[   0.061091,    0.061091,    0.094749, ...,           1,           1,           1],\n",
              "       [   0.093995,    0.093995,     0.16009, ...,           1,           1,           1]]), 'Confidence', 'Precision'], [array([          0,    0.001001,    0.002002,    0.003003,    0.004004,    0.005005,    0.006006,    0.007007,    0.008008,    0.009009,     0.01001,    0.011011,    0.012012,    0.013013,    0.014014,    0.015015,    0.016016,    0.017017,    0.018018,    0.019019,     0.02002,    0.021021,    0.022022,    0.023023,\n",
              "          0.024024,    0.025025,    0.026026,    0.027027,    0.028028,    0.029029,     0.03003,    0.031031,    0.032032,    0.033033,    0.034034,    0.035035,    0.036036,    0.037037,    0.038038,    0.039039,     0.04004,    0.041041,    0.042042,    0.043043,    0.044044,    0.045045,    0.046046,    0.047047,\n",
              "          0.048048,    0.049049,     0.05005,    0.051051,    0.052052,    0.053053,    0.054054,    0.055055,    0.056056,    0.057057,    0.058058,    0.059059,     0.06006,    0.061061,    0.062062,    0.063063,    0.064064,    0.065065,    0.066066,    0.067067,    0.068068,    0.069069,     0.07007,    0.071071,\n",
              "          0.072072,    0.073073,    0.074074,    0.075075,    0.076076,    0.077077,    0.078078,    0.079079,     0.08008,    0.081081,    0.082082,    0.083083,    0.084084,    0.085085,    0.086086,    0.087087,    0.088088,    0.089089,     0.09009,    0.091091,    0.092092,    0.093093,    0.094094,    0.095095,\n",
              "          0.096096,    0.097097,    0.098098,    0.099099,      0.1001,      0.1011,      0.1021,      0.1031,      0.1041,     0.10511,     0.10611,     0.10711,     0.10811,     0.10911,     0.11011,     0.11111,     0.11211,     0.11311,     0.11411,     0.11512,     0.11612,     0.11712,     0.11812,     0.11912,\n",
              "           0.12012,     0.12112,     0.12212,     0.12312,     0.12412,     0.12513,     0.12613,     0.12713,     0.12813,     0.12913,     0.13013,     0.13113,     0.13213,     0.13313,     0.13413,     0.13514,     0.13614,     0.13714,     0.13814,     0.13914,     0.14014,     0.14114,     0.14214,     0.14314,\n",
              "           0.14414,     0.14515,     0.14615,     0.14715,     0.14815,     0.14915,     0.15015,     0.15115,     0.15215,     0.15315,     0.15415,     0.15516,     0.15616,     0.15716,     0.15816,     0.15916,     0.16016,     0.16116,     0.16216,     0.16316,     0.16416,     0.16517,     0.16617,     0.16717,\n",
              "           0.16817,     0.16917,     0.17017,     0.17117,     0.17217,     0.17317,     0.17417,     0.17518,     0.17618,     0.17718,     0.17818,     0.17918,     0.18018,     0.18118,     0.18218,     0.18318,     0.18418,     0.18519,     0.18619,     0.18719,     0.18819,     0.18919,     0.19019,     0.19119,\n",
              "           0.19219,     0.19319,     0.19419,      0.1952,      0.1962,      0.1972,      0.1982,      0.1992,      0.2002,      0.2012,      0.2022,      0.2032,      0.2042,     0.20521,     0.20621,     0.20721,     0.20821,     0.20921,     0.21021,     0.21121,     0.21221,     0.21321,     0.21421,     0.21522,\n",
              "           0.21622,     0.21722,     0.21822,     0.21922,     0.22022,     0.22122,     0.22222,     0.22322,     0.22422,     0.22523,     0.22623,     0.22723,     0.22823,     0.22923,     0.23023,     0.23123,     0.23223,     0.23323,     0.23423,     0.23524,     0.23624,     0.23724,     0.23824,     0.23924,\n",
              "           0.24024,     0.24124,     0.24224,     0.24324,     0.24424,     0.24525,     0.24625,     0.24725,     0.24825,     0.24925,     0.25025,     0.25125,     0.25225,     0.25325,     0.25425,     0.25526,     0.25626,     0.25726,     0.25826,     0.25926,     0.26026,     0.26126,     0.26226,     0.26326,\n",
              "           0.26426,     0.26527,     0.26627,     0.26727,     0.26827,     0.26927,     0.27027,     0.27127,     0.27227,     0.27327,     0.27427,     0.27528,     0.27628,     0.27728,     0.27828,     0.27928,     0.28028,     0.28128,     0.28228,     0.28328,     0.28428,     0.28529,     0.28629,     0.28729,\n",
              "           0.28829,     0.28929,     0.29029,     0.29129,     0.29229,     0.29329,     0.29429,      0.2953,      0.2963,      0.2973,      0.2983,      0.2993,      0.3003,      0.3013,      0.3023,      0.3033,      0.3043,     0.30531,     0.30631,     0.30731,     0.30831,     0.30931,     0.31031,     0.31131,\n",
              "           0.31231,     0.31331,     0.31431,     0.31532,     0.31632,     0.31732,     0.31832,     0.31932,     0.32032,     0.32132,     0.32232,     0.32332,     0.32432,     0.32533,     0.32633,     0.32733,     0.32833,     0.32933,     0.33033,     0.33133,     0.33233,     0.33333,     0.33433,     0.33534,\n",
              "           0.33634,     0.33734,     0.33834,     0.33934,     0.34034,     0.34134,     0.34234,     0.34334,     0.34434,     0.34535,     0.34635,     0.34735,     0.34835,     0.34935,     0.35035,     0.35135,     0.35235,     0.35335,     0.35435,     0.35536,     0.35636,     0.35736,     0.35836,     0.35936,\n",
              "           0.36036,     0.36136,     0.36236,     0.36336,     0.36436,     0.36537,     0.36637,     0.36737,     0.36837,     0.36937,     0.37037,     0.37137,     0.37237,     0.37337,     0.37437,     0.37538,     0.37638,     0.37738,     0.37838,     0.37938,     0.38038,     0.38138,     0.38238,     0.38338,\n",
              "           0.38438,     0.38539,     0.38639,     0.38739,     0.38839,     0.38939,     0.39039,     0.39139,     0.39239,     0.39339,     0.39439,      0.3954,      0.3964,      0.3974,      0.3984,      0.3994,      0.4004,      0.4014,      0.4024,      0.4034,      0.4044,     0.40541,     0.40641,     0.40741,\n",
              "           0.40841,     0.40941,     0.41041,     0.41141,     0.41241,     0.41341,     0.41441,     0.41542,     0.41642,     0.41742,     0.41842,     0.41942,     0.42042,     0.42142,     0.42242,     0.42342,     0.42442,     0.42543,     0.42643,     0.42743,     0.42843,     0.42943,     0.43043,     0.43143,\n",
              "           0.43243,     0.43343,     0.43443,     0.43544,     0.43644,     0.43744,     0.43844,     0.43944,     0.44044,     0.44144,     0.44244,     0.44344,     0.44444,     0.44545,     0.44645,     0.44745,     0.44845,     0.44945,     0.45045,     0.45145,     0.45245,     0.45345,     0.45445,     0.45546,\n",
              "           0.45646,     0.45746,     0.45846,     0.45946,     0.46046,     0.46146,     0.46246,     0.46346,     0.46446,     0.46547,     0.46647,     0.46747,     0.46847,     0.46947,     0.47047,     0.47147,     0.47247,     0.47347,     0.47447,     0.47548,     0.47648,     0.47748,     0.47848,     0.47948,\n",
              "           0.48048,     0.48148,     0.48248,     0.48348,     0.48448,     0.48549,     0.48649,     0.48749,     0.48849,     0.48949,     0.49049,     0.49149,     0.49249,     0.49349,     0.49449,      0.4955,      0.4965,      0.4975,      0.4985,      0.4995,      0.5005,      0.5015,      0.5025,      0.5035,\n",
              "            0.5045,     0.50551,     0.50651,     0.50751,     0.50851,     0.50951,     0.51051,     0.51151,     0.51251,     0.51351,     0.51451,     0.51552,     0.51652,     0.51752,     0.51852,     0.51952,     0.52052,     0.52152,     0.52252,     0.52352,     0.52452,     0.52553,     0.52653,     0.52753,\n",
              "           0.52853,     0.52953,     0.53053,     0.53153,     0.53253,     0.53353,     0.53453,     0.53554,     0.53654,     0.53754,     0.53854,     0.53954,     0.54054,     0.54154,     0.54254,     0.54354,     0.54454,     0.54555,     0.54655,     0.54755,     0.54855,     0.54955,     0.55055,     0.55155,\n",
              "           0.55255,     0.55355,     0.55455,     0.55556,     0.55656,     0.55756,     0.55856,     0.55956,     0.56056,     0.56156,     0.56256,     0.56356,     0.56456,     0.56557,     0.56657,     0.56757,     0.56857,     0.56957,     0.57057,     0.57157,     0.57257,     0.57357,     0.57457,     0.57558,\n",
              "           0.57658,     0.57758,     0.57858,     0.57958,     0.58058,     0.58158,     0.58258,     0.58358,     0.58458,     0.58559,     0.58659,     0.58759,     0.58859,     0.58959,     0.59059,     0.59159,     0.59259,     0.59359,     0.59459,      0.5956,      0.5966,      0.5976,      0.5986,      0.5996,\n",
              "            0.6006,      0.6016,      0.6026,      0.6036,      0.6046,     0.60561,     0.60661,     0.60761,     0.60861,     0.60961,     0.61061,     0.61161,     0.61261,     0.61361,     0.61461,     0.61562,     0.61662,     0.61762,     0.61862,     0.61962,     0.62062,     0.62162,     0.62262,     0.62362,\n",
              "           0.62462,     0.62563,     0.62663,     0.62763,     0.62863,     0.62963,     0.63063,     0.63163,     0.63263,     0.63363,     0.63463,     0.63564,     0.63664,     0.63764,     0.63864,     0.63964,     0.64064,     0.64164,     0.64264,     0.64364,     0.64464,     0.64565,     0.64665,     0.64765,\n",
              "           0.64865,     0.64965,     0.65065,     0.65165,     0.65265,     0.65365,     0.65465,     0.65566,     0.65666,     0.65766,     0.65866,     0.65966,     0.66066,     0.66166,     0.66266,     0.66366,     0.66466,     0.66567,     0.66667,     0.66767,     0.66867,     0.66967,     0.67067,     0.67167,\n",
              "           0.67267,     0.67367,     0.67467,     0.67568,     0.67668,     0.67768,     0.67868,     0.67968,     0.68068,     0.68168,     0.68268,     0.68368,     0.68468,     0.68569,     0.68669,     0.68769,     0.68869,     0.68969,     0.69069,     0.69169,     0.69269,     0.69369,     0.69469,      0.6957,\n",
              "            0.6967,      0.6977,      0.6987,      0.6997,      0.7007,      0.7017,      0.7027,      0.7037,      0.7047,     0.70571,     0.70671,     0.70771,     0.70871,     0.70971,     0.71071,     0.71171,     0.71271,     0.71371,     0.71471,     0.71572,     0.71672,     0.71772,     0.71872,     0.71972,\n",
              "           0.72072,     0.72172,     0.72272,     0.72372,     0.72472,     0.72573,     0.72673,     0.72773,     0.72873,     0.72973,     0.73073,     0.73173,     0.73273,     0.73373,     0.73473,     0.73574,     0.73674,     0.73774,     0.73874,     0.73974,     0.74074,     0.74174,     0.74274,     0.74374,\n",
              "           0.74474,     0.74575,     0.74675,     0.74775,     0.74875,     0.74975,     0.75075,     0.75175,     0.75275,     0.75375,     0.75475,     0.75576,     0.75676,     0.75776,     0.75876,     0.75976,     0.76076,     0.76176,     0.76276,     0.76376,     0.76476,     0.76577,     0.76677,     0.76777,\n",
              "           0.76877,     0.76977,     0.77077,     0.77177,     0.77277,     0.77377,     0.77477,     0.77578,     0.77678,     0.77778,     0.77878,     0.77978,     0.78078,     0.78178,     0.78278,     0.78378,     0.78478,     0.78579,     0.78679,     0.78779,     0.78879,     0.78979,     0.79079,     0.79179,\n",
              "           0.79279,     0.79379,     0.79479,      0.7958,      0.7968,      0.7978,      0.7988,      0.7998,      0.8008,      0.8018,      0.8028,      0.8038,      0.8048,     0.80581,     0.80681,     0.80781,     0.80881,     0.80981,     0.81081,     0.81181,     0.81281,     0.81381,     0.81481,     0.81582,\n",
              "           0.81682,     0.81782,     0.81882,     0.81982,     0.82082,     0.82182,     0.82282,     0.82382,     0.82482,     0.82583,     0.82683,     0.82783,     0.82883,     0.82983,     0.83083,     0.83183,     0.83283,     0.83383,     0.83483,     0.83584,     0.83684,     0.83784,     0.83884,     0.83984,\n",
              "           0.84084,     0.84184,     0.84284,     0.84384,     0.84484,     0.84585,     0.84685,     0.84785,     0.84885,     0.84985,     0.85085,     0.85185,     0.85285,     0.85385,     0.85485,     0.85586,     0.85686,     0.85786,     0.85886,     0.85986,     0.86086,     0.86186,     0.86286,     0.86386,\n",
              "           0.86486,     0.86587,     0.86687,     0.86787,     0.86887,     0.86987,     0.87087,     0.87187,     0.87287,     0.87387,     0.87487,     0.87588,     0.87688,     0.87788,     0.87888,     0.87988,     0.88088,     0.88188,     0.88288,     0.88388,     0.88488,     0.88589,     0.88689,     0.88789,\n",
              "           0.88889,     0.88989,     0.89089,     0.89189,     0.89289,     0.89389,     0.89489,      0.8959,      0.8969,      0.8979,      0.8989,      0.8999,      0.9009,      0.9019,      0.9029,      0.9039,      0.9049,     0.90591,     0.90691,     0.90791,     0.90891,     0.90991,     0.91091,     0.91191,\n",
              "           0.91291,     0.91391,     0.91491,     0.91592,     0.91692,     0.91792,     0.91892,     0.91992,     0.92092,     0.92192,     0.92292,     0.92392,     0.92492,     0.92593,     0.92693,     0.92793,     0.92893,     0.92993,     0.93093,     0.93193,     0.93293,     0.93393,     0.93493,     0.93594,\n",
              "           0.93694,     0.93794,     0.93894,     0.93994,     0.94094,     0.94194,     0.94294,     0.94394,     0.94494,     0.94595,     0.94695,     0.94795,     0.94895,     0.94995,     0.95095,     0.95195,     0.95295,     0.95395,     0.95495,     0.95596,     0.95696,     0.95796,     0.95896,     0.95996,\n",
              "           0.96096,     0.96196,     0.96296,     0.96396,     0.96496,     0.96597,     0.96697,     0.96797,     0.96897,     0.96997,     0.97097,     0.97197,     0.97297,     0.97397,     0.97497,     0.97598,     0.97698,     0.97798,     0.97898,     0.97998,     0.98098,     0.98198,     0.98298,     0.98398,\n",
              "           0.98498,     0.98599,     0.98699,     0.98799,     0.98899,     0.98999,     0.99099,     0.99199,     0.99299,     0.99399,     0.99499,       0.996,       0.997,       0.998,       0.999,           1]), array([[    0.95626,     0.95626,       0.954, ...,           0,           0,           0],\n",
              "       [    0.96822,     0.96822,     0.96333, ...,           0,           0,           0]]), 'Confidence', 'Recall']]\n",
              "fitness: 0.6080982657528922\n",
              "keys: ['metrics/precision(B)', 'metrics/recall(B)', 'metrics/mAP50(B)', 'metrics/mAP50-95(B)']\n",
              "maps: array([    0.46536,     0.69975])\n",
              "names: {0: 'void', 1: 'person'}\n",
              "plot: True\n",
              "results_dict: {'metrics/precision(B)': 0.822986975566879, 'metrics/recall(B)': 0.774528160039083, 'metrics/mAP50(B)': 0.8379512221246315, 'metrics/mAP50-95(B)': 0.5825590483782543, 'fitness': 0.6080982657528922}\n",
              "save_dir: PosixPath('runs/detect/yolov9c_trained_model')\n",
              "speed: {'preprocess': 0.531843730381557, 'inference': 34.2587898303936, 'loss': 0.0004923188841188109, 'postprocess': 15.953986675708325}\n",
              "task: 'detect'"
            ]
          },
          "metadata": {},
          "execution_count": 20
        }
      ]
    },
    {
      "cell_type": "code",
      "source": [
        "model = YOLO('yolov9c.pt')"
      ],
      "metadata": {
        "id": "HKnJXx4xm6x2"
      },
      "execution_count": null,
      "outputs": []
    },
    {
      "cell_type": "code",
      "source": [
        "model.train(data=os.path.join(workingDir, 'void-dataset-yolo-obb_0_2_0/data.yaml'),\n",
        "            task = 'test',\n",
        "            imgsz = 640,\n",
        "            epochs = 20,\n",
        "            batch = 16,\n",
        "            mode = 'train',\n",
        "            name = 'yolov9c_trained_2_model')"
      ],
      "metadata": {
        "colab": {
          "base_uri": "https://localhost:8080/"
        },
        "id": "xIKsubEJm8yZ",
        "outputId": "a95ebbcc-01e4-486c-fb0d-3093ce31145e"
      },
      "execution_count": null,
      "outputs": [
        {
          "output_type": "stream",
          "name": "stdout",
          "text": [
            "Ultralytics YOLOv8.1.45 🚀 Python-3.10.12 torch-2.2.1+cu121 CUDA:0 (Tesla T4, 15102MiB)\n",
            "\u001b[34m\u001b[1mengine/trainer: \u001b[0mtask=test, mode=train, model=yolov9c.pt, data=/content/drive/My Drive/Работа/Experiments/void-dataset-yolo-obb_0_2_0/data.yaml, epochs=20, time=None, patience=100, batch=16, imgsz=640, save=True, save_period=-1, cache=False, device=None, workers=8, project=None, name=yolov9c_trained_2_model, exist_ok=False, pretrained=True, optimizer=auto, verbose=True, seed=0, deterministic=True, single_cls=False, rect=False, cos_lr=False, close_mosaic=10, resume=False, amp=True, fraction=1.0, profile=False, freeze=None, multi_scale=False, overlap_mask=True, mask_ratio=4, dropout=0.0, val=True, split=val, save_json=False, save_hybrid=False, conf=None, iou=0.7, max_det=300, half=False, dnn=False, plots=True, source=None, vid_stride=1, stream_buffer=False, visualize=False, augment=False, agnostic_nms=False, classes=None, retina_masks=False, embed=None, show=False, save_frames=False, save_txt=False, save_conf=False, save_crop=False, show_labels=True, show_conf=True, show_boxes=True, line_width=None, format=torchscript, keras=False, optimize=False, int8=False, dynamic=False, simplify=False, opset=None, workspace=4, nms=False, lr0=0.01, lrf=0.01, momentum=0.937, weight_decay=0.0005, warmup_epochs=3.0, warmup_momentum=0.8, warmup_bias_lr=0.1, box=7.5, cls=0.5, dfl=1.5, pose=12.0, kobj=1.0, label_smoothing=0.0, nbs=64, hsv_h=0.015, hsv_s=0.7, hsv_v=0.4, degrees=0.0, translate=0.1, scale=0.5, shear=0.0, perspective=0.0, flipud=0.0, fliplr=0.5, bgr=0.0, mosaic=1.0, mixup=0.0, copy_paste=0.0, auto_augment=randaugment, erasing=0.4, crop_fraction=1.0, cfg=None, tracker=botsort.yaml, save_dir=runs/test/yolov9c_trained_2_model\n",
            "Overriding model.yaml nc=80 with nc=2\n",
            "\n",
            "                   from  n    params  module                                       arguments                     \n",
            "  0                  -1  1      1856  ultralytics.nn.modules.conv.Conv             [3, 64, 3, 2]                 \n",
            "  1                  -1  1     73984  ultralytics.nn.modules.conv.Conv             [64, 128, 3, 2]               \n",
            "  2                  -1  1    212864  ultralytics.nn.modules.block.RepNCSPELAN4    [128, 256, 128, 64, 1]        \n",
            "  3                  -1  1    164352  ultralytics.nn.modules.block.ADown           [256, 256]                    \n",
            "  4                  -1  1    847616  ultralytics.nn.modules.block.RepNCSPELAN4    [256, 512, 256, 128, 1]       \n",
            "  5                  -1  1    656384  ultralytics.nn.modules.block.ADown           [512, 512]                    \n",
            "  6                  -1  1   2857472  ultralytics.nn.modules.block.RepNCSPELAN4    [512, 512, 512, 256, 1]       \n",
            "  7                  -1  1    656384  ultralytics.nn.modules.block.ADown           [512, 512]                    \n",
            "  8                  -1  1   2857472  ultralytics.nn.modules.block.RepNCSPELAN4    [512, 512, 512, 256, 1]       \n",
            "  9                  -1  1    656896  ultralytics.nn.modules.block.SPPELAN         [512, 512, 256]               \n",
            " 10                  -1  1         0  torch.nn.modules.upsampling.Upsample         [None, 2, 'nearest']          \n",
            " 11             [-1, 6]  1         0  ultralytics.nn.modules.conv.Concat           [1]                           \n",
            " 12                  -1  1   3119616  ultralytics.nn.modules.block.RepNCSPELAN4    [1024, 512, 512, 256, 1]      \n",
            " 13                  -1  1         0  torch.nn.modules.upsampling.Upsample         [None, 2, 'nearest']          \n",
            " 14             [-1, 4]  1         0  ultralytics.nn.modules.conv.Concat           [1]                           \n",
            " 15                  -1  1    912640  ultralytics.nn.modules.block.RepNCSPELAN4    [1024, 256, 256, 128, 1]      \n",
            " 16                  -1  1    164352  ultralytics.nn.modules.block.ADown           [256, 256]                    \n",
            " 17            [-1, 12]  1         0  ultralytics.nn.modules.conv.Concat           [1]                           \n",
            " 18                  -1  1   2988544  ultralytics.nn.modules.block.RepNCSPELAN4    [768, 512, 512, 256, 1]       \n",
            " 19                  -1  1    656384  ultralytics.nn.modules.block.ADown           [512, 512]                    \n",
            " 20             [-1, 9]  1         0  ultralytics.nn.modules.conv.Concat           [1]                           \n",
            " 21                  -1  1   3119616  ultralytics.nn.modules.block.RepNCSPELAN4    [1024, 512, 512, 256, 1]      \n",
            " 22        [15, 18, 21]  1   5584342  ultralytics.nn.modules.head.Detect           [2, [256, 512, 512]]          \n",
            "YOLOv9c summary: 618 layers, 25530774 parameters, 25530758 gradients, 103.7 GFLOPs\n",
            "\n",
            "Transferred 931/937 items from pretrained weights\n",
            "\u001b[34m\u001b[1mTensorBoard: \u001b[0mStart with 'tensorboard --logdir runs/test/yolov9c_trained_2_model', view at http://localhost:6006/\n",
            "Freezing layer 'model.22.dfl.conv.weight'\n",
            "\u001b[34m\u001b[1mAMP: \u001b[0mrunning Automatic Mixed Precision (AMP) checks with YOLOv8n...\n",
            "\u001b[34m\u001b[1mAMP: \u001b[0mchecks passed ✅\n"
          ]
        },
        {
          "output_type": "stream",
          "name": "stderr",
          "text": [
            "\u001b[34m\u001b[1mtrain: \u001b[0mScanning /content/drive/My Drive/Работа/Experiments/void-dataset-yolo-obb_0_2_0/train/labels.cache... 510 images, 6 backgrounds, 1 corrupt: 100%|██████████| 510/510 [00:00<?, ?it/s]"
          ]
        },
        {
          "output_type": "stream",
          "name": "stdout",
          "text": [
            "\u001b[34m\u001b[1mtrain: \u001b[0mWARNING ⚠️ /content/drive/My Drive/Работа/Experiments/void-dataset-yolo-obb_0_2_0/train/images/2130706460#1$20240216145755477.jpg: ignoring corrupt image/label: negative label values [ -0.0022205]\n"
          ]
        },
        {
          "output_type": "stream",
          "name": "stderr",
          "text": [
            "\n"
          ]
        },
        {
          "output_type": "stream",
          "name": "stdout",
          "text": [
            "\u001b[34m\u001b[1malbumentations: \u001b[0mBlur(p=0.01, blur_limit=(3, 7)), MedianBlur(p=0.01, blur_limit=(3, 7)), ToGray(p=0.01), CLAHE(p=0.01, clip_limit=(1, 4.0), tile_grid_size=(8, 8))\n"
          ]
        },
        {
          "output_type": "stream",
          "name": "stderr",
          "text": [
            "\u001b[34m\u001b[1mval: \u001b[0mScanning /content/drive/My Drive/Работа/Experiments/void-dataset-yolo-obb_0_2_0/validation/labels.cache... 155 images, 3 backgrounds, 1 corrupt: 100%|██████████| 155/155 [00:00<?, ?it/s]"
          ]
        },
        {
          "output_type": "stream",
          "name": "stdout",
          "text": [
            "\u001b[34m\u001b[1mval: \u001b[0mWARNING ⚠️ /content/drive/My Drive/Работа/Experiments/void-dataset-yolo-obb_0_2_0/validation/images/2130706450#1$20240208161333342.jpg: ignoring corrupt image/label: negative label values [ -0.0007185]\n"
          ]
        },
        {
          "output_type": "stream",
          "name": "stderr",
          "text": [
            "\n"
          ]
        },
        {
          "output_type": "stream",
          "name": "stdout",
          "text": [
            "Plotting labels to runs/test/yolov9c_trained_2_model/labels.jpg... \n",
            "\u001b[34m\u001b[1moptimizer:\u001b[0m 'optimizer=auto' found, ignoring 'lr0=0.01' and 'momentum=0.937' and determining best 'optimizer', 'lr0' and 'momentum' automatically... \n",
            "\u001b[34m\u001b[1moptimizer:\u001b[0m AdamW(lr=0.001667, momentum=0.9) with parameter groups 154 weight(decay=0.0), 161 weight(decay=0.0005), 160 bias(decay=0.0)\n",
            "\u001b[34m\u001b[1mTensorBoard: \u001b[0mmodel graph visualization added ✅\n",
            "Image sizes 640 train, 640 val\n",
            "Using 2 dataloader workers\n",
            "Logging results to \u001b[1mruns/test/yolov9c_trained_2_model\u001b[0m\n",
            "Starting training for 20 epochs...\n",
            "\n",
            "      Epoch    GPU_mem   box_loss   cls_loss   dfl_loss  Instances       Size\n"
          ]
        },
        {
          "output_type": "stream",
          "name": "stderr",
          "text": [
            "       1/20      11.2G      1.654      2.162      1.308        296        640: 100%|██████████| 32/32 [01:04<00:00,  2.03s/it]\n",
            "                 Class     Images  Instances      Box(P          R      mAP50  mAP50-95): 100%|██████████| 5/5 [00:07<00:00,  1.53s/it]"
          ]
        },
        {
          "output_type": "stream",
          "name": "stdout",
          "text": [
            "                   all        154       1735      0.523      0.534      0.501       0.26\n"
          ]
        },
        {
          "output_type": "stream",
          "name": "stderr",
          "text": [
            "\n"
          ]
        },
        {
          "output_type": "stream",
          "name": "stdout",
          "text": [
            "\n",
            "      Epoch    GPU_mem   box_loss   cls_loss   dfl_loss  Instances       Size\n"
          ]
        },
        {
          "output_type": "stream",
          "name": "stderr",
          "text": [
            "       2/20      11.3G       1.54      1.387      1.228        252        640: 100%|██████████| 32/32 [01:01<00:00,  1.92s/it]\n",
            "                 Class     Images  Instances      Box(P          R      mAP50  mAP50-95): 100%|██████████| 5/5 [00:07<00:00,  1.49s/it]"
          ]
        },
        {
          "output_type": "stream",
          "name": "stdout",
          "text": [
            "                   all        154       1735      0.194       0.52      0.173     0.0819\n"
          ]
        },
        {
          "output_type": "stream",
          "name": "stderr",
          "text": [
            "\n"
          ]
        },
        {
          "output_type": "stream",
          "name": "stdout",
          "text": [
            "\n",
            "      Epoch    GPU_mem   box_loss   cls_loss   dfl_loss  Instances       Size\n"
          ]
        },
        {
          "output_type": "stream",
          "name": "stderr",
          "text": [
            "       3/20      11.3G      1.571      1.332      1.248        176        640: 100%|██████████| 32/32 [01:00<00:00,  1.89s/it]\n",
            "                 Class     Images  Instances      Box(P          R      mAP50  mAP50-95): 100%|██████████| 5/5 [00:08<00:00,  1.66s/it]"
          ]
        },
        {
          "output_type": "stream",
          "name": "stdout",
          "text": [
            "                   all        154       1735      0.211      0.392     0.0856     0.0437\n"
          ]
        },
        {
          "output_type": "stream",
          "name": "stderr",
          "text": [
            "\n"
          ]
        },
        {
          "output_type": "stream",
          "name": "stdout",
          "text": [
            "\n",
            "      Epoch    GPU_mem   box_loss   cls_loss   dfl_loss  Instances       Size\n"
          ]
        },
        {
          "output_type": "stream",
          "name": "stderr",
          "text": [
            "       4/20      11.5G      1.554      1.281      1.236        251        640: 100%|██████████| 32/32 [01:00<00:00,  1.89s/it]\n",
            "                 Class     Images  Instances      Box(P          R      mAP50  mAP50-95): 100%|██████████| 5/5 [00:09<00:00,  1.80s/it]"
          ]
        },
        {
          "output_type": "stream",
          "name": "stdout",
          "text": [
            "                   all        154       1735      0.558      0.512      0.495      0.251\n"
          ]
        },
        {
          "output_type": "stream",
          "name": "stderr",
          "text": [
            "\n"
          ]
        },
        {
          "output_type": "stream",
          "name": "stdout",
          "text": [
            "\n",
            "      Epoch    GPU_mem   box_loss   cls_loss   dfl_loss  Instances       Size\n"
          ]
        },
        {
          "output_type": "stream",
          "name": "stderr",
          "text": [
            "       5/20      11.3G      1.478      1.222      1.202        259        640: 100%|██████████| 32/32 [01:01<00:00,  1.91s/it]\n",
            "                 Class     Images  Instances      Box(P          R      mAP50  mAP50-95): 100%|██████████| 5/5 [00:07<00:00,  1.50s/it]"
          ]
        },
        {
          "output_type": "stream",
          "name": "stdout",
          "text": [
            "                   all        154       1735       0.57      0.564      0.595      0.329\n"
          ]
        },
        {
          "output_type": "stream",
          "name": "stderr",
          "text": [
            "\n"
          ]
        },
        {
          "output_type": "stream",
          "name": "stdout",
          "text": [
            "\n",
            "      Epoch    GPU_mem   box_loss   cls_loss   dfl_loss  Instances       Size\n"
          ]
        },
        {
          "output_type": "stream",
          "name": "stderr",
          "text": [
            "       6/20      11.2G      1.443      1.135      1.191        293        640: 100%|██████████| 32/32 [01:01<00:00,  1.93s/it]\n",
            "                 Class     Images  Instances      Box(P          R      mAP50  mAP50-95): 100%|██████████| 5/5 [00:08<00:00,  1.65s/it]"
          ]
        },
        {
          "output_type": "stream",
          "name": "stdout",
          "text": [
            "                   all        154       1735      0.683      0.633      0.672      0.371\n"
          ]
        },
        {
          "output_type": "stream",
          "name": "stderr",
          "text": [
            "\n"
          ]
        },
        {
          "output_type": "stream",
          "name": "stdout",
          "text": [
            "\n",
            "      Epoch    GPU_mem   box_loss   cls_loss   dfl_loss  Instances       Size\n"
          ]
        },
        {
          "output_type": "stream",
          "name": "stderr",
          "text": [
            "       7/20      11.2G      1.421       1.08      1.155        264        640: 100%|██████████| 32/32 [01:00<00:00,  1.90s/it]\n",
            "                 Class     Images  Instances      Box(P          R      mAP50  mAP50-95): 100%|██████████| 5/5 [00:08<00:00,  1.73s/it]"
          ]
        },
        {
          "output_type": "stream",
          "name": "stdout",
          "text": [
            "                   all        154       1735      0.718       0.64      0.717      0.426\n"
          ]
        },
        {
          "output_type": "stream",
          "name": "stderr",
          "text": [
            "\n"
          ]
        },
        {
          "output_type": "stream",
          "name": "stdout",
          "text": [
            "\n",
            "      Epoch    GPU_mem   box_loss   cls_loss   dfl_loss  Instances       Size\n"
          ]
        },
        {
          "output_type": "stream",
          "name": "stderr",
          "text": [
            "       8/20      11.2G      1.379       1.02      1.157        280        640: 100%|██████████| 32/32 [01:00<00:00,  1.90s/it]\n",
            "                 Class     Images  Instances      Box(P          R      mAP50  mAP50-95): 100%|██████████| 5/5 [00:07<00:00,  1.42s/it]"
          ]
        },
        {
          "output_type": "stream",
          "name": "stdout",
          "text": [
            "                   all        154       1735      0.724      0.629      0.677      0.406\n"
          ]
        },
        {
          "output_type": "stream",
          "name": "stderr",
          "text": [
            "\n"
          ]
        },
        {
          "output_type": "stream",
          "name": "stdout",
          "text": [
            "\n",
            "      Epoch    GPU_mem   box_loss   cls_loss   dfl_loss  Instances       Size\n"
          ]
        },
        {
          "output_type": "stream",
          "name": "stderr",
          "text": [
            "       9/20      11.2G      1.344      1.027      1.132        207        640: 100%|██████████| 32/32 [01:01<00:00,  1.91s/it]\n",
            "                 Class     Images  Instances      Box(P          R      mAP50  mAP50-95): 100%|██████████| 5/5 [00:08<00:00,  1.67s/it]"
          ]
        },
        {
          "output_type": "stream",
          "name": "stdout",
          "text": [
            "                   all        154       1735      0.692      0.673      0.726      0.446\n"
          ]
        },
        {
          "output_type": "stream",
          "name": "stderr",
          "text": [
            "\n"
          ]
        },
        {
          "output_type": "stream",
          "name": "stdout",
          "text": [
            "\n",
            "      Epoch    GPU_mem   box_loss   cls_loss   dfl_loss  Instances       Size\n"
          ]
        },
        {
          "output_type": "stream",
          "name": "stderr",
          "text": [
            "      10/20      11.2G      1.276     0.9198      1.098        328        640: 100%|██████████| 32/32 [01:00<00:00,  1.88s/it]\n",
            "                 Class     Images  Instances      Box(P          R      mAP50  mAP50-95): 100%|██████████| 5/5 [00:08<00:00,  1.73s/it]"
          ]
        },
        {
          "output_type": "stream",
          "name": "stdout",
          "text": [
            "                   all        154       1735      0.773      0.694      0.765      0.473\n"
          ]
        },
        {
          "output_type": "stream",
          "name": "stderr",
          "text": [
            "\n"
          ]
        },
        {
          "output_type": "stream",
          "name": "stdout",
          "text": [
            "Closing dataloader mosaic\n",
            "\u001b[34m\u001b[1malbumentations: \u001b[0mBlur(p=0.01, blur_limit=(3, 7)), MedianBlur(p=0.01, blur_limit=(3, 7)), ToGray(p=0.01), CLAHE(p=0.01, clip_limit=(1, 4.0), tile_grid_size=(8, 8))\n",
            "\n",
            "      Epoch    GPU_mem   box_loss   cls_loss   dfl_loss  Instances       Size\n"
          ]
        },
        {
          "output_type": "stream",
          "name": "stderr",
          "text": [
            "      11/20      11.1G      1.315      1.054      1.115        149        640: 100%|██████████| 32/32 [00:57<00:00,  1.81s/it]\n",
            "                 Class     Images  Instances      Box(P          R      mAP50  mAP50-95): 100%|██████████| 5/5 [00:07<00:00,  1.53s/it]"
          ]
        },
        {
          "output_type": "stream",
          "name": "stdout",
          "text": [
            "                   all        154       1735      0.805      0.646      0.755      0.475\n"
          ]
        },
        {
          "output_type": "stream",
          "name": "stderr",
          "text": [
            "\n"
          ]
        },
        {
          "output_type": "stream",
          "name": "stdout",
          "text": [
            "\n",
            "      Epoch    GPU_mem   box_loss   cls_loss   dfl_loss  Instances       Size\n"
          ]
        },
        {
          "output_type": "stream",
          "name": "stderr",
          "text": [
            "      12/20      11.1G       1.26     0.9209      1.083        159        640: 100%|██████████| 32/32 [00:47<00:00,  1.49s/it]\n",
            "                 Class     Images  Instances      Box(P          R      mAP50  mAP50-95): 100%|██████████| 5/5 [00:08<00:00,  1.66s/it]"
          ]
        },
        {
          "output_type": "stream",
          "name": "stdout",
          "text": [
            "                   all        154       1735      0.779      0.715      0.791      0.518\n"
          ]
        },
        {
          "output_type": "stream",
          "name": "stderr",
          "text": [
            "\n"
          ]
        },
        {
          "output_type": "stream",
          "name": "stdout",
          "text": [
            "\n",
            "      Epoch    GPU_mem   box_loss   cls_loss   dfl_loss  Instances       Size\n"
          ]
        },
        {
          "output_type": "stream",
          "name": "stderr",
          "text": [
            "      13/20      11.2G      1.186     0.8732      1.064        157        640: 100%|██████████| 32/32 [00:48<00:00,  1.51s/it]\n",
            "                 Class     Images  Instances      Box(P          R      mAP50  mAP50-95): 100%|██████████| 5/5 [00:06<00:00,  1.35s/it]"
          ]
        },
        {
          "output_type": "stream",
          "name": "stdout",
          "text": [
            "                   all        154       1735      0.762      0.716      0.769      0.496\n"
          ]
        },
        {
          "output_type": "stream",
          "name": "stderr",
          "text": [
            "\n"
          ]
        },
        {
          "output_type": "stream",
          "name": "stdout",
          "text": [
            "\n",
            "      Epoch    GPU_mem   box_loss   cls_loss   dfl_loss  Instances       Size\n"
          ]
        },
        {
          "output_type": "stream",
          "name": "stderr",
          "text": [
            "      14/20      11.2G      1.196     0.8827      1.077         97        640: 100%|██████████| 32/32 [00:49<00:00,  1.54s/it]\n",
            "                 Class     Images  Instances      Box(P          R      mAP50  mAP50-95): 100%|██████████| 5/5 [00:06<00:00,  1.32s/it]"
          ]
        },
        {
          "output_type": "stream",
          "name": "stdout",
          "text": [
            "                   all        154       1735       0.78      0.666      0.752      0.486\n"
          ]
        },
        {
          "output_type": "stream",
          "name": "stderr",
          "text": [
            "\n"
          ]
        },
        {
          "output_type": "stream",
          "name": "stdout",
          "text": [
            "\n",
            "      Epoch    GPU_mem   box_loss   cls_loss   dfl_loss  Instances       Size\n"
          ]
        },
        {
          "output_type": "stream",
          "name": "stderr",
          "text": [
            "      15/20      11.1G      1.141     0.8217      1.044         85        640: 100%|██████████| 32/32 [00:47<00:00,  1.49s/it]\n",
            "                 Class     Images  Instances      Box(P          R      mAP50  mAP50-95): 100%|██████████| 5/5 [00:08<00:00,  1.62s/it]"
          ]
        },
        {
          "output_type": "stream",
          "name": "stdout",
          "text": [
            "                   all        154       1735      0.805      0.713      0.804      0.532\n"
          ]
        },
        {
          "output_type": "stream",
          "name": "stderr",
          "text": [
            "\n"
          ]
        }
      ]
    },
    {
      "cell_type": "markdown",
      "metadata": {
        "id": "Ebbs58YyEqe0"
      },
      "source": [
        "### Тест"
      ]
    },
    {
      "cell_type": "code",
      "source": [
        "model = YOLO('runs/obb/yolov8l_trained_model/weights/best.pt')"
      ],
      "metadata": {
        "id": "7WIjr_kel41s"
      },
      "execution_count": null,
      "outputs": []
    },
    {
      "cell_type": "code",
      "source": [
        "results = model.predict(source=os.path.join(dataDir, 'validation', 'images'), save=True, show_conf=False, show_labels=False)"
      ],
      "metadata": {
        "id": "xHAdcxx2l6RY"
      },
      "execution_count": null,
      "outputs": []
    },
    {
      "cell_type": "code",
      "source": [
        "model = YOLO('runs/obb/yolov8m_trained_model/weights/best.pt')"
      ],
      "metadata": {
        "id": "gO33A-DvQuqE"
      },
      "execution_count": null,
      "outputs": []
    },
    {
      "cell_type": "code",
      "source": [
        "results = model.predict(source=os.path.join(dataDir, 'validation', 'images'), save=True, show_conf=False, show_labels=False)"
      ],
      "metadata": {
        "colab": {
          "base_uri": "https://localhost:8080/"
        },
        "id": "QLqBmiAbQvw4",
        "outputId": "04597f0c-81a8-469a-e04e-808c9988095a"
      },
      "execution_count": null,
      "outputs": [
        {
          "output_type": "stream",
          "name": "stdout",
          "text": [
            "\n",
            "image 1/155 /content/drive/MyDrive/Работа/Experiments/void-dataset-yolo-obb_0_2_0/validation/images/05 утро.jpg: 384x640 108.1ms\n",
            "image 2/155 /content/drive/MyDrive/Работа/Experiments/void-dataset-yolo-obb_0_2_0/validation/images/2130706433#1$20240202170425597.jpg: 384x640 26.5ms\n",
            "image 3/155 /content/drive/MyDrive/Работа/Experiments/void-dataset-yolo-obb_0_2_0/validation/images/2130706433#1$20240207131554395.jpg: 384x640 26.5ms\n",
            "image 4/155 /content/drive/MyDrive/Работа/Experiments/void-dataset-yolo-obb_0_2_0/validation/images/2130706433#1$20240208133819084.jpg: 384x640 26.6ms\n",
            "image 5/155 /content/drive/MyDrive/Работа/Experiments/void-dataset-yolo-obb_0_2_0/validation/images/2130706433#1$20240209135630344.jpg: 384x640 26.5ms\n",
            "image 6/155 /content/drive/MyDrive/Работа/Experiments/void-dataset-yolo-obb_0_2_0/validation/images/2130706433#1$20240209135638649.jpg: 384x640 26.5ms\n",
            "image 7/155 /content/drive/MyDrive/Работа/Experiments/void-dataset-yolo-obb_0_2_0/validation/images/2130706433#1$20240216134042538.jpg: 384x640 26.6ms\n",
            "image 8/155 /content/drive/MyDrive/Работа/Experiments/void-dataset-yolo-obb_0_2_0/validation/images/2130706434#1$20240124130733324.jpg: 384x640 26.5ms\n",
            "image 9/155 /content/drive/MyDrive/Работа/Experiments/void-dataset-yolo-obb_0_2_0/validation/images/2130706434#1$20240124164051526.jpg: 384x640 26.5ms\n",
            "image 10/155 /content/drive/MyDrive/Работа/Experiments/void-dataset-yolo-obb_0_2_0/validation/images/2130706434#1$20240125114050122.jpg: 384x640 26.5ms\n",
            "image 11/155 /content/drive/MyDrive/Работа/Experiments/void-dataset-yolo-obb_0_2_0/validation/images/2130706434#1$20240125114453369.jpg: 384x640 (no detections), 26.7ms\n",
            "image 12/155 /content/drive/MyDrive/Работа/Experiments/void-dataset-yolo-obb_0_2_0/validation/images/2130706434#1$20240201144800768.jpg: 384x640 26.6ms\n",
            "image 13/155 /content/drive/MyDrive/Работа/Experiments/void-dataset-yolo-obb_0_2_0/validation/images/2130706434#1$20240214141837031.jpg: 384x640 26.5ms\n",
            "image 14/155 /content/drive/MyDrive/Работа/Experiments/void-dataset-yolo-obb_0_2_0/validation/images/2130706434#1$20240216132141957.jpg: 384x640 26.5ms\n",
            "image 15/155 /content/drive/MyDrive/Работа/Experiments/void-dataset-yolo-obb_0_2_0/validation/images/2130706434#1$20240216132200787.jpg: 384x640 26.5ms\n",
            "image 16/155 /content/drive/MyDrive/Работа/Experiments/void-dataset-yolo-obb_0_2_0/validation/images/2130706435#1$20240124154848723.jpg: 384x640 26.5ms\n",
            "image 17/155 /content/drive/MyDrive/Работа/Experiments/void-dataset-yolo-obb_0_2_0/validation/images/2130706435#1$20240125122316147.jpg: 384x640 26.5ms\n",
            "image 18/155 /content/drive/MyDrive/Работа/Experiments/void-dataset-yolo-obb_0_2_0/validation/images/2130706435#1$20240125161249706.jpg: 384x640 26.4ms\n",
            "image 19/155 /content/drive/MyDrive/Работа/Experiments/void-dataset-yolo-obb_0_2_0/validation/images/2130706435#1$20240130115743630.jpg: 384x640 26.5ms\n",
            "image 20/155 /content/drive/MyDrive/Работа/Experiments/void-dataset-yolo-obb_0_2_0/validation/images/2130706435#1$20240131164536154.jpg: 384x640 26.5ms\n",
            "image 21/155 /content/drive/MyDrive/Работа/Experiments/void-dataset-yolo-obb_0_2_0/validation/images/2130706435#1$20240201134126859.jpg: 384x640 26.4ms\n",
            "image 22/155 /content/drive/MyDrive/Работа/Experiments/void-dataset-yolo-obb_0_2_0/validation/images/2130706436#1$20240126123842058.jpg: 384x640 26.5ms\n",
            "image 23/155 /content/drive/MyDrive/Работа/Experiments/void-dataset-yolo-obb_0_2_0/validation/images/2130706436#1$20240201123900982.jpg: 384x640 26.5ms\n",
            "image 24/155 /content/drive/MyDrive/Работа/Experiments/void-dataset-yolo-obb_0_2_0/validation/images/2130706437#1$20240126121129442.jpg: 384x640 26.5ms\n",
            "image 25/155 /content/drive/MyDrive/Работа/Experiments/void-dataset-yolo-obb_0_2_0/validation/images/2130706437#1$20240129140536730.jpg: 384x640 26.4ms\n",
            "image 26/155 /content/drive/MyDrive/Работа/Experiments/void-dataset-yolo-obb_0_2_0/validation/images/2130706437#1$20240206131513576.jpg: 384x640 26.5ms\n",
            "image 27/155 /content/drive/MyDrive/Работа/Experiments/void-dataset-yolo-obb_0_2_0/validation/images/2130706437#1$20240206170250929.jpg: 384x640 26.4ms\n",
            "image 28/155 /content/drive/MyDrive/Работа/Experiments/void-dataset-yolo-obb_0_2_0/validation/images/2130706437#1$20240207123743485.jpg: 384x640 26.5ms\n",
            "image 29/155 /content/drive/MyDrive/Работа/Experiments/void-dataset-yolo-obb_0_2_0/validation/images/2130706437#1$20240207124029252.jpg: 384x640 26.5ms\n",
            "image 30/155 /content/drive/MyDrive/Работа/Experiments/void-dataset-yolo-obb_0_2_0/validation/images/2130706437#1$20240209173209037.jpg: 384x640 26.5ms\n",
            "image 31/155 /content/drive/MyDrive/Работа/Experiments/void-dataset-yolo-obb_0_2_0/validation/images/2130706437#1$20240212133713961.jpg: 384x640 26.5ms\n",
            "image 32/155 /content/drive/MyDrive/Работа/Experiments/void-dataset-yolo-obb_0_2_0/validation/images/2130706437#1$20240213133119489.jpg: 384x640 26.5ms\n",
            "image 33/155 /content/drive/MyDrive/Работа/Experiments/void-dataset-yolo-obb_0_2_0/validation/images/2130706437#1$20240214140101520.jpg: 384x640 27.4ms\n",
            "image 34/155 /content/drive/MyDrive/Работа/Experiments/void-dataset-yolo-obb_0_2_0/validation/images/2130706438#1$20240131144617061.jpg: 384x640 26.5ms\n",
            "image 35/155 /content/drive/MyDrive/Работа/Experiments/void-dataset-yolo-obb_0_2_0/validation/images/2130706438#1$20240207162601399.jpg: 384x640 26.5ms\n",
            "image 36/155 /content/drive/MyDrive/Работа/Experiments/void-dataset-yolo-obb_0_2_0/validation/images/2130706438#1$20240209124022106.jpg: 384x640 26.5ms\n",
            "image 37/155 /content/drive/MyDrive/Работа/Experiments/void-dataset-yolo-obb_0_2_0/validation/images/2130706438#1$20240209175109252.jpg: 384x640 26.5ms\n",
            "image 38/155 /content/drive/MyDrive/Работа/Experiments/void-dataset-yolo-obb_0_2_0/validation/images/2130706438#1$20240214141140422.jpg: 384x640 26.5ms\n",
            "image 39/155 /content/drive/MyDrive/Работа/Experiments/void-dataset-yolo-obb_0_2_0/validation/images/2130706438#1$20240216131840384.jpg: 384x640 26.5ms\n",
            "image 40/155 /content/drive/MyDrive/Работа/Experiments/void-dataset-yolo-obb_0_2_0/validation/images/2130706439#1$20240126175138674.jpg: 384x640 26.5ms\n",
            "image 41/155 /content/drive/MyDrive/Работа/Experiments/void-dataset-yolo-obb_0_2_0/validation/images/2130706439#1$20240214140343039.jpg: 384x640 26.6ms\n",
            "image 42/155 /content/drive/MyDrive/Работа/Experiments/void-dataset-yolo-obb_0_2_0/validation/images/2130706439#1$20240215143729820.jpg: 384x640 26.5ms\n",
            "image 43/155 /content/drive/MyDrive/Работа/Experiments/void-dataset-yolo-obb_0_2_0/validation/images/2130706440#1$20240124161945850.jpg: 384x640 26.5ms\n",
            "image 44/155 /content/drive/MyDrive/Работа/Experiments/void-dataset-yolo-obb_0_2_0/validation/images/2130706440#1$20240130114754489.jpg: 384x640 26.4ms\n",
            "image 45/155 /content/drive/MyDrive/Работа/Experiments/void-dataset-yolo-obb_0_2_0/validation/images/2130706440#1$20240201115304738.jpg: 384x640 26.5ms\n",
            "image 46/155 /content/drive/MyDrive/Работа/Experiments/void-dataset-yolo-obb_0_2_0/validation/images/2130706440#1$20240205170725981.jpg: 384x640 26.5ms\n",
            "image 47/155 /content/drive/MyDrive/Работа/Experiments/void-dataset-yolo-obb_0_2_0/validation/images/2130706440#1$20240207124209923.jpg: 384x640 26.6ms\n",
            "image 48/155 /content/drive/MyDrive/Работа/Experiments/void-dataset-yolo-obb_0_2_0/validation/images/2130706440#1$20240216131229219.jpg: 384x640 26.5ms\n",
            "image 49/155 /content/drive/MyDrive/Работа/Experiments/void-dataset-yolo-obb_0_2_0/validation/images/2130706440#1$20240216131248979.jpg: 384x640 26.5ms\n",
            "image 50/155 /content/drive/MyDrive/Работа/Experiments/void-dataset-yolo-obb_0_2_0/validation/images/2130706441#1$20240130121835621.jpg: 384x640 105.9ms\n",
            "image 51/155 /content/drive/MyDrive/Работа/Experiments/void-dataset-yolo-obb_0_2_0/validation/images/2130706441#1$20240202133716618.jpg: 384x640 26.5ms\n",
            "image 52/155 /content/drive/MyDrive/Работа/Experiments/void-dataset-yolo-obb_0_2_0/validation/images/2130706443#1$20240208131430158.jpg: 384x640 87.6ms\n",
            "image 53/155 /content/drive/MyDrive/Работа/Experiments/void-dataset-yolo-obb_0_2_0/validation/images/2130706443#1$20240209174732989.jpg: 384x640 26.9ms\n",
            "image 54/155 /content/drive/MyDrive/Работа/Experiments/void-dataset-yolo-obb_0_2_0/validation/images/2130706444#1$20240126171501922.jpg: 384x640 26.6ms\n",
            "image 55/155 /content/drive/MyDrive/Работа/Experiments/void-dataset-yolo-obb_0_2_0/validation/images/2130706444#1$20240129115937988.jpg: 384x640 26.5ms\n",
            "image 56/155 /content/drive/MyDrive/Работа/Experiments/void-dataset-yolo-obb_0_2_0/validation/images/2130706444#1$20240129130504288.jpg: 384x640 40.4ms\n",
            "image 57/155 /content/drive/MyDrive/Работа/Experiments/void-dataset-yolo-obb_0_2_0/validation/images/2130706444#1$20240201144027223.jpg: 384x640 26.5ms\n",
            "image 58/155 /content/drive/MyDrive/Работа/Experiments/void-dataset-yolo-obb_0_2_0/validation/images/2130706444#1$20240202165929859.jpg: 384x640 26.5ms\n",
            "image 59/155 /content/drive/MyDrive/Работа/Experiments/void-dataset-yolo-obb_0_2_0/validation/images/2130706444#1$20240206161843551.jpg: 384x640 26.5ms\n",
            "image 60/155 /content/drive/MyDrive/Работа/Experiments/void-dataset-yolo-obb_0_2_0/validation/images/2130706444#1$20240207130627974.jpg: 384x640 26.5ms\n",
            "image 61/155 /content/drive/MyDrive/Работа/Experiments/void-dataset-yolo-obb_0_2_0/validation/images/2130706444#1$20240209134416634.jpg: 384x640 26.5ms\n",
            "image 62/155 /content/drive/MyDrive/Работа/Experiments/void-dataset-yolo-obb_0_2_0/validation/images/2130706445#1$20240126165757263.jpg: 384x640 26.5ms\n",
            "image 63/155 /content/drive/MyDrive/Работа/Experiments/void-dataset-yolo-obb_0_2_0/validation/images/2130706445#1$20240201122252035.jpg: 384x640 26.5ms\n",
            "image 64/155 /content/drive/MyDrive/Работа/Experiments/void-dataset-yolo-obb_0_2_0/validation/images/2130706445#1$20240205130653904.jpg: 384x640 26.6ms\n",
            "image 65/155 /content/drive/MyDrive/Работа/Experiments/void-dataset-yolo-obb_0_2_0/validation/images/2130706445#1$20240207132615575.jpg: 384x640 26.7ms\n",
            "image 66/155 /content/drive/MyDrive/Работа/Experiments/void-dataset-yolo-obb_0_2_0/validation/images/2130706445#1$20240207132716413.jpg: 384x640 26.5ms\n",
            "image 67/155 /content/drive/MyDrive/Работа/Experiments/void-dataset-yolo-obb_0_2_0/validation/images/2130706445#1$20240214173600654.jpg: 384x640 26.5ms\n",
            "image 68/155 /content/drive/MyDrive/Работа/Experiments/void-dataset-yolo-obb_0_2_0/validation/images/2130706446#1$20240129135132495.jpg: 384x640 26.5ms\n",
            "image 69/155 /content/drive/MyDrive/Работа/Experiments/void-dataset-yolo-obb_0_2_0/validation/images/2130706446#1$20240202133445568.jpg: 384x640 26.5ms\n",
            "image 70/155 /content/drive/MyDrive/Работа/Experiments/void-dataset-yolo-obb_0_2_0/validation/images/2130706446#1$20240202142934866.jpg: 384x640 26.5ms\n",
            "image 71/155 /content/drive/MyDrive/Работа/Experiments/void-dataset-yolo-obb_0_2_0/validation/images/2130706446#1$20240205124730268.jpg: 384x640 26.5ms\n",
            "image 72/155 /content/drive/MyDrive/Работа/Experiments/void-dataset-yolo-obb_0_2_0/validation/images/2130706446#1$20240207153115084.jpg: 384x640 26.5ms\n",
            "image 73/155 /content/drive/MyDrive/Работа/Experiments/void-dataset-yolo-obb_0_2_0/validation/images/2130706446#1$20240209141212600.jpg: 384x640 26.4ms\n",
            "image 74/155 /content/drive/MyDrive/Работа/Experiments/void-dataset-yolo-obb_0_2_0/validation/images/2130706446#1$20240209141415260.jpg: 384x640 26.5ms\n",
            "image 75/155 /content/drive/MyDrive/Работа/Experiments/void-dataset-yolo-obb_0_2_0/validation/images/2130706446#1$20240212142708699.jpg: 384x640 26.5ms\n",
            "image 76/155 /content/drive/MyDrive/Работа/Experiments/void-dataset-yolo-obb_0_2_0/validation/images/2130706446#1$20240213142936438.jpg: 384x640 26.5ms\n",
            "image 77/155 /content/drive/MyDrive/Работа/Experiments/void-dataset-yolo-obb_0_2_0/validation/images/2130706446#1$20240214145847438.jpg: 384x640 26.5ms\n",
            "image 78/155 /content/drive/MyDrive/Работа/Experiments/void-dataset-yolo-obb_0_2_0/validation/images/2130706446#1$20240215151122864.jpg: 384x640 26.5ms\n",
            "image 79/155 /content/drive/MyDrive/Работа/Experiments/void-dataset-yolo-obb_0_2_0/validation/images/2130706447#1$20240131132400817.jpg: 384x640 26.7ms\n",
            "image 80/155 /content/drive/MyDrive/Работа/Experiments/void-dataset-yolo-obb_0_2_0/validation/images/2130706447#1$20240131132541381.jpg: 384x640 26.5ms\n",
            "image 81/155 /content/drive/MyDrive/Работа/Experiments/void-dataset-yolo-obb_0_2_0/validation/images/2130706447#1$20240205125703009.jpg: 384x640 26.4ms\n",
            "image 82/155 /content/drive/MyDrive/Работа/Experiments/void-dataset-yolo-obb_0_2_0/validation/images/2130706447#1$20240212143026594.jpg: 384x640 26.6ms\n",
            "image 83/155 /content/drive/MyDrive/Работа/Experiments/void-dataset-yolo-obb_0_2_0/validation/images/2130706447#1$20240216141038808.jpg: 384x640 26.7ms\n",
            "image 84/155 /content/drive/MyDrive/Работа/Experiments/void-dataset-yolo-obb_0_2_0/validation/images/2130706448#1$20240126133607943.jpg: 384x640 26.5ms\n",
            "image 85/155 /content/drive/MyDrive/Работа/Experiments/void-dataset-yolo-obb_0_2_0/validation/images/2130706448#1$20240205123959298.jpg: 384x640 26.5ms\n",
            "image 86/155 /content/drive/MyDrive/Работа/Experiments/void-dataset-yolo-obb_0_2_0/validation/images/2130706448#1$20240206124549734.jpg: 384x640 26.5ms\n",
            "image 87/155 /content/drive/MyDrive/Работа/Experiments/void-dataset-yolo-obb_0_2_0/validation/images/2130706448#1$20240206163822730.jpg: 384x640 26.5ms\n",
            "image 88/155 /content/drive/MyDrive/Работа/Experiments/void-dataset-yolo-obb_0_2_0/validation/images/2130706448#1$20240207132237573.jpg: 384x640 26.5ms\n",
            "image 89/155 /content/drive/MyDrive/Работа/Experiments/void-dataset-yolo-obb_0_2_0/validation/images/2130706448#1$20240208135123708.jpg: 384x640 26.4ms\n",
            "image 90/155 /content/drive/MyDrive/Работа/Experiments/void-dataset-yolo-obb_0_2_0/validation/images/2130706448#1$20240209171753588.jpg: 384x640 26.5ms\n",
            "image 91/155 /content/drive/MyDrive/Работа/Experiments/void-dataset-yolo-obb_0_2_0/validation/images/2130706448#1$20240214145019965.jpg: 384x640 26.5ms\n",
            "image 92/155 /content/drive/MyDrive/Работа/Experiments/void-dataset-yolo-obb_0_2_0/validation/images/2130706449#1$20240126141136120.jpg: 384x640 26.5ms\n",
            "image 93/155 /content/drive/MyDrive/Работа/Experiments/void-dataset-yolo-obb_0_2_0/validation/images/2130706449#1$20240208155553820.jpg: 384x640 26.6ms\n",
            "image 94/155 /content/drive/MyDrive/Работа/Experiments/void-dataset-yolo-obb_0_2_0/validation/images/2130706449#1$20240209140102283.jpg: 384x640 26.5ms\n",
            "image 95/155 /content/drive/MyDrive/Работа/Experiments/void-dataset-yolo-obb_0_2_0/validation/images/2130706449#1$20240212141856237.jpg: 384x640 26.5ms\n",
            "image 96/155 /content/drive/MyDrive/Работа/Experiments/void-dataset-yolo-obb_0_2_0/validation/images/2130706449#1$20240213142350640.jpg: 384x640 26.5ms\n",
            "image 97/155 /content/drive/MyDrive/Работа/Experiments/void-dataset-yolo-obb_0_2_0/validation/images/2130706449#1$20240216135934955.jpg: 384x640 27.1ms\n",
            "image 98/155 /content/drive/MyDrive/Работа/Experiments/void-dataset-yolo-obb_0_2_0/validation/images/2130706450#1$20240130123600653.jpg: 384x640 26.5ms\n",
            "image 99/155 /content/drive/MyDrive/Работа/Experiments/void-dataset-yolo-obb_0_2_0/validation/images/2130706450#1$20240201175917379.jpg: 384x640 51.0ms\n",
            "image 100/155 /content/drive/MyDrive/Работа/Experiments/void-dataset-yolo-obb_0_2_0/validation/images/2130706450#1$20240202122706579.jpg: 384x640 26.6ms\n",
            "image 101/155 /content/drive/MyDrive/Работа/Experiments/void-dataset-yolo-obb_0_2_0/validation/images/2130706450#1$20240202150100887.jpg: 384x640 27.5ms\n",
            "image 102/155 /content/drive/MyDrive/Работа/Experiments/void-dataset-yolo-obb_0_2_0/validation/images/2130706450#1$20240206123506420.jpg: 384x640 26.5ms\n",
            "image 103/155 /content/drive/MyDrive/Работа/Experiments/void-dataset-yolo-obb_0_2_0/validation/images/2130706450#1$20240206123520563.jpg: 384x640 26.5ms\n",
            "image 104/155 /content/drive/MyDrive/Работа/Experiments/void-dataset-yolo-obb_0_2_0/validation/images/2130706450#1$20240206123553799.jpg: 384x640 26.5ms\n",
            "image 105/155 /content/drive/MyDrive/Работа/Experiments/void-dataset-yolo-obb_0_2_0/validation/images/2130706450#1$20240208132525278.jpg: 384x640 26.5ms\n",
            "image 106/155 /content/drive/MyDrive/Работа/Experiments/void-dataset-yolo-obb_0_2_0/validation/images/2130706450#1$20240208161320881.jpg: 384x640 26.4ms\n",
            "image 107/155 /content/drive/MyDrive/Работа/Experiments/void-dataset-yolo-obb_0_2_0/validation/images/2130706450#1$20240208161333342.jpg: 384x640 26.5ms\n",
            "image 108/155 /content/drive/MyDrive/Работа/Experiments/void-dataset-yolo-obb_0_2_0/validation/images/2130706450#1$20240208161341895.jpg: 384x640 26.4ms\n",
            "image 109/155 /content/drive/MyDrive/Работа/Experiments/void-dataset-yolo-obb_0_2_0/validation/images/2130706450#1$20240209134908463.jpg: 384x640 26.6ms\n",
            "image 110/155 /content/drive/MyDrive/Работа/Experiments/void-dataset-yolo-obb_0_2_0/validation/images/2130706450#1$20240212140242550.jpg: 384x640 26.4ms\n",
            "image 111/155 /content/drive/MyDrive/Работа/Experiments/void-dataset-yolo-obb_0_2_0/validation/images/2130706450#1$20240214143543817.jpg: 384x640 26.5ms\n",
            "image 112/155 /content/drive/MyDrive/Работа/Experiments/void-dataset-yolo-obb_0_2_0/validation/images/2130706450#1$20240215145810128.jpg: 384x640 26.5ms\n",
            "image 113/155 /content/drive/MyDrive/Работа/Experiments/void-dataset-yolo-obb_0_2_0/validation/images/2130706450#1$20240216133826894.jpg: 384x640 26.6ms\n",
            "image 114/155 /content/drive/MyDrive/Работа/Experiments/void-dataset-yolo-obb_0_2_0/validation/images/2130706450#1$20240216133844963.jpg: 384x640 27.8ms\n",
            "image 115/155 /content/drive/MyDrive/Работа/Experiments/void-dataset-yolo-obb_0_2_0/validation/images/2130706451#1$20240131132742961.jpg: 384x640 26.5ms\n",
            "image 116/155 /content/drive/MyDrive/Работа/Experiments/void-dataset-yolo-obb_0_2_0/validation/images/2130706451#1$20240202131738322.jpg: 384x640 26.5ms\n",
            "image 117/155 /content/drive/MyDrive/Работа/Experiments/void-dataset-yolo-obb_0_2_0/validation/images/2130706451#1$20240205125915718.jpg: 384x640 26.5ms\n",
            "image 118/155 /content/drive/MyDrive/Работа/Experiments/void-dataset-yolo-obb_0_2_0/validation/images/2130706451#1$20240207133535178.jpg: 384x640 26.5ms\n",
            "image 119/155 /content/drive/MyDrive/Работа/Experiments/void-dataset-yolo-obb_0_2_0/validation/images/2130706451#1$20240209142029438.jpg: 384x640 26.5ms\n",
            "image 120/155 /content/drive/MyDrive/Работа/Experiments/void-dataset-yolo-obb_0_2_0/validation/images/2130706451#1$20240209181510374.jpg: 384x640 26.6ms\n",
            "image 121/155 /content/drive/MyDrive/Работа/Experiments/void-dataset-yolo-obb_0_2_0/validation/images/2130706451#1$20240212143256382.jpg: 384x640 26.5ms\n",
            "image 122/155 /content/drive/MyDrive/Работа/Experiments/void-dataset-yolo-obb_0_2_0/validation/images/2130706452#1$20240214150915497.jpg: 384x640 26.5ms\n",
            "image 123/155 /content/drive/MyDrive/Работа/Experiments/void-dataset-yolo-obb_0_2_0/validation/images/2130706452#1$20240215152840859.jpg: 384x640 26.5ms\n",
            "image 124/155 /content/drive/MyDrive/Работа/Experiments/void-dataset-yolo-obb_0_2_0/validation/images/2130706454#1$20240216144050174.jpg: 384x640 26.6ms\n",
            "image 125/155 /content/drive/MyDrive/Работа/Experiments/void-dataset-yolo-obb_0_2_0/validation/images/2130706455#1$20240214153554254.jpg: 384x640 26.5ms\n",
            "image 126/155 /content/drive/MyDrive/Работа/Experiments/void-dataset-yolo-obb_0_2_0/validation/images/2130706455#1$20240216150217233.jpg: 384x640 26.4ms\n",
            "image 127/155 /content/drive/MyDrive/Работа/Experiments/void-dataset-yolo-obb_0_2_0/validation/images/2130706456#1$20240212180556055.jpg: 384x640 26.4ms\n",
            "image 128/155 /content/drive/MyDrive/Работа/Experiments/void-dataset-yolo-obb_0_2_0/validation/images/2130706456#1$20240213151600453.jpg: 384x640 26.5ms\n",
            "image 129/155 /content/drive/MyDrive/Работа/Experiments/void-dataset-yolo-obb_0_2_0/validation/images/2130706456#1$20240214151747959.jpg: 384x640 26.5ms\n",
            "image 130/155 /content/drive/MyDrive/Работа/Experiments/void-dataset-yolo-obb_0_2_0/validation/images/2130706456#1$20240216143157772.jpg: 384x640 26.5ms\n",
            "image 131/155 /content/drive/MyDrive/Работа/Experiments/void-dataset-yolo-obb_0_2_0/validation/images/2130706457#1$20240214152341845.jpg: 384x640 26.5ms\n",
            "image 132/155 /content/drive/MyDrive/Работа/Experiments/void-dataset-yolo-obb_0_2_0/validation/images/2130706457#1$20240215155257301.jpg: 384x640 26.5ms\n",
            "image 133/155 /content/drive/MyDrive/Работа/Experiments/void-dataset-yolo-obb_0_2_0/validation/images/2130706457#1$20240216144431471.jpg: 384x640 26.5ms\n",
            "image 134/155 /content/drive/MyDrive/Работа/Experiments/void-dataset-yolo-obb_0_2_0/validation/images/2130706457#1$20240216144442733.jpg: 384x640 26.5ms\n",
            "image 135/155 /content/drive/MyDrive/Работа/Experiments/void-dataset-yolo-obb_0_2_0/validation/images/2130706457#1$20240216144510765.jpg: 384x640 26.5ms\n",
            "image 136/155 /content/drive/MyDrive/Работа/Experiments/void-dataset-yolo-obb_0_2_0/validation/images/2130706458#1$20240212180101356.jpg: 384x640 26.5ms\n",
            "image 137/155 /content/drive/MyDrive/Работа/Experiments/void-dataset-yolo-obb_0_2_0/validation/images/2130706458#1$20240215155817130.jpg: 384x640 26.5ms\n",
            "image 138/155 /content/drive/MyDrive/Работа/Experiments/void-dataset-yolo-obb_0_2_0/validation/images/2130706458#1$20240215155824079.jpg: 384x640 26.6ms\n",
            "image 139/155 /content/drive/MyDrive/Работа/Experiments/void-dataset-yolo-obb_0_2_0/validation/images/2130706459#1$20240214151118319.jpg: 384x640 26.5ms\n",
            "image 140/155 /content/drive/MyDrive/Работа/Experiments/void-dataset-yolo-obb_0_2_0/validation/images/2130706459#1$20240214151135946.jpg: 384x640 26.5ms\n",
            "image 141/155 /content/drive/MyDrive/Работа/Experiments/void-dataset-yolo-obb_0_2_0/validation/images/2130706459#1$20240216142415356.jpg: 384x640 28.5ms\n",
            "image 142/155 /content/drive/MyDrive/Работа/Experiments/void-dataset-yolo-obb_0_2_0/validation/images/2130706460#1$20240213155454394.jpg: 384x640 26.5ms\n",
            "image 143/155 /content/drive/MyDrive/Работа/Experiments/void-dataset-yolo-obb_0_2_0/validation/images/2130706460#1$20240213155629223.jpg: 384x640 26.5ms\n",
            "image 144/155 /content/drive/MyDrive/Работа/Experiments/void-dataset-yolo-obb_0_2_0/validation/images/2130706460#1$20240215161224593.jpg: 384x640 26.5ms\n",
            "image 145/155 /content/drive/MyDrive/Работа/Experiments/void-dataset-yolo-obb_0_2_0/validation/images/2130706460#1$20240215161246207.jpg: 384x640 26.5ms\n",
            "image 146/155 /content/drive/MyDrive/Работа/Experiments/void-dataset-yolo-obb_0_2_0/validation/images/2130706460#1$20240216145805039.jpg: 384x640 26.6ms\n",
            "image 147/155 /content/drive/MyDrive/Работа/Experiments/void-dataset-yolo-obb_0_2_0/validation/images/2130706460#1$20240216145828648.jpg: 384x640 26.6ms\n",
            "image 148/155 /content/drive/MyDrive/Работа/Experiments/void-dataset-yolo-obb_0_2_0/validation/images/2130706460#1$20240216150154908.jpg: 384x640 26.6ms\n",
            "image 149/155 /content/drive/MyDrive/Работа/Experiments/void-dataset-yolo-obb_0_2_0/validation/images/2130706461#1$20240213154839950.jpg: 384x640 26.5ms\n",
            "image 150/155 /content/drive/MyDrive/Работа/Experiments/void-dataset-yolo-obb_0_2_0/validation/images/2130706461#1$20240214152700189.jpg: 384x640 26.6ms\n",
            "image 151/155 /content/drive/MyDrive/Работа/Experiments/void-dataset-yolo-obb_0_2_0/validation/images/2130706461#1$20240215160331494.jpg: 384x640 26.5ms\n",
            "image 152/155 /content/drive/MyDrive/Работа/Experiments/void-dataset-yolo-obb_0_2_0/validation/images/2130706461#1$20240216145306831.jpg: 384x640 26.5ms\n",
            "image 153/155 /content/drive/MyDrive/Работа/Experiments/void-dataset-yolo-obb_0_2_0/validation/images/2130706461#1$20240216145346073.jpg: 384x640 26.5ms\n",
            "image 154/155 /content/drive/MyDrive/Работа/Experiments/void-dataset-yolo-obb_0_2_0/validation/images/2130706462#1$20240214152049418.jpg: 384x640 26.5ms\n",
            "image 155/155 /content/drive/MyDrive/Работа/Experiments/void-dataset-yolo-obb_0_2_0/validation/images/5 вечер.jpg: 384x640 26.5ms\n",
            "Speed: 2.9ms preprocess, 28.2ms inference, 3.2ms postprocess per image at shape (1, 3, 384, 640)\n",
            "Results saved to \u001b[1mruns/obb/predict\u001b[0m\n"
          ]
        }
      ]
    },
    {
      "cell_type": "code",
      "source": [
        "model = YOLO('runs/detect/yolov9c_trained_model/weights/best.pt')"
      ],
      "metadata": {
        "id": "7OB38AZ2kNhl"
      },
      "execution_count": null,
      "outputs": []
    },
    {
      "cell_type": "code",
      "source": [
        "results = model.predict(source=os.path.join(dataDir, 'validation', 'images'), save=True, show_conf=False, show_labels=False)"
      ],
      "metadata": {
        "colab": {
          "base_uri": "https://localhost:8080/"
        },
        "id": "ll-cEdjoYAnW",
        "outputId": "2e8a8b77-69f6-4d31-81ea-898a7a20dbb0"
      },
      "execution_count": null,
      "outputs": [
        {
          "output_type": "stream",
          "name": "stdout",
          "text": [
            "\n",
            "image 1/155 /content/drive/MyDrive/Работа/Experiments/void-dataset-yolo-obb_0_2_0/validation/images/05 утро.jpg: 384x640 6 voids, 3 persons, 165.7ms\n",
            "image 2/155 /content/drive/MyDrive/Работа/Experiments/void-dataset-yolo-obb_0_2_0/validation/images/2130706433#1$20240202170425597.jpg: 384x640 12 voids, 1 person, 31.9ms\n",
            "image 3/155 /content/drive/MyDrive/Работа/Experiments/void-dataset-yolo-obb_0_2_0/validation/images/2130706433#1$20240207131554395.jpg: 384x640 12 voids, 33.0ms\n",
            "image 4/155 /content/drive/MyDrive/Работа/Experiments/void-dataset-yolo-obb_0_2_0/validation/images/2130706433#1$20240208133819084.jpg: 384x640 6 voids, 32.5ms\n",
            "image 5/155 /content/drive/MyDrive/Работа/Experiments/void-dataset-yolo-obb_0_2_0/validation/images/2130706433#1$20240209135630344.jpg: 384x640 8 voids, 31.8ms\n",
            "image 6/155 /content/drive/MyDrive/Работа/Experiments/void-dataset-yolo-obb_0_2_0/validation/images/2130706433#1$20240209135638649.jpg: 384x640 10 voids, 31.8ms\n",
            "image 7/155 /content/drive/MyDrive/Работа/Experiments/void-dataset-yolo-obb_0_2_0/validation/images/2130706433#1$20240216134042538.jpg: 384x640 8 voids, 46.2ms\n",
            "image 8/155 /content/drive/MyDrive/Работа/Experiments/void-dataset-yolo-obb_0_2_0/validation/images/2130706434#1$20240124130733324.jpg: 384x640 6 persons, 40.2ms\n",
            "image 9/155 /content/drive/MyDrive/Работа/Experiments/void-dataset-yolo-obb_0_2_0/validation/images/2130706434#1$20240124164051526.jpg: 384x640 3 voids, 34.4ms\n",
            "image 10/155 /content/drive/MyDrive/Работа/Experiments/void-dataset-yolo-obb_0_2_0/validation/images/2130706434#1$20240125114050122.jpg: 384x640 1 void, 3 persons, 52.9ms\n",
            "image 11/155 /content/drive/MyDrive/Работа/Experiments/void-dataset-yolo-obb_0_2_0/validation/images/2130706434#1$20240125114453369.jpg: 384x640 1 person, 45.0ms\n",
            "image 12/155 /content/drive/MyDrive/Работа/Experiments/void-dataset-yolo-obb_0_2_0/validation/images/2130706434#1$20240201144800768.jpg: 384x640 6 voids, 4 persons, 36.3ms\n",
            "image 13/155 /content/drive/MyDrive/Работа/Experiments/void-dataset-yolo-obb_0_2_0/validation/images/2130706434#1$20240214141837031.jpg: 384x640 11 voids, 2 persons, 39.0ms\n",
            "image 14/155 /content/drive/MyDrive/Работа/Experiments/void-dataset-yolo-obb_0_2_0/validation/images/2130706434#1$20240216132141957.jpg: 384x640 8 voids, 1 person, 37.2ms\n",
            "image 15/155 /content/drive/MyDrive/Работа/Experiments/void-dataset-yolo-obb_0_2_0/validation/images/2130706434#1$20240216132200787.jpg: 384x640 5 voids, 2 persons, 48.1ms\n",
            "image 16/155 /content/drive/MyDrive/Работа/Experiments/void-dataset-yolo-obb_0_2_0/validation/images/2130706435#1$20240124154848723.jpg: 384x640 9 voids, 1 person, 40.2ms\n",
            "image 17/155 /content/drive/MyDrive/Работа/Experiments/void-dataset-yolo-obb_0_2_0/validation/images/2130706435#1$20240125122316147.jpg: 384x640 4 voids, 2 persons, 31.8ms\n",
            "image 18/155 /content/drive/MyDrive/Работа/Experiments/void-dataset-yolo-obb_0_2_0/validation/images/2130706435#1$20240125161249706.jpg: 384x640 4 voids, 2 persons, 31.8ms\n",
            "image 19/155 /content/drive/MyDrive/Работа/Experiments/void-dataset-yolo-obb_0_2_0/validation/images/2130706435#1$20240130115743630.jpg: 384x640 5 persons, 31.8ms\n",
            "image 20/155 /content/drive/MyDrive/Работа/Experiments/void-dataset-yolo-obb_0_2_0/validation/images/2130706435#1$20240131164536154.jpg: 384x640 5 persons, 32.4ms\n",
            "image 21/155 /content/drive/MyDrive/Работа/Experiments/void-dataset-yolo-obb_0_2_0/validation/images/2130706435#1$20240201134126859.jpg: 384x640 7 persons, 31.8ms\n",
            "image 22/155 /content/drive/MyDrive/Работа/Experiments/void-dataset-yolo-obb_0_2_0/validation/images/2130706436#1$20240126123842058.jpg: 384x640 8 voids, 4 persons, 31.9ms\n",
            "image 23/155 /content/drive/MyDrive/Работа/Experiments/void-dataset-yolo-obb_0_2_0/validation/images/2130706436#1$20240201123900982.jpg: 384x640 2 voids, 2 persons, 39.0ms\n",
            "image 24/155 /content/drive/MyDrive/Работа/Experiments/void-dataset-yolo-obb_0_2_0/validation/images/2130706437#1$20240126121129442.jpg: 384x640 12 voids, 2 persons, 41.1ms\n",
            "image 25/155 /content/drive/MyDrive/Работа/Experiments/void-dataset-yolo-obb_0_2_0/validation/images/2130706437#1$20240129140536730.jpg: 384x640 3 voids, 2 persons, 31.8ms\n",
            "image 26/155 /content/drive/MyDrive/Работа/Experiments/void-dataset-yolo-obb_0_2_0/validation/images/2130706437#1$20240206131513576.jpg: 384x640 3 voids, 11 persons, 31.8ms\n",
            "image 27/155 /content/drive/MyDrive/Работа/Experiments/void-dataset-yolo-obb_0_2_0/validation/images/2130706437#1$20240206170250929.jpg: 384x640 6 voids, 2 persons, 59.0ms\n",
            "image 28/155 /content/drive/MyDrive/Работа/Experiments/void-dataset-yolo-obb_0_2_0/validation/images/2130706437#1$20240207123743485.jpg: 384x640 7 voids, 7 persons, 31.8ms\n",
            "image 29/155 /content/drive/MyDrive/Работа/Experiments/void-dataset-yolo-obb_0_2_0/validation/images/2130706437#1$20240207124029252.jpg: 384x640 1 void, 34.4ms\n",
            "image 30/155 /content/drive/MyDrive/Работа/Experiments/void-dataset-yolo-obb_0_2_0/validation/images/2130706437#1$20240209173209037.jpg: 384x640 5 voids, 1 person, 31.8ms\n",
            "image 31/155 /content/drive/MyDrive/Работа/Experiments/void-dataset-yolo-obb_0_2_0/validation/images/2130706437#1$20240212133713961.jpg: 384x640 7 voids, 1 person, 31.8ms\n",
            "image 32/155 /content/drive/MyDrive/Работа/Experiments/void-dataset-yolo-obb_0_2_0/validation/images/2130706437#1$20240213133119489.jpg: 384x640 5 voids, 4 persons, 32.2ms\n",
            "image 33/155 /content/drive/MyDrive/Работа/Experiments/void-dataset-yolo-obb_0_2_0/validation/images/2130706437#1$20240214140101520.jpg: 384x640 11 voids, 5 persons, 31.8ms\n",
            "image 34/155 /content/drive/MyDrive/Работа/Experiments/void-dataset-yolo-obb_0_2_0/validation/images/2130706438#1$20240131144617061.jpg: 384x640 9 voids, 1 person, 50.7ms\n",
            "image 35/155 /content/drive/MyDrive/Работа/Experiments/void-dataset-yolo-obb_0_2_0/validation/images/2130706438#1$20240207162601399.jpg: 384x640 3 voids, 4 persons, 33.2ms\n",
            "image 36/155 /content/drive/MyDrive/Работа/Experiments/void-dataset-yolo-obb_0_2_0/validation/images/2130706438#1$20240209124022106.jpg: 384x640 11 voids, 1 person, 32.0ms\n",
            "image 37/155 /content/drive/MyDrive/Работа/Experiments/void-dataset-yolo-obb_0_2_0/validation/images/2130706438#1$20240209175109252.jpg: 384x640 12 voids, 4 persons, 32.6ms\n",
            "image 38/155 /content/drive/MyDrive/Работа/Experiments/void-dataset-yolo-obb_0_2_0/validation/images/2130706438#1$20240214141140422.jpg: 384x640 11 voids, 1 person, 33.6ms\n",
            "image 39/155 /content/drive/MyDrive/Работа/Experiments/void-dataset-yolo-obb_0_2_0/validation/images/2130706438#1$20240216131840384.jpg: 384x640 19 voids, 1 person, 38.7ms\n",
            "image 40/155 /content/drive/MyDrive/Работа/Experiments/void-dataset-yolo-obb_0_2_0/validation/images/2130706439#1$20240126175138674.jpg: 384x640 3 persons, 31.8ms\n",
            "image 41/155 /content/drive/MyDrive/Работа/Experiments/void-dataset-yolo-obb_0_2_0/validation/images/2130706439#1$20240214140343039.jpg: 384x640 19 voids, 1 person, 31.8ms\n",
            "image 42/155 /content/drive/MyDrive/Работа/Experiments/void-dataset-yolo-obb_0_2_0/validation/images/2130706439#1$20240215143729820.jpg: 384x640 16 voids, 1 person, 31.8ms\n",
            "image 43/155 /content/drive/MyDrive/Работа/Experiments/void-dataset-yolo-obb_0_2_0/validation/images/2130706440#1$20240124161945850.jpg: 384x640 6 voids, 33.6ms\n",
            "image 44/155 /content/drive/MyDrive/Работа/Experiments/void-dataset-yolo-obb_0_2_0/validation/images/2130706440#1$20240130114754489.jpg: 384x640 7 voids, 1 person, 31.8ms\n",
            "image 45/155 /content/drive/MyDrive/Работа/Experiments/void-dataset-yolo-obb_0_2_0/validation/images/2130706440#1$20240201115304738.jpg: 384x640 7 voids, 31.8ms\n",
            "image 46/155 /content/drive/MyDrive/Работа/Experiments/void-dataset-yolo-obb_0_2_0/validation/images/2130706440#1$20240205170725981.jpg: 384x640 5 voids, 1 person, 44.8ms\n",
            "image 47/155 /content/drive/MyDrive/Работа/Experiments/void-dataset-yolo-obb_0_2_0/validation/images/2130706440#1$20240207124209923.jpg: 384x640 3 voids, 4 persons, 65.0ms\n",
            "image 48/155 /content/drive/MyDrive/Работа/Experiments/void-dataset-yolo-obb_0_2_0/validation/images/2130706440#1$20240216131229219.jpg: 384x640 3 voids, 1 person, 32.5ms\n",
            "image 49/155 /content/drive/MyDrive/Работа/Experiments/void-dataset-yolo-obb_0_2_0/validation/images/2130706440#1$20240216131248979.jpg: 384x640 6 voids, 35.3ms\n",
            "image 50/155 /content/drive/MyDrive/Работа/Experiments/void-dataset-yolo-obb_0_2_0/validation/images/2130706441#1$20240130121835621.jpg: 384x640 8 voids, 1 person, 32.0ms\n",
            "image 51/155 /content/drive/MyDrive/Работа/Experiments/void-dataset-yolo-obb_0_2_0/validation/images/2130706441#1$20240202133716618.jpg: 384x640 12 voids, 1 person, 31.8ms\n",
            "image 52/155 /content/drive/MyDrive/Работа/Experiments/void-dataset-yolo-obb_0_2_0/validation/images/2130706443#1$20240208131430158.jpg: 384x640 1 void, 16 persons, 53.9ms\n",
            "image 53/155 /content/drive/MyDrive/Работа/Experiments/void-dataset-yolo-obb_0_2_0/validation/images/2130706443#1$20240209174732989.jpg: 384x640 3 voids, 4 persons, 48.0ms\n",
            "image 54/155 /content/drive/MyDrive/Работа/Experiments/void-dataset-yolo-obb_0_2_0/validation/images/2130706444#1$20240126171501922.jpg: 384x640 1 void, 2 persons, 39.8ms\n",
            "image 55/155 /content/drive/MyDrive/Работа/Experiments/void-dataset-yolo-obb_0_2_0/validation/images/2130706444#1$20240129115937988.jpg: 384x640 5 voids, 36.0ms\n",
            "image 56/155 /content/drive/MyDrive/Работа/Experiments/void-dataset-yolo-obb_0_2_0/validation/images/2130706444#1$20240129130504288.jpg: 384x640 3 voids, 1 person, 41.6ms\n",
            "image 57/155 /content/drive/MyDrive/Работа/Experiments/void-dataset-yolo-obb_0_2_0/validation/images/2130706444#1$20240201144027223.jpg: 384x640 12 voids, 36.2ms\n",
            "image 58/155 /content/drive/MyDrive/Работа/Experiments/void-dataset-yolo-obb_0_2_0/validation/images/2130706444#1$20240202165929859.jpg: 384x640 21 voids, 35.9ms\n",
            "image 59/155 /content/drive/MyDrive/Работа/Experiments/void-dataset-yolo-obb_0_2_0/validation/images/2130706444#1$20240206161843551.jpg: 384x640 12 voids, 1 person, 42.1ms\n",
            "image 60/155 /content/drive/MyDrive/Работа/Experiments/void-dataset-yolo-obb_0_2_0/validation/images/2130706444#1$20240207130627974.jpg: 384x640 12 voids, 50.5ms\n",
            "image 61/155 /content/drive/MyDrive/Работа/Experiments/void-dataset-yolo-obb_0_2_0/validation/images/2130706444#1$20240209134416634.jpg: 384x640 5 voids, 34.2ms\n",
            "image 62/155 /content/drive/MyDrive/Работа/Experiments/void-dataset-yolo-obb_0_2_0/validation/images/2130706445#1$20240126165757263.jpg: 384x640 9 voids, 4 persons, 31.8ms\n",
            "image 63/155 /content/drive/MyDrive/Работа/Experiments/void-dataset-yolo-obb_0_2_0/validation/images/2130706445#1$20240201122252035.jpg: 384x640 3 voids, 5 persons, 32.1ms\n",
            "image 64/155 /content/drive/MyDrive/Работа/Experiments/void-dataset-yolo-obb_0_2_0/validation/images/2130706445#1$20240205130653904.jpg: 384x640 2 voids, 6 persons, 35.7ms\n",
            "image 65/155 /content/drive/MyDrive/Работа/Experiments/void-dataset-yolo-obb_0_2_0/validation/images/2130706445#1$20240207132615575.jpg: 384x640 3 voids, 3 persons, 31.8ms\n",
            "image 66/155 /content/drive/MyDrive/Работа/Experiments/void-dataset-yolo-obb_0_2_0/validation/images/2130706445#1$20240207132716413.jpg: 384x640 4 voids, 5 persons, 175.9ms\n",
            "WARNING ⚠️ NMS time limit 2.050s exceeded\n",
            "image 67/155 /content/drive/MyDrive/Работа/Experiments/void-dataset-yolo-obb_0_2_0/validation/images/2130706445#1$20240214173600654.jpg: 384x640 2 voids, 112167.8ms\n"
          ]
        }
      ]
    },
    {
      "cell_type": "code",
      "execution_count": null,
      "metadata": {
        "id": "IEyKrUq7Eqe1"
      },
      "outputs": [],
      "source": [
        "# pred = glob.glob('runs/obb/predict/*')\n",
        "# n = 5\n",
        "# num_rows = len(pred) // 5"
      ]
    },
    {
      "cell_type": "code",
      "execution_count": null,
      "metadata": {
        "id": "reyFLDXKEqe1"
      },
      "outputs": [],
      "source": [
        "# fig, axs = plt.subplots(num_rows, n, figsize=(25, 5 * num_rows))\n",
        "\n",
        "# for i in range(num_rows):\n",
        "#     for j in range(n):\n",
        "#         idx = i * n + j\n",
        "\n",
        "#         if idx < len(pred):\n",
        "#             image = Image.open(pred[idx])\n",
        "#             axs[i, j].imshow(image)\n",
        "#             axs[i, j].grid(False)\n",
        "#             axs[i, j].axis('off')\n",
        "\n",
        "# plt.show()"
      ]
    },
    {
      "cell_type": "code",
      "execution_count": null,
      "metadata": {
        "id": "2D0OFItSEqe1"
      },
      "outputs": [],
      "source": []
    }
  ],
  "metadata": {
    "accelerator": "GPU",
    "colab": {
      "gpuType": "T4",
      "provenance": [],
      "collapsed_sections": [
        "kV6FWzvKWiJk",
        "Q8LhdXHzEqey"
      ]
    },
    "kernelspec": {
      "display_name": "Python 3",
      "name": "python3"
    },
    "language_info": {
      "codemirror_mode": {
        "name": "ipython",
        "version": 3
      },
      "file_extension": ".py",
      "mimetype": "text/x-python",
      "name": "python",
      "nbconvert_exporter": "python",
      "pygments_lexer": "ipython3",
      "version": "3.12.0"
    }
  },
  "nbformat": 4,
  "nbformat_minor": 0
}